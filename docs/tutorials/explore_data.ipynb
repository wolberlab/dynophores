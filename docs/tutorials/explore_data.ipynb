{
 "cells": [
  {
   "cell_type": "markdown",
   "id": "searching-joyce",
   "metadata": {},
   "source": [
    "# Explore the data structure of a dynophore\n",
    "\n",
    "- A __dynophore__ (defined in the `Dynophore` class) is a collection of so-called __superfeatures__ (defined in the `SuperFeature` class). A superfeature is defined as a pharmacophore feature on ligand site (defined by a feature type, e.g. HBA, and one or more ligand atom numbers/serials) that occurs at least once during and MD simulation. \n",
    "- A superfeature can have one or more interaction partner(s) on macromolecule-side. These interaction partners are called __environmental partners__ (defined in the `EnvPartner` class). \n",
    "- Each superfeature is described in 3D with a chemical feature point cloud (`ChemicalFeatureCloud3D` class).\n",
    "- Additionally, the dynophore contains information about the bound ligand in the `Ligand` class.\n",
    "\n",
    "In this notebook, we will explore the `Dynophore`, `Ligand`, `SuperFeature`, `EnvPartner`, and `ChemicalFeatureCloud3D` classes."
   ]
  },
  {
   "cell_type": "code",
   "execution_count": 1,
   "id": "harmful-phrase",
   "metadata": {
    "tags": []
   },
   "outputs": [],
   "source": [
    "%load_ext autoreload\n",
    "%autoreload 2"
   ]
  },
  {
   "cell_type": "code",
   "execution_count": 2,
   "id": "juvenile-enterprise",
   "metadata": {},
   "outputs": [
    {
     "data": {
      "application/vnd.jupyter.widget-view+json": {
       "model_id": "208ef0ed490843bb91230a1dcd3b3c05",
       "version_major": 2,
       "version_minor": 0
      },
      "text/plain": []
     },
     "metadata": {},
     "output_type": "display_data"
    }
   ],
   "source": [
    "from pathlib import Path\n",
    "import logging\n",
    "\n",
    "from dynophores import Dynophore"
   ]
  },
  {
   "cell_type": "code",
   "execution_count": 3,
   "id": "conscious-aquarium",
   "metadata": {},
   "outputs": [],
   "source": [
    "logger = logging.getLogger(\"dynophores\")\n",
    "logger.setLevel(logging.DEBUG)"
   ]
  },
  {
   "cell_type": "markdown",
   "id": "conventional-court",
   "metadata": {},
   "source": [
    "## Set path to `DynophoreApp` output data folder"
   ]
  },
  {
   "cell_type": "code",
   "execution_count": 4,
   "id": "meaningful-czech",
   "metadata": {},
   "outputs": [],
   "source": [
    "DATA = Path(\"../../dynophores/tests/data\")\n",
    "dyno_path = DATA / \"out\""
   ]
  },
  {
   "cell_type": "markdown",
   "id": "alive-superior",
   "metadata": {},
   "source": [
    "## Load data as `Dynophore` object"
   ]
  },
  {
   "cell_type": "code",
   "execution_count": 5,
   "id": "published-microphone",
   "metadata": {},
   "outputs": [],
   "source": [
    "dynophore = Dynophore.from_dir(dyno_path)"
   ]
  },
  {
   "cell_type": "markdown",
   "id": "framed-johns",
   "metadata": {},
   "source": [
    "## List object attributes"
   ]
  },
  {
   "cell_type": "markdown",
   "id": "willing-primary",
   "metadata": {},
   "source": [
    "### `Dynophore` object attributes"
   ]
  },
  {
   "cell_type": "code",
   "execution_count": 6,
   "id": "weighted-toilet",
   "metadata": {
    "tags": []
   },
   "outputs": [
    {
     "data": {
      "text/plain": [
       "{'id': 'dynophore_1KE7',\n",
       " 'ligand': <dynophores.core.ligand.Ligand at 0x7efe50678d90>,\n",
       " 'superfeatures': {'HBA[4618]': <dynophores.core.superfeature.SuperFeature at 0x7efe50673cd0>,\n",
       "  'AR[4605,4607,4603,4606,4604]': <dynophores.core.superfeature.SuperFeature at 0x7efe506202e0>,\n",
       "  'HBD[4598]': <dynophores.core.superfeature.SuperFeature at 0x7efe50620490>,\n",
       "  'HBA[4606]': <dynophores.core.superfeature.SuperFeature at 0x7efe506203d0>,\n",
       "  'AR[4622,4615,4623,4613,4614,4621]': <dynophores.core.superfeature.SuperFeature at 0x7efdee98ce50>,\n",
       "  'HBD[4612]': <dynophores.core.superfeature.SuperFeature at 0x7efe40bd4730>,\n",
       "  'HBA[4619]': <dynophores.core.superfeature.SuperFeature at 0x7efe40bd57f0>,\n",
       "  'HBA[4596]': <dynophores.core.superfeature.SuperFeature at 0x7efe40bd77c0>,\n",
       "  'H[4615,4623,4622,4613,4621,4614]': <dynophores.core.superfeature.SuperFeature at 0x7efe40f19880>,\n",
       "  'H[4599,4602,4601,4608,4609,4600]': <dynophores.core.superfeature.SuperFeature at 0x7efe40efe220>}}"
      ]
     },
     "execution_count": 6,
     "metadata": {},
     "output_type": "execute_result"
    }
   ],
   "source": [
    "dynophore.__dict__"
   ]
  },
  {
   "cell_type": "code",
   "execution_count": 7,
   "id": "critical-pontiac",
   "metadata": {},
   "outputs": [
    {
     "data": {
      "text/plain": [
       "dict_keys(['id', 'ligand', 'superfeatures'])"
      ]
     },
     "execution_count": 7,
     "metadata": {},
     "output_type": "execute_result"
    }
   ],
   "source": [
    "dynophore.__dict__.keys()\n",
    "# NBVAL_CHECK_OUTPUT"
   ]
  },
  {
   "cell_type": "markdown",
   "id": "accepted-miracle",
   "metadata": {},
   "source": [
    "A `Dynophore` object contains: \n",
    "\n",
    "- `id`: Dynophore identifier (name) \n",
    "- `ligand`: Ligand information\n",
    "- `superfeatures`: Superfeature data (`SuperFeature` objects)"
   ]
  },
  {
   "cell_type": "code",
   "execution_count": 8,
   "id": "eligible-round",
   "metadata": {},
   "outputs": [
    {
     "name": "stdout",
     "output_type": "stream",
     "text": [
      "Number of superfeatures: 10\n"
     ]
    }
   ],
   "source": [
    "print(f\"Number of superfeatures: {len(dynophore.superfeatures)}\")\n",
    "# NBVAL_CHECK_OUTPUT"
   ]
  },
  {
   "cell_type": "markdown",
   "id": "70266691-ceed-4ade-8067-d65202b5d694",
   "metadata": {},
   "source": [
    "### `Ligand` object attributes"
   ]
  },
  {
   "cell_type": "code",
   "execution_count": 11,
   "id": "5c73bce9-d221-4330-bec7-1bfe99be002d",
   "metadata": {},
   "outputs": [
    {
     "data": {
      "text/plain": [
       "dict_keys(['name', 'smiles', 'mdl_mol_buffer', 'atom_serials'])"
      ]
     },
     "execution_count": 11,
     "metadata": {},
     "output_type": "execute_result"
    }
   ],
   "source": [
    "dynophore.ligand.__dict__.keys()\n",
    "# NBVAL_CHECK_OUTPUT"
   ]
  },
  {
   "cell_type": "code",
   "execution_count": 12,
   "id": "eecf6d44-dd94-4fee-969b-7bee8791fbd2",
   "metadata": {},
   "outputs": [
    {
     "data": {
      "text/plain": [
       "'LS3'"
      ]
     },
     "execution_count": 12,
     "metadata": {},
     "output_type": "execute_result"
    }
   ],
   "source": [
    "dynophore.ligand.name\n",
    "# NBVAL_CHECK_OUTPUT"
   ]
  },
  {
   "cell_type": "code",
   "execution_count": 13,
   "id": "94068e72-ac1a-4844-a11c-39111d4f12e2",
   "metadata": {},
   "outputs": [
    {
     "data": {
      "text/plain": [
       "'S5(=O)(=O)CC4C(=CC=C(NC=C3C(=O)NC2C3=CC(C1OC=NC=1)=CC=2)C=4)C5'"
      ]
     },
     "execution_count": 13,
     "metadata": {},
     "output_type": "execute_result"
    }
   ],
   "source": [
    "dynophore.ligand.smiles\n",
    "# NBVAL_CHECK_OUTPUT"
   ]
  },
  {
   "cell_type": "code",
   "execution_count": 15,
   "id": "c3c5195c-1960-42e6-9966-e7cc1fcd4824",
   "metadata": {},
   "outputs": [
    {
     "name": "stdout",
     "output_type": "stream",
     "text": [
      "[4617, 4604, 4618, 4619, 4596, 4606, 4598, 4612, 4605, 4603, 4597, 4599, 4607, 4613, 4602, 4609, 4615, 4621, 4600, 4614, 4623, 4608, 4601, 4622, 4610, 4616, 4620, 4611, -1, -1, -1, -1, -1, -1, -1, -1, -1, -1, -1, -1, -1, -1, -1]\n"
     ]
    }
   ],
   "source": [
    "print(dynophore.ligand.atom_serials)\n",
    "# NBVAL_CHECK_OUTPUT"
   ]
  },
  {
   "cell_type": "markdown",
   "id": "818ff583-ea40-4d75-956f-9fef57952124",
   "metadata": {},
   "source": [
    "**Note**: \"-1\" in case of atoms without serials (e.g. H atoms)"
   ]
  },
  {
   "cell_type": "code",
   "execution_count": 19,
   "id": "f858c258-a64b-42dc-9ca2-82ab835b8523",
   "metadata": {},
   "outputs": [
    {
     "data": {
      "image/png": "[encoded data removed]",
      "text/plain": [
       "<rdkit.Chem.rdchem.Mol at 0x7efe37311e20>"
      ]
     },
     "execution_count": 19,
     "metadata": {},
     "output_type": "execute_result"
    }
   ],
   "source": [
    "dynophore.ligand.rdkit_molecule()"
   ]
  },
  {
   "cell_type": "markdown",
   "id": "purple-frame",
   "metadata": {},
   "source": [
    "### `SuperFeature` object attributes"
   ]
  },
  {
   "cell_type": "markdown",
   "id": "greater-recovery",
   "metadata": {},
   "source": [
    "Let's take a look at one example `SuperFeature` object."
   ]
  },
  {
   "cell_type": "code",
   "execution_count": 9,
   "id": "informational-puzzle",
   "metadata": {},
   "outputs": [
    {
     "data": {
      "text/plain": [
       "'HBA[4618]'"
      ]
     },
     "execution_count": 9,
     "metadata": {},
     "output_type": "execute_result"
    }
   ],
   "source": [
    "superfeature_id = list(dynophore.superfeatures.keys())[0]\n",
    "superfeature_id"
   ]
  },
  {
   "cell_type": "code",
   "execution_count": 10,
   "id": "e1b8e4b4-e3ce-459d-bcc5-e798fdbcdc78",
   "metadata": {},
   "outputs": [
    {
     "data": {
      "text/plain": [
       "{'HBA[4618]': <dynophores.core.superfeature.SuperFeature at 0x7f050f639f10>,\n",
       " 'AR[4605,4607,4603,4606,4604]': <dynophores.core.superfeature.SuperFeature at 0x7f050f639dc0>,\n",
       " 'HBD[4598]': <dynophores.core.superfeature.SuperFeature at 0x7f055986d040>,\n",
       " 'HBA[4606]': <dynophores.core.superfeature.SuperFeature at 0x7f055986d190>,\n",
       " 'AR[4622,4615,4623,4613,4614,4621]': <dynophores.core.superfeature.SuperFeature at 0x7f055986d640>,\n",
       " 'HBD[4612]': <dynophores.core.superfeature.SuperFeature at 0x7f055986dee0>,\n",
       " 'HBA[4619]': <dynophores.core.superfeature.SuperFeature at 0x7f055986efa0>,\n",
       " 'HBA[4596]': <dynophores.core.superfeature.SuperFeature at 0x7f0559871f70>,\n",
       " 'H[4615,4623,4622,4613,4621,4614]': <dynophores.core.superfeature.SuperFeature at 0x7f0559b72070>,\n",
       " 'H[4599,4602,4601,4608,4609,4600]': <dynophores.core.superfeature.SuperFeature at 0x7f0559b9c9d0>}"
      ]
     },
     "execution_count": 10,
     "metadata": {},
     "output_type": "execute_result"
    }
   ],
   "source": [
    "dynophore.superfeatures"
   ]
  },
  {
   "cell_type": "code",
   "execution_count": 11,
   "id": "stunning-residence",
   "metadata": {},
   "outputs": [
    {
     "data": {
      "text/plain": [
       "dict_keys(['id', 'feature_type', 'atom_numbers', 'occurrences', 'envpartners', 'color', 'cloud'])"
      ]
     },
     "execution_count": 11,
     "metadata": {},
     "output_type": "execute_result"
    }
   ],
   "source": [
    "dynophore.superfeatures[superfeature_id].__dict__.keys()\n",
    "# NBVAL_CHECK_OUTPUT"
   ]
  },
  {
   "cell_type": "markdown",
   "id": "mineral-distribution",
   "metadata": {},
   "source": [
    "A `SuperFeature` object contains:\n",
    "\n",
    "- `id`: Superfeature identifier (nomenclature: `<feature_type><list of atom numbers>`)\n",
    "- `feature_type`: Feature type (e.g. HBA, HBD, H, AR, ...)\n",
    "- `atom_numbers`: Number(s) of ligand atom(s) that are involved in feature\n",
    "- `occurrences`: Superfeature occurrences during an MD simulation (0/1 for absent/present)\n",
    "- `envpartners`: Environmental partners on the macromolecule-side that involved in the superfeature (either at the same time or not)\n",
    "- `cloud`: Chemical feature cloud in 3D (coordinates of each occurring feature during an MD simulation that belongs to the superfeature)"
   ]
  },
  {
   "cell_type": "code",
   "execution_count": 12,
   "id": "cosmetic-bidder",
   "metadata": {},
   "outputs": [
    {
     "name": "stdout",
     "output_type": "stream",
     "text": [
      "Number of environmental partners: 28\n"
     ]
    }
   ],
   "source": [
    "n_envpartners = sum(\n",
    "    [len(superfeature.envpartners) for _, superfeature in dynophore.superfeatures.items()]\n",
    ")\n",
    "print(f\"Number of environmental partners: {n_envpartners}\")\n",
    "# NBVAL_CHECK_OUTPUT"
   ]
  },
  {
   "cell_type": "markdown",
   "id": "secure-shape",
   "metadata": {},
   "source": [
    "### `EnvPartner` object attributes"
   ]
  },
  {
   "cell_type": "markdown",
   "id": "assigned-uncle",
   "metadata": {},
   "source": [
    "Let's take a look at one example `EnvPartner` object."
   ]
  },
  {
   "cell_type": "code",
   "execution_count": 13,
   "id": "foster-difficulty",
   "metadata": {},
   "outputs": [
    {
     "data": {
      "text/plain": [
       "'LYS-20-A[316]'"
      ]
     },
     "execution_count": 13,
     "metadata": {},
     "output_type": "execute_result"
    }
   ],
   "source": [
    "envpartner_id = list(dynophore.superfeatures[superfeature_id].envpartners.keys())[0]\n",
    "envpartner_id"
   ]
  },
  {
   "cell_type": "code",
   "execution_count": 14,
   "id": "retired-owner",
   "metadata": {},
   "outputs": [
    {
     "data": {
      "text/plain": [
       "dict_keys(['id', 'residue_name', 'residue_number', 'chain', 'atom_numbers', 'occurrences', 'distances'])"
      ]
     },
     "execution_count": 14,
     "metadata": {},
     "output_type": "execute_result"
    }
   ],
   "source": [
    "dynophore.superfeatures[superfeature_id].envpartners[envpartner_id].__dict__.keys()\n",
    "# NBVAL_CHECK_OUTPUT"
   ]
  },
  {
   "cell_type": "markdown",
   "id": "possible-family",
   "metadata": {},
   "source": [
    "A `EnvPartner` object contains:\n",
    "\n",
    "- `id`: environmental partner identifier (nomenclature: `<residue name>-<residue number>-<chain><list of atom numbers>`)\n",
    "- `residue_name`: residue name\n",
    "- `residue_number`: residue number\n",
    "- `chain`: chain ID\n",
    "- `atom_numbers`: number(s) of residue atom(s) that are involved in feature\n",
    "- `occurrences`: interaction occurrences during an MD (0/1 for absent/present) between ligand and residue atoms\n",
    "- `distances`: interaction distances between the involved atoms on ligand- and macromolecule-side during an MD"
   ]
  },
  {
   "cell_type": "markdown",
   "id": "assumed-given",
   "metadata": {},
   "source": [
    "### `ChemicalFeatureCloud3D` object attributes"
   ]
  },
  {
   "cell_type": "code",
   "execution_count": 15,
   "id": "charming-immigration",
   "metadata": {},
   "outputs": [
    {
     "data": {
      "text/plain": [
       "{'center': array([-18.507637 ,  -8.405735 ,   1.5362723]),\n",
       " 'points': [<dynophores.core.chemicalfeaturecloud3dpoint.ChemicalFeatureCloud3DPoint at 0x7f050f639bb0>,\n",
       "  <dynophores.core.chemicalfeaturecloud3dpoint.ChemicalFeatureCloud3DPoint at 0x7f050f639fd0>]}"
      ]
     },
     "execution_count": 15,
     "metadata": {},
     "output_type": "execute_result"
    }
   ],
   "source": [
    "dynophore.superfeatures[superfeature_id].cloud.__dict__"
   ]
  },
  {
   "cell_type": "code",
   "execution_count": 16,
   "id": "trained-spread",
   "metadata": {},
   "outputs": [
    {
     "data": {
      "text/plain": [
       "dict_keys(['center', 'points'])"
      ]
     },
     "execution_count": 16,
     "metadata": {},
     "output_type": "execute_result"
    }
   ],
   "source": [
    "dynophore.superfeatures[superfeature_id].cloud.__dict__.keys()\n",
    "# NBVAL_CHECK_OUTPUT"
   ]
  },
  {
   "cell_type": "markdown",
   "id": "settled-cleanup",
   "metadata": {},
   "source": [
    "A `ChemicalFeatureCloud3D` object contains:\n",
    "\n",
    "- `center`: The coordinates of the geometric center of all points in the point cloud\n",
    "- `points`: The coordiantes of all points in the point cloud"
   ]
  },
  {
   "cell_type": "markdown",
   "id": "meaning-grain",
   "metadata": {},
   "source": [
    "## Dynophore basics"
   ]
  },
  {
   "cell_type": "markdown",
   "id": "norman-ladder",
   "metadata": {},
   "source": [
    "### Dynophore identifier"
   ]
  },
  {
   "cell_type": "code",
   "execution_count": 17,
   "id": "hidden-waterproof",
   "metadata": {},
   "outputs": [
    {
     "name": "stdout",
     "output_type": "stream",
     "text": [
      "Dynophore name: dynophore_1KE7\n"
     ]
    }
   ],
   "source": [
    "print(f\"Dynophore name: {dynophore.id}\")"
   ]
  },
  {
   "cell_type": "markdown",
   "id": "supposed-profile",
   "metadata": {},
   "source": [
    "### Number of frames"
   ]
  },
  {
   "cell_type": "code",
   "execution_count": 18,
   "id": "invisible-carbon",
   "metadata": {},
   "outputs": [
    {
     "name": "stdout",
     "output_type": "stream",
     "text": [
      "Number of MD simulation frames: 1002\n"
     ]
    }
   ],
   "source": [
    "print(f\"Number of MD simulation frames: {dynophore.n_frames}\")"
   ]
  },
  {
   "cell_type": "markdown",
   "id": "varied-smith",
   "metadata": {},
   "source": [
    "### Number of superfeatures"
   ]
  },
  {
   "cell_type": "code",
   "execution_count": 19,
   "id": "fabulous-collar",
   "metadata": {},
   "outputs": [
    {
     "name": "stdout",
     "output_type": "stream",
     "text": [
      "Number of superfeatures: 10\n"
     ]
    }
   ],
   "source": [
    "print(f\"Number of superfeatures: {dynophore.n_superfeatures}\")"
   ]
  },
  {
   "cell_type": "markdown",
   "id": "sustainable-fifteen",
   "metadata": {},
   "source": [
    "## Superfeatures monitoring (over trajectory)"
   ]
  },
  {
   "cell_type": "markdown",
   "id": "three-physiology",
   "metadata": {},
   "source": [
    "### Superfeature occurrences"
   ]
  },
  {
   "cell_type": "code",
   "execution_count": 20,
   "id": "military-bachelor",
   "metadata": {},
   "outputs": [
    {
     "data": {
      "text/html": [
       "<div>\n",
       "<style scoped>\n",
       "    .dataframe tbody tr th:only-of-type {\n",
       "        vertical-align: middle;\n",
       "    }\n",
       "\n",
       "    .dataframe tbody tr th {\n",
       "        vertical-align: top;\n",
       "    }\n",
       "\n",
       "    .dataframe thead th {\n",
       "        text-align: right;\n",
       "    }\n",
       "</style>\n",
       "<table border=\"1\" class=\"dataframe\">\n",
       "  <thead>\n",
       "    <tr style=\"text-align: right;\">\n",
       "      <th></th>\n",
       "      <th>H[4599,4602,4601,4608,4609,4600]</th>\n",
       "      <th>H[4615,4623,4622,4613,4621,4614]</th>\n",
       "      <th>HBA[4596]</th>\n",
       "      <th>HBA[4619]</th>\n",
       "      <th>HBD[4612]</th>\n",
       "      <th>AR[4622,4615,4623,4613,4614,4621]</th>\n",
       "      <th>HBA[4606]</th>\n",
       "      <th>HBD[4598]</th>\n",
       "      <th>HBA[4618]</th>\n",
       "      <th>AR[4605,4607,4603,4606,4604]</th>\n",
       "    </tr>\n",
       "  </thead>\n",
       "  <tbody>\n",
       "    <tr>\n",
       "      <th>0</th>\n",
       "      <td>1</td>\n",
       "      <td>1</td>\n",
       "      <td>1</td>\n",
       "      <td>1</td>\n",
       "      <td>0</td>\n",
       "      <td>0</td>\n",
       "      <td>0</td>\n",
       "      <td>0</td>\n",
       "      <td>0</td>\n",
       "      <td>0</td>\n",
       "    </tr>\n",
       "    <tr>\n",
       "      <th>1</th>\n",
       "      <td>1</td>\n",
       "      <td>1</td>\n",
       "      <td>1</td>\n",
       "      <td>1</td>\n",
       "      <td>0</td>\n",
       "      <td>0</td>\n",
       "      <td>0</td>\n",
       "      <td>0</td>\n",
       "      <td>0</td>\n",
       "      <td>0</td>\n",
       "    </tr>\n",
       "    <tr>\n",
       "      <th>2</th>\n",
       "      <td>1</td>\n",
       "      <td>1</td>\n",
       "      <td>0</td>\n",
       "      <td>0</td>\n",
       "      <td>0</td>\n",
       "      <td>0</td>\n",
       "      <td>0</td>\n",
       "      <td>0</td>\n",
       "      <td>0</td>\n",
       "      <td>0</td>\n",
       "    </tr>\n",
       "    <tr>\n",
       "      <th>3</th>\n",
       "      <td>1</td>\n",
       "      <td>1</td>\n",
       "      <td>0</td>\n",
       "      <td>0</td>\n",
       "      <td>0</td>\n",
       "      <td>0</td>\n",
       "      <td>0</td>\n",
       "      <td>0</td>\n",
       "      <td>0</td>\n",
       "      <td>0</td>\n",
       "    </tr>\n",
       "    <tr>\n",
       "      <th>4</th>\n",
       "      <td>1</td>\n",
       "      <td>1</td>\n",
       "      <td>0</td>\n",
       "      <td>0</td>\n",
       "      <td>1</td>\n",
       "      <td>0</td>\n",
       "      <td>0</td>\n",
       "      <td>0</td>\n",
       "      <td>0</td>\n",
       "      <td>0</td>\n",
       "    </tr>\n",
       "    <tr>\n",
       "      <th>...</th>\n",
       "      <td>...</td>\n",
       "      <td>...</td>\n",
       "      <td>...</td>\n",
       "      <td>...</td>\n",
       "      <td>...</td>\n",
       "      <td>...</td>\n",
       "      <td>...</td>\n",
       "      <td>...</td>\n",
       "      <td>...</td>\n",
       "      <td>...</td>\n",
       "    </tr>\n",
       "    <tr>\n",
       "      <th>997</th>\n",
       "      <td>1</td>\n",
       "      <td>1</td>\n",
       "      <td>1</td>\n",
       "      <td>0</td>\n",
       "      <td>0</td>\n",
       "      <td>0</td>\n",
       "      <td>0</td>\n",
       "      <td>0</td>\n",
       "      <td>0</td>\n",
       "      <td>0</td>\n",
       "    </tr>\n",
       "    <tr>\n",
       "      <th>998</th>\n",
       "      <td>1</td>\n",
       "      <td>1</td>\n",
       "      <td>1</td>\n",
       "      <td>0</td>\n",
       "      <td>0</td>\n",
       "      <td>0</td>\n",
       "      <td>0</td>\n",
       "      <td>0</td>\n",
       "      <td>0</td>\n",
       "      <td>0</td>\n",
       "    </tr>\n",
       "    <tr>\n",
       "      <th>999</th>\n",
       "      <td>1</td>\n",
       "      <td>1</td>\n",
       "      <td>1</td>\n",
       "      <td>0</td>\n",
       "      <td>0</td>\n",
       "      <td>0</td>\n",
       "      <td>0</td>\n",
       "      <td>0</td>\n",
       "      <td>0</td>\n",
       "      <td>0</td>\n",
       "    </tr>\n",
       "    <tr>\n",
       "      <th>1000</th>\n",
       "      <td>1</td>\n",
       "      <td>1</td>\n",
       "      <td>1</td>\n",
       "      <td>0</td>\n",
       "      <td>0</td>\n",
       "      <td>0</td>\n",
       "      <td>0</td>\n",
       "      <td>0</td>\n",
       "      <td>0</td>\n",
       "      <td>0</td>\n",
       "    </tr>\n",
       "    <tr>\n",
       "      <th>1001</th>\n",
       "      <td>1</td>\n",
       "      <td>1</td>\n",
       "      <td>1</td>\n",
       "      <td>0</td>\n",
       "      <td>0</td>\n",
       "      <td>0</td>\n",
       "      <td>0</td>\n",
       "      <td>0</td>\n",
       "      <td>0</td>\n",
       "      <td>0</td>\n",
       "    </tr>\n",
       "  </tbody>\n",
       "</table>\n",
       "<p>1002 rows × 10 columns</p>\n",
       "</div>"
      ],
      "text/plain": [
       "      H[4599,4602,4601,4608,4609,4600]  H[4615,4623,4622,4613,4621,4614]  \\\n",
       "0                                    1                                 1   \n",
       "1                                    1                                 1   \n",
       "2                                    1                                 1   \n",
       "3                                    1                                 1   \n",
       "4                                    1                                 1   \n",
       "...                                ...                               ...   \n",
       "997                                  1                                 1   \n",
       "998                                  1                                 1   \n",
       "999                                  1                                 1   \n",
       "1000                                 1                                 1   \n",
       "1001                                 1                                 1   \n",
       "\n",
       "      HBA[4596]  HBA[4619]  HBD[4612]  AR[4622,4615,4623,4613,4614,4621]  \\\n",
       "0             1          1          0                                  0   \n",
       "1             1          1          0                                  0   \n",
       "2             0          0          0                                  0   \n",
       "3             0          0          0                                  0   \n",
       "4             0          0          1                                  0   \n",
       "...         ...        ...        ...                                ...   \n",
       "997           1          0          0                                  0   \n",
       "998           1          0          0                                  0   \n",
       "999           1          0          0                                  0   \n",
       "1000          1          0          0                                  0   \n",
       "1001          1          0          0                                  0   \n",
       "\n",
       "      HBA[4606]  HBD[4598]  HBA[4618]  AR[4605,4607,4603,4606,4604]  \n",
       "0             0          0          0                             0  \n",
       "1             0          0          0                             0  \n",
       "2             0          0          0                             0  \n",
       "3             0          0          0                             0  \n",
       "4             0          0          0                             0  \n",
       "...         ...        ...        ...                           ...  \n",
       "997           0          0          0                             0  \n",
       "998           0          0          0                             0  \n",
       "999           0          0          0                             0  \n",
       "1000          0          0          0                             0  \n",
       "1001          0          0          0                             0  \n",
       "\n",
       "[1002 rows x 10 columns]"
      ]
     },
     "execution_count": 20,
     "metadata": {},
     "output_type": "execute_result"
    }
   ],
   "source": [
    "dynophore.superfeatures_occurrences"
   ]
  },
  {
   "cell_type": "markdown",
   "id": "intellectual-projector",
   "metadata": {},
   "source": [
    "## Environmental partners monitoring (over trajectory)"
   ]
  },
  {
   "cell_type": "markdown",
   "id": "important-asset",
   "metadata": {},
   "source": [
    "### Interaction occurrences for example superfeature"
   ]
  },
  {
   "cell_type": "code",
   "execution_count": 21,
   "id": "acknowledged-question",
   "metadata": {},
   "outputs": [
    {
     "data": {
      "text/html": [
       "<div>\n",
       "<style scoped>\n",
       "    .dataframe tbody tr th:only-of-type {\n",
       "        vertical-align: middle;\n",
       "    }\n",
       "\n",
       "    .dataframe tbody tr th {\n",
       "        vertical-align: top;\n",
       "    }\n",
       "\n",
       "    .dataframe thead th {\n",
       "        text-align: right;\n",
       "    }\n",
       "</style>\n",
       "<table border=\"1\" class=\"dataframe\">\n",
       "  <thead>\n",
       "    <tr style=\"text-align: right;\">\n",
       "      <th></th>\n",
       "      <th>LYS-20-A[316]</th>\n",
       "    </tr>\n",
       "  </thead>\n",
       "  <tbody>\n",
       "    <tr>\n",
       "      <th>0</th>\n",
       "      <td>0</td>\n",
       "    </tr>\n",
       "    <tr>\n",
       "      <th>1</th>\n",
       "      <td>0</td>\n",
       "    </tr>\n",
       "    <tr>\n",
       "      <th>2</th>\n",
       "      <td>0</td>\n",
       "    </tr>\n",
       "    <tr>\n",
       "      <th>3</th>\n",
       "      <td>0</td>\n",
       "    </tr>\n",
       "    <tr>\n",
       "      <th>4</th>\n",
       "      <td>0</td>\n",
       "    </tr>\n",
       "    <tr>\n",
       "      <th>...</th>\n",
       "      <td>...</td>\n",
       "    </tr>\n",
       "    <tr>\n",
       "      <th>997</th>\n",
       "      <td>0</td>\n",
       "    </tr>\n",
       "    <tr>\n",
       "      <th>998</th>\n",
       "      <td>0</td>\n",
       "    </tr>\n",
       "    <tr>\n",
       "      <th>999</th>\n",
       "      <td>0</td>\n",
       "    </tr>\n",
       "    <tr>\n",
       "      <th>1000</th>\n",
       "      <td>0</td>\n",
       "    </tr>\n",
       "    <tr>\n",
       "      <th>1001</th>\n",
       "      <td>0</td>\n",
       "    </tr>\n",
       "  </tbody>\n",
       "</table>\n",
       "<p>1002 rows × 1 columns</p>\n",
       "</div>"
      ],
      "text/plain": [
       "      LYS-20-A[316]\n",
       "0                 0\n",
       "1                 0\n",
       "2                 0\n",
       "3                 0\n",
       "4                 0\n",
       "...             ...\n",
       "997               0\n",
       "998               0\n",
       "999               0\n",
       "1000              0\n",
       "1001              0\n",
       "\n",
       "[1002 rows x 1 columns]"
      ]
     },
     "execution_count": 21,
     "metadata": {},
     "output_type": "execute_result"
    }
   ],
   "source": [
    "dynophore.envpartners_occurrences_by_superfeature(superfeature_id)"
   ]
  },
  {
   "cell_type": "code",
   "execution_count": 22,
   "id": "manual-extreme",
   "metadata": {},
   "outputs": [
    {
     "data": {
      "text/plain": [
       "dict_keys(['HBA[4618]', 'AR[4605,4607,4603,4606,4604]', 'HBD[4598]', 'HBA[4606]', 'AR[4622,4615,4623,4613,4614,4621]', 'HBD[4612]', 'HBA[4619]', 'HBA[4596]', 'H[4615,4623,4622,4613,4621,4614]', 'H[4599,4602,4601,4608,4609,4600]'])"
      ]
     },
     "execution_count": 22,
     "metadata": {},
     "output_type": "execute_result"
    }
   ],
   "source": [
    "dynophore.envpartners_occurrences.keys()"
   ]
  },
  {
   "cell_type": "markdown",
   "id": "pregnant-diary",
   "metadata": {},
   "source": [
    "### Interaction distances for example superfeature"
   ]
  },
  {
   "cell_type": "code",
   "execution_count": 23,
   "id": "alone-distributor",
   "metadata": {},
   "outputs": [
    {
     "data": {
      "text/html": [
       "<div>\n",
       "<style scoped>\n",
       "    .dataframe tbody tr th:only-of-type {\n",
       "        vertical-align: middle;\n",
       "    }\n",
       "\n",
       "    .dataframe tbody tr th {\n",
       "        vertical-align: top;\n",
       "    }\n",
       "\n",
       "    .dataframe thead th {\n",
       "        text-align: right;\n",
       "    }\n",
       "</style>\n",
       "<table border=\"1\" class=\"dataframe\">\n",
       "  <thead>\n",
       "    <tr style=\"text-align: right;\">\n",
       "      <th></th>\n",
       "      <th>LYS-20-A[316]</th>\n",
       "    </tr>\n",
       "  </thead>\n",
       "  <tbody>\n",
       "    <tr>\n",
       "      <th>0</th>\n",
       "      <td>11.076880</td>\n",
       "    </tr>\n",
       "    <tr>\n",
       "      <th>1</th>\n",
       "      <td>11.076880</td>\n",
       "    </tr>\n",
       "    <tr>\n",
       "      <th>2</th>\n",
       "      <td>10.654148</td>\n",
       "    </tr>\n",
       "    <tr>\n",
       "      <th>3</th>\n",
       "      <td>9.423526</td>\n",
       "    </tr>\n",
       "    <tr>\n",
       "      <th>4</th>\n",
       "      <td>12.006125</td>\n",
       "    </tr>\n",
       "    <tr>\n",
       "      <th>...</th>\n",
       "      <td>...</td>\n",
       "    </tr>\n",
       "    <tr>\n",
       "      <th>997</th>\n",
       "      <td>4.339370</td>\n",
       "    </tr>\n",
       "    <tr>\n",
       "      <th>998</th>\n",
       "      <td>5.333941</td>\n",
       "    </tr>\n",
       "    <tr>\n",
       "      <th>999</th>\n",
       "      <td>5.336269</td>\n",
       "    </tr>\n",
       "    <tr>\n",
       "      <th>1000</th>\n",
       "      <td>4.156338</td>\n",
       "    </tr>\n",
       "    <tr>\n",
       "      <th>1001</th>\n",
       "      <td>6.207083</td>\n",
       "    </tr>\n",
       "  </tbody>\n",
       "</table>\n",
       "<p>1002 rows × 1 columns</p>\n",
       "</div>"
      ],
      "text/plain": [
       "      LYS-20-A[316]\n",
       "0         11.076880\n",
       "1         11.076880\n",
       "2         10.654148\n",
       "3          9.423526\n",
       "4         12.006125\n",
       "...             ...\n",
       "997        4.339370\n",
       "998        5.333941\n",
       "999        5.336269\n",
       "1000       4.156338\n",
       "1001       6.207083\n",
       "\n",
       "[1002 rows x 1 columns]"
      ]
     },
     "execution_count": 23,
     "metadata": {},
     "output_type": "execute_result"
    }
   ],
   "source": [
    "dynophore.envpartners_distances_by_superfeature(superfeature_id)"
   ]
  },
  {
   "cell_type": "code",
   "execution_count": 24,
   "id": "comprehensive-demographic",
   "metadata": {},
   "outputs": [
    {
     "data": {
      "text/plain": [
       "dict_keys(['HBA[4618]', 'AR[4605,4607,4603,4606,4604]', 'HBD[4598]', 'HBA[4606]', 'AR[4622,4615,4623,4613,4614,4621]', 'HBD[4612]', 'HBA[4619]', 'HBA[4596]', 'H[4615,4623,4622,4613,4621,4614]', 'H[4599,4602,4601,4608,4609,4600]'])"
      ]
     },
     "execution_count": 24,
     "metadata": {},
     "output_type": "execute_result"
    }
   ],
   "source": [
    "dynophore.envpartners_distances.keys()"
   ]
  },
  {
   "cell_type": "markdown",
   "id": "threatened-education",
   "metadata": {},
   "source": [
    "## Superfeatures vs. environmental partners"
   ]
  },
  {
   "cell_type": "markdown",
   "id": "proved-american",
   "metadata": {},
   "source": [
    "### Occurrence count"
   ]
  },
  {
   "cell_type": "code",
   "execution_count": 25,
   "id": "fossil-brush",
   "metadata": {},
   "outputs": [
    {
     "data": {
      "text/html": [
       "<div>\n",
       "<style scoped>\n",
       "    .dataframe tbody tr th:only-of-type {\n",
       "        vertical-align: middle;\n",
       "    }\n",
       "\n",
       "    .dataframe tbody tr th {\n",
       "        vertical-align: top;\n",
       "    }\n",
       "\n",
       "    .dataframe thead th {\n",
       "        text-align: right;\n",
       "    }\n",
       "</style>\n",
       "<table border=\"1\" class=\"dataframe\">\n",
       "  <thead>\n",
       "    <tr style=\"text-align: right;\">\n",
       "      <th></th>\n",
       "      <th>HBA[4618]</th>\n",
       "      <th>AR[4605,4607,4603,4606,4604]</th>\n",
       "      <th>HBD[4598]</th>\n",
       "      <th>HBA[4606]</th>\n",
       "      <th>AR[4622,4615,4623,4613,4614,4621]</th>\n",
       "      <th>HBD[4612]</th>\n",
       "      <th>HBA[4619]</th>\n",
       "      <th>HBA[4596]</th>\n",
       "      <th>H[4615,4623,4622,4613,4621,4614]</th>\n",
       "      <th>H[4599,4602,4601,4608,4609,4600]</th>\n",
       "    </tr>\n",
       "  </thead>\n",
       "  <tbody>\n",
       "    <tr>\n",
       "      <th>ALA-144-A[2263,2266]</th>\n",
       "      <td>0</td>\n",
       "      <td>0</td>\n",
       "      <td>0</td>\n",
       "      <td>0</td>\n",
       "      <td>0</td>\n",
       "      <td>0</td>\n",
       "      <td>0</td>\n",
       "      <td>0</td>\n",
       "      <td>0</td>\n",
       "      <td>992</td>\n",
       "    </tr>\n",
       "    <tr>\n",
       "      <th>ALA-31-A[488,491]</th>\n",
       "      <td>0</td>\n",
       "      <td>0</td>\n",
       "      <td>0</td>\n",
       "      <td>0</td>\n",
       "      <td>0</td>\n",
       "      <td>0</td>\n",
       "      <td>0</td>\n",
       "      <td>0</td>\n",
       "      <td>0</td>\n",
       "      <td>216</td>\n",
       "    </tr>\n",
       "    <tr>\n",
       "      <th>ASP-86-A[1313]</th>\n",
       "      <td>0</td>\n",
       "      <td>0</td>\n",
       "      <td>0</td>\n",
       "      <td>0</td>\n",
       "      <td>0</td>\n",
       "      <td>0</td>\n",
       "      <td>2</td>\n",
       "      <td>0</td>\n",
       "      <td>0</td>\n",
       "      <td>0</td>\n",
       "    </tr>\n",
       "    <tr>\n",
       "      <th>ASP-86-A[1319]</th>\n",
       "      <td>0</td>\n",
       "      <td>0</td>\n",
       "      <td>0</td>\n",
       "      <td>0</td>\n",
       "      <td>0</td>\n",
       "      <td>18</td>\n",
       "      <td>0</td>\n",
       "      <td>0</td>\n",
       "      <td>0</td>\n",
       "      <td>0</td>\n",
       "    </tr>\n",
       "    <tr>\n",
       "      <th>ASP-86-A[1320]</th>\n",
       "      <td>0</td>\n",
       "      <td>0</td>\n",
       "      <td>0</td>\n",
       "      <td>0</td>\n",
       "      <td>0</td>\n",
       "      <td>20</td>\n",
       "      <td>0</td>\n",
       "      <td>0</td>\n",
       "      <td>0</td>\n",
       "      <td>0</td>\n",
       "    </tr>\n",
       "    <tr>\n",
       "      <th>GLN-131-A[2057]</th>\n",
       "      <td>0</td>\n",
       "      <td>0</td>\n",
       "      <td>0</td>\n",
       "      <td>0</td>\n",
       "      <td>0</td>\n",
       "      <td>1</td>\n",
       "      <td>0</td>\n",
       "      <td>0</td>\n",
       "      <td>0</td>\n",
       "      <td>0</td>\n",
       "    </tr>\n",
       "    <tr>\n",
       "      <th>GLN-131-A[2061]</th>\n",
       "      <td>0</td>\n",
       "      <td>0</td>\n",
       "      <td>0</td>\n",
       "      <td>0</td>\n",
       "      <td>0</td>\n",
       "      <td>8</td>\n",
       "      <td>0</td>\n",
       "      <td>0</td>\n",
       "      <td>0</td>\n",
       "      <td>0</td>\n",
       "    </tr>\n",
       "    <tr>\n",
       "      <th>GLN-131-A[2062]</th>\n",
       "      <td>0</td>\n",
       "      <td>0</td>\n",
       "      <td>0</td>\n",
       "      <td>2</td>\n",
       "      <td>0</td>\n",
       "      <td>0</td>\n",
       "      <td>0</td>\n",
       "      <td>0</td>\n",
       "      <td>0</td>\n",
       "      <td>0</td>\n",
       "    </tr>\n",
       "    <tr>\n",
       "      <th>GLU-81-A[1228]</th>\n",
       "      <td>0</td>\n",
       "      <td>0</td>\n",
       "      <td>8</td>\n",
       "      <td>0</td>\n",
       "      <td>0</td>\n",
       "      <td>0</td>\n",
       "      <td>0</td>\n",
       "      <td>0</td>\n",
       "      <td>0</td>\n",
       "      <td>0</td>\n",
       "    </tr>\n",
       "    <tr>\n",
       "      <th>HIS-84-A[1284,1285,1286,1287,1288]</th>\n",
       "      <td>0</td>\n",
       "      <td>0</td>\n",
       "      <td>0</td>\n",
       "      <td>0</td>\n",
       "      <td>1</td>\n",
       "      <td>0</td>\n",
       "      <td>0</td>\n",
       "      <td>0</td>\n",
       "      <td>0</td>\n",
       "      <td>0</td>\n",
       "    </tr>\n",
       "    <tr>\n",
       "      <th>ILE-10-A[165]</th>\n",
       "      <td>0</td>\n",
       "      <td>0</td>\n",
       "      <td>0</td>\n",
       "      <td>0</td>\n",
       "      <td>1</td>\n",
       "      <td>0</td>\n",
       "      <td>116</td>\n",
       "      <td>0</td>\n",
       "      <td>0</td>\n",
       "      <td>0</td>\n",
       "    </tr>\n",
       "    <tr>\n",
       "      <th>ILE-10-A[169,171,172]</th>\n",
       "      <td>0</td>\n",
       "      <td>0</td>\n",
       "      <td>0</td>\n",
       "      <td>0</td>\n",
       "      <td>0</td>\n",
       "      <td>0</td>\n",
       "      <td>0</td>\n",
       "      <td>0</td>\n",
       "      <td>995</td>\n",
       "      <td>959</td>\n",
       "    </tr>\n",
       "    <tr>\n",
       "      <th>ILE-10-A[169,171]</th>\n",
       "      <td>0</td>\n",
       "      <td>0</td>\n",
       "      <td>0</td>\n",
       "      <td>0</td>\n",
       "      <td>0</td>\n",
       "      <td>0</td>\n",
       "      <td>0</td>\n",
       "      <td>0</td>\n",
       "      <td>945</td>\n",
       "      <td>972</td>\n",
       "    </tr>\n",
       "    <tr>\n",
       "      <th>LEU-134-A[2109,2110,2111]</th>\n",
       "      <td>0</td>\n",
       "      <td>0</td>\n",
       "      <td>0</td>\n",
       "      <td>0</td>\n",
       "      <td>0</td>\n",
       "      <td>0</td>\n",
       "      <td>0</td>\n",
       "      <td>0</td>\n",
       "      <td>0</td>\n",
       "      <td>999</td>\n",
       "    </tr>\n",
       "    <tr>\n",
       "      <th>LEU-83-A[1260]</th>\n",
       "      <td>0</td>\n",
       "      <td>0</td>\n",
       "      <td>0</td>\n",
       "      <td>0</td>\n",
       "      <td>0</td>\n",
       "      <td>0</td>\n",
       "      <td>0</td>\n",
       "      <td>862</td>\n",
       "      <td>0</td>\n",
       "      <td>0</td>\n",
       "    </tr>\n",
       "    <tr>\n",
       "      <th>LEU-83-A[1263]</th>\n",
       "      <td>0</td>\n",
       "      <td>0</td>\n",
       "      <td>2</td>\n",
       "      <td>0</td>\n",
       "      <td>0</td>\n",
       "      <td>33</td>\n",
       "      <td>0</td>\n",
       "      <td>0</td>\n",
       "      <td>0</td>\n",
       "      <td>0</td>\n",
       "    </tr>\n",
       "    <tr>\n",
       "      <th>LYS-129-A[2026]</th>\n",
       "      <td>0</td>\n",
       "      <td>1</td>\n",
       "      <td>0</td>\n",
       "      <td>18</td>\n",
       "      <td>0</td>\n",
       "      <td>0</td>\n",
       "      <td>0</td>\n",
       "      <td>0</td>\n",
       "      <td>0</td>\n",
       "      <td>0</td>\n",
       "    </tr>\n",
       "    <tr>\n",
       "      <th>LYS-20-A[308]</th>\n",
       "      <td>0</td>\n",
       "      <td>0</td>\n",
       "      <td>0</td>\n",
       "      <td>0</td>\n",
       "      <td>0</td>\n",
       "      <td>0</td>\n",
       "      <td>5</td>\n",
       "      <td>0</td>\n",
       "      <td>0</td>\n",
       "      <td>0</td>\n",
       "    </tr>\n",
       "    <tr>\n",
       "      <th>LYS-20-A[316]</th>\n",
       "      <td>2</td>\n",
       "      <td>0</td>\n",
       "      <td>0</td>\n",
       "      <td>0</td>\n",
       "      <td>0</td>\n",
       "      <td>0</td>\n",
       "      <td>3</td>\n",
       "      <td>0</td>\n",
       "      <td>0</td>\n",
       "      <td>0</td>\n",
       "    </tr>\n",
       "    <tr>\n",
       "      <th>LYS-89-A[1374]</th>\n",
       "      <td>0</td>\n",
       "      <td>0</td>\n",
       "      <td>0</td>\n",
       "      <td>0</td>\n",
       "      <td>38</td>\n",
       "      <td>0</td>\n",
       "      <td>0</td>\n",
       "      <td>0</td>\n",
       "      <td>0</td>\n",
       "      <td>0</td>\n",
       "    </tr>\n",
       "    <tr>\n",
       "      <th>PHE-82-A[1245,1246,1247,1248,1249,1250]</th>\n",
       "      <td>0</td>\n",
       "      <td>0</td>\n",
       "      <td>0</td>\n",
       "      <td>0</td>\n",
       "      <td>0</td>\n",
       "      <td>0</td>\n",
       "      <td>0</td>\n",
       "      <td>0</td>\n",
       "      <td>57</td>\n",
       "      <td>0</td>\n",
       "    </tr>\n",
       "    <tr>\n",
       "      <th>VAL-18-A[275,276,277]</th>\n",
       "      <td>0</td>\n",
       "      <td>0</td>\n",
       "      <td>0</td>\n",
       "      <td>0</td>\n",
       "      <td>0</td>\n",
       "      <td>0</td>\n",
       "      <td>0</td>\n",
       "      <td>0</td>\n",
       "      <td>0</td>\n",
       "      <td>955</td>\n",
       "    </tr>\n",
       "    <tr>\n",
       "      <th>any</th>\n",
       "      <td>2</td>\n",
       "      <td>1</td>\n",
       "      <td>10</td>\n",
       "      <td>20</td>\n",
       "      <td>40</td>\n",
       "      <td>80</td>\n",
       "      <td>123</td>\n",
       "      <td>862</td>\n",
       "      <td>1001</td>\n",
       "      <td>1002</td>\n",
       "    </tr>\n",
       "  </tbody>\n",
       "</table>\n",
       "</div>"
      ],
      "text/plain": [
       "                                         HBA[4618]  \\\n",
       "ALA-144-A[2263,2266]                             0   \n",
       "ALA-31-A[488,491]                                0   \n",
       "ASP-86-A[1313]                                   0   \n",
       "ASP-86-A[1319]                                   0   \n",
       "ASP-86-A[1320]                                   0   \n",
       "GLN-131-A[2057]                                  0   \n",
       "GLN-131-A[2061]                                  0   \n",
       "GLN-131-A[2062]                                  0   \n",
       "GLU-81-A[1228]                                   0   \n",
       "HIS-84-A[1284,1285,1286,1287,1288]               0   \n",
       "ILE-10-A[165]                                    0   \n",
       "ILE-10-A[169,171,172]                            0   \n",
       "ILE-10-A[169,171]                                0   \n",
       "LEU-134-A[2109,2110,2111]                        0   \n",
       "LEU-83-A[1260]                                   0   \n",
       "LEU-83-A[1263]                                   0   \n",
       "LYS-129-A[2026]                                  0   \n",
       "LYS-20-A[308]                                    0   \n",
       "LYS-20-A[316]                                    2   \n",
       "LYS-89-A[1374]                                   0   \n",
       "PHE-82-A[1245,1246,1247,1248,1249,1250]          0   \n",
       "VAL-18-A[275,276,277]                            0   \n",
       "any                                              2   \n",
       "\n",
       "                                         AR[4605,4607,4603,4606,4604]  \\\n",
       "ALA-144-A[2263,2266]                                                0   \n",
       "ALA-31-A[488,491]                                                   0   \n",
       "ASP-86-A[1313]                                                      0   \n",
       "ASP-86-A[1319]                                                      0   \n",
       "ASP-86-A[1320]                                                      0   \n",
       "GLN-131-A[2057]                                                     0   \n",
       "GLN-131-A[2061]                                                     0   \n",
       "GLN-131-A[2062]                                                     0   \n",
       "GLU-81-A[1228]                                                      0   \n",
       "HIS-84-A[1284,1285,1286,1287,1288]                                  0   \n",
       "ILE-10-A[165]                                                       0   \n",
       "ILE-10-A[169,171,172]                                               0   \n",
       "ILE-10-A[169,171]                                                   0   \n",
       "LEU-134-A[2109,2110,2111]                                           0   \n",
       "LEU-83-A[1260]                                                      0   \n",
       "LEU-83-A[1263]                                                      0   \n",
       "LYS-129-A[2026]                                                     1   \n",
       "LYS-20-A[308]                                                       0   \n",
       "LYS-20-A[316]                                                       0   \n",
       "LYS-89-A[1374]                                                      0   \n",
       "PHE-82-A[1245,1246,1247,1248,1249,1250]                             0   \n",
       "VAL-18-A[275,276,277]                                               0   \n",
       "any                                                                 1   \n",
       "\n",
       "                                         HBD[4598]  HBA[4606]  \\\n",
       "ALA-144-A[2263,2266]                             0          0   \n",
       "ALA-31-A[488,491]                                0          0   \n",
       "ASP-86-A[1313]                                   0          0   \n",
       "ASP-86-A[1319]                                   0          0   \n",
       "ASP-86-A[1320]                                   0          0   \n",
       "GLN-131-A[2057]                                  0          0   \n",
       "GLN-131-A[2061]                                  0          0   \n",
       "GLN-131-A[2062]                                  0          2   \n",
       "GLU-81-A[1228]                                   8          0   \n",
       "HIS-84-A[1284,1285,1286,1287,1288]               0          0   \n",
       "ILE-10-A[165]                                    0          0   \n",
       "ILE-10-A[169,171,172]                            0          0   \n",
       "ILE-10-A[169,171]                                0          0   \n",
       "LEU-134-A[2109,2110,2111]                        0          0   \n",
       "LEU-83-A[1260]                                   0          0   \n",
       "LEU-83-A[1263]                                   2          0   \n",
       "LYS-129-A[2026]                                  0         18   \n",
       "LYS-20-A[308]                                    0          0   \n",
       "LYS-20-A[316]                                    0          0   \n",
       "LYS-89-A[1374]                                   0          0   \n",
       "PHE-82-A[1245,1246,1247,1248,1249,1250]          0          0   \n",
       "VAL-18-A[275,276,277]                            0          0   \n",
       "any                                             10         20   \n",
       "\n",
       "                                         AR[4622,4615,4623,4613,4614,4621]  \\\n",
       "ALA-144-A[2263,2266]                                                     0   \n",
       "ALA-31-A[488,491]                                                        0   \n",
       "ASP-86-A[1313]                                                           0   \n",
       "ASP-86-A[1319]                                                           0   \n",
       "ASP-86-A[1320]                                                           0   \n",
       "GLN-131-A[2057]                                                          0   \n",
       "GLN-131-A[2061]                                                          0   \n",
       "GLN-131-A[2062]                                                          0   \n",
       "GLU-81-A[1228]                                                           0   \n",
       "HIS-84-A[1284,1285,1286,1287,1288]                                       1   \n",
       "ILE-10-A[165]                                                            1   \n",
       "ILE-10-A[169,171,172]                                                    0   \n",
       "ILE-10-A[169,171]                                                        0   \n",
       "LEU-134-A[2109,2110,2111]                                                0   \n",
       "LEU-83-A[1260]                                                           0   \n",
       "LEU-83-A[1263]                                                           0   \n",
       "LYS-129-A[2026]                                                          0   \n",
       "LYS-20-A[308]                                                            0   \n",
       "LYS-20-A[316]                                                            0   \n",
       "LYS-89-A[1374]                                                          38   \n",
       "PHE-82-A[1245,1246,1247,1248,1249,1250]                                  0   \n",
       "VAL-18-A[275,276,277]                                                    0   \n",
       "any                                                                     40   \n",
       "\n",
       "                                         HBD[4612]  HBA[4619]  HBA[4596]  \\\n",
       "ALA-144-A[2263,2266]                             0          0          0   \n",
       "ALA-31-A[488,491]                                0          0          0   \n",
       "ASP-86-A[1313]                                   0          2          0   \n",
       "ASP-86-A[1319]                                  18          0          0   \n",
       "ASP-86-A[1320]                                  20          0          0   \n",
       "GLN-131-A[2057]                                  1          0          0   \n",
       "GLN-131-A[2061]                                  8          0          0   \n",
       "GLN-131-A[2062]                                  0          0          0   \n",
       "GLU-81-A[1228]                                   0          0          0   \n",
       "HIS-84-A[1284,1285,1286,1287,1288]               0          0          0   \n",
       "ILE-10-A[165]                                    0        116          0   \n",
       "ILE-10-A[169,171,172]                            0          0          0   \n",
       "ILE-10-A[169,171]                                0          0          0   \n",
       "LEU-134-A[2109,2110,2111]                        0          0          0   \n",
       "LEU-83-A[1260]                                   0          0        862   \n",
       "LEU-83-A[1263]                                  33          0          0   \n",
       "LYS-129-A[2026]                                  0          0          0   \n",
       "LYS-20-A[308]                                    0          5          0   \n",
       "LYS-20-A[316]                                    0          3          0   \n",
       "LYS-89-A[1374]                                   0          0          0   \n",
       "PHE-82-A[1245,1246,1247,1248,1249,1250]          0          0          0   \n",
       "VAL-18-A[275,276,277]                            0          0          0   \n",
       "any                                             80        123        862   \n",
       "\n",
       "                                         H[4615,4623,4622,4613,4621,4614]  \\\n",
       "ALA-144-A[2263,2266]                                                    0   \n",
       "ALA-31-A[488,491]                                                       0   \n",
       "ASP-86-A[1313]                                                          0   \n",
       "ASP-86-A[1319]                                                          0   \n",
       "ASP-86-A[1320]                                                          0   \n",
       "GLN-131-A[2057]                                                         0   \n",
       "GLN-131-A[2061]                                                         0   \n",
       "GLN-131-A[2062]                                                         0   \n",
       "GLU-81-A[1228]                                                          0   \n",
       "HIS-84-A[1284,1285,1286,1287,1288]                                      0   \n",
       "ILE-10-A[165]                                                           0   \n",
       "ILE-10-A[169,171,172]                                                 995   \n",
       "ILE-10-A[169,171]                                                     945   \n",
       "LEU-134-A[2109,2110,2111]                                               0   \n",
       "LEU-83-A[1260]                                                          0   \n",
       "LEU-83-A[1263]                                                          0   \n",
       "LYS-129-A[2026]                                                         0   \n",
       "LYS-20-A[308]                                                           0   \n",
       "LYS-20-A[316]                                                           0   \n",
       "LYS-89-A[1374]                                                          0   \n",
       "PHE-82-A[1245,1246,1247,1248,1249,1250]                                57   \n",
       "VAL-18-A[275,276,277]                                                   0   \n",
       "any                                                                  1001   \n",
       "\n",
       "                                         H[4599,4602,4601,4608,4609,4600]  \n",
       "ALA-144-A[2263,2266]                                                  992  \n",
       "ALA-31-A[488,491]                                                     216  \n",
       "ASP-86-A[1313]                                                          0  \n",
       "ASP-86-A[1319]                                                          0  \n",
       "ASP-86-A[1320]                                                          0  \n",
       "GLN-131-A[2057]                                                         0  \n",
       "GLN-131-A[2061]                                                         0  \n",
       "GLN-131-A[2062]                                                         0  \n",
       "GLU-81-A[1228]                                                          0  \n",
       "HIS-84-A[1284,1285,1286,1287,1288]                                      0  \n",
       "ILE-10-A[165]                                                           0  \n",
       "ILE-10-A[169,171,172]                                                 959  \n",
       "ILE-10-A[169,171]                                                     972  \n",
       "LEU-134-A[2109,2110,2111]                                             999  \n",
       "LEU-83-A[1260]                                                          0  \n",
       "LEU-83-A[1263]                                                          0  \n",
       "LYS-129-A[2026]                                                         0  \n",
       "LYS-20-A[308]                                                           0  \n",
       "LYS-20-A[316]                                                           0  \n",
       "LYS-89-A[1374]                                                          0  \n",
       "PHE-82-A[1245,1246,1247,1248,1249,1250]                                 0  \n",
       "VAL-18-A[275,276,277]                                                 955  \n",
       "any                                                                  1002  "
      ]
     },
     "execution_count": 25,
     "metadata": {},
     "output_type": "execute_result"
    }
   ],
   "source": [
    "dynophore.count"
   ]
  },
  {
   "cell_type": "markdown",
   "id": "trained-sheriff",
   "metadata": {},
   "source": [
    "### Occurrence frequency"
   ]
  },
  {
   "cell_type": "code",
   "execution_count": 26,
   "id": "mechanical-suite",
   "metadata": {},
   "outputs": [
    {
     "data": {
      "text/html": [
       "<div>\n",
       "<style scoped>\n",
       "    .dataframe tbody tr th:only-of-type {\n",
       "        vertical-align: middle;\n",
       "    }\n",
       "\n",
       "    .dataframe tbody tr th {\n",
       "        vertical-align: top;\n",
       "    }\n",
       "\n",
       "    .dataframe thead th {\n",
       "        text-align: right;\n",
       "    }\n",
       "</style>\n",
       "<table border=\"1\" class=\"dataframe\">\n",
       "  <thead>\n",
       "    <tr style=\"text-align: right;\">\n",
       "      <th></th>\n",
       "      <th>HBA[4618]</th>\n",
       "      <th>AR[4605,4607,4603,4606,4604]</th>\n",
       "      <th>HBD[4598]</th>\n",
       "      <th>HBA[4606]</th>\n",
       "      <th>AR[4622,4615,4623,4613,4614,4621]</th>\n",
       "      <th>HBD[4612]</th>\n",
       "      <th>HBA[4619]</th>\n",
       "      <th>HBA[4596]</th>\n",
       "      <th>H[4615,4623,4622,4613,4621,4614]</th>\n",
       "      <th>H[4599,4602,4601,4608,4609,4600]</th>\n",
       "    </tr>\n",
       "  </thead>\n",
       "  <tbody>\n",
       "    <tr>\n",
       "      <th>ALA-144-A[2263,2266]</th>\n",
       "      <td>0.0</td>\n",
       "      <td>0.0</td>\n",
       "      <td>0.0</td>\n",
       "      <td>0.0</td>\n",
       "      <td>0.00</td>\n",
       "      <td>0.00</td>\n",
       "      <td>0.00</td>\n",
       "      <td>0.00</td>\n",
       "      <td>0.00</td>\n",
       "      <td>99.00</td>\n",
       "    </tr>\n",
       "    <tr>\n",
       "      <th>ALA-31-A[488,491]</th>\n",
       "      <td>0.0</td>\n",
       "      <td>0.0</td>\n",
       "      <td>0.0</td>\n",
       "      <td>0.0</td>\n",
       "      <td>0.00</td>\n",
       "      <td>0.00</td>\n",
       "      <td>0.00</td>\n",
       "      <td>0.00</td>\n",
       "      <td>0.00</td>\n",
       "      <td>21.56</td>\n",
       "    </tr>\n",
       "    <tr>\n",
       "      <th>ASP-86-A[1313]</th>\n",
       "      <td>0.0</td>\n",
       "      <td>0.0</td>\n",
       "      <td>0.0</td>\n",
       "      <td>0.0</td>\n",
       "      <td>0.00</td>\n",
       "      <td>0.00</td>\n",
       "      <td>0.20</td>\n",
       "      <td>0.00</td>\n",
       "      <td>0.00</td>\n",
       "      <td>0.00</td>\n",
       "    </tr>\n",
       "    <tr>\n",
       "      <th>ASP-86-A[1319]</th>\n",
       "      <td>0.0</td>\n",
       "      <td>0.0</td>\n",
       "      <td>0.0</td>\n",
       "      <td>0.0</td>\n",
       "      <td>0.00</td>\n",
       "      <td>1.80</td>\n",
       "      <td>0.00</td>\n",
       "      <td>0.00</td>\n",
       "      <td>0.00</td>\n",
       "      <td>0.00</td>\n",
       "    </tr>\n",
       "    <tr>\n",
       "      <th>ASP-86-A[1320]</th>\n",
       "      <td>0.0</td>\n",
       "      <td>0.0</td>\n",
       "      <td>0.0</td>\n",
       "      <td>0.0</td>\n",
       "      <td>0.00</td>\n",
       "      <td>2.00</td>\n",
       "      <td>0.00</td>\n",
       "      <td>0.00</td>\n",
       "      <td>0.00</td>\n",
       "      <td>0.00</td>\n",
       "    </tr>\n",
       "    <tr>\n",
       "      <th>GLN-131-A[2057]</th>\n",
       "      <td>0.0</td>\n",
       "      <td>0.0</td>\n",
       "      <td>0.0</td>\n",
       "      <td>0.0</td>\n",
       "      <td>0.00</td>\n",
       "      <td>0.10</td>\n",
       "      <td>0.00</td>\n",
       "      <td>0.00</td>\n",
       "      <td>0.00</td>\n",
       "      <td>0.00</td>\n",
       "    </tr>\n",
       "    <tr>\n",
       "      <th>GLN-131-A[2061]</th>\n",
       "      <td>0.0</td>\n",
       "      <td>0.0</td>\n",
       "      <td>0.0</td>\n",
       "      <td>0.0</td>\n",
       "      <td>0.00</td>\n",
       "      <td>0.80</td>\n",
       "      <td>0.00</td>\n",
       "      <td>0.00</td>\n",
       "      <td>0.00</td>\n",
       "      <td>0.00</td>\n",
       "    </tr>\n",
       "    <tr>\n",
       "      <th>GLN-131-A[2062]</th>\n",
       "      <td>0.0</td>\n",
       "      <td>0.0</td>\n",
       "      <td>0.0</td>\n",
       "      <td>0.2</td>\n",
       "      <td>0.00</td>\n",
       "      <td>0.00</td>\n",
       "      <td>0.00</td>\n",
       "      <td>0.00</td>\n",
       "      <td>0.00</td>\n",
       "      <td>0.00</td>\n",
       "    </tr>\n",
       "    <tr>\n",
       "      <th>GLU-81-A[1228]</th>\n",
       "      <td>0.0</td>\n",
       "      <td>0.0</td>\n",
       "      <td>0.8</td>\n",
       "      <td>0.0</td>\n",
       "      <td>0.00</td>\n",
       "      <td>0.00</td>\n",
       "      <td>0.00</td>\n",
       "      <td>0.00</td>\n",
       "      <td>0.00</td>\n",
       "      <td>0.00</td>\n",
       "    </tr>\n",
       "    <tr>\n",
       "      <th>HIS-84-A[1284,1285,1286,1287,1288]</th>\n",
       "      <td>0.0</td>\n",
       "      <td>0.0</td>\n",
       "      <td>0.0</td>\n",
       "      <td>0.0</td>\n",
       "      <td>0.10</td>\n",
       "      <td>0.00</td>\n",
       "      <td>0.00</td>\n",
       "      <td>0.00</td>\n",
       "      <td>0.00</td>\n",
       "      <td>0.00</td>\n",
       "    </tr>\n",
       "    <tr>\n",
       "      <th>ILE-10-A[165]</th>\n",
       "      <td>0.0</td>\n",
       "      <td>0.0</td>\n",
       "      <td>0.0</td>\n",
       "      <td>0.0</td>\n",
       "      <td>0.10</td>\n",
       "      <td>0.00</td>\n",
       "      <td>11.58</td>\n",
       "      <td>0.00</td>\n",
       "      <td>0.00</td>\n",
       "      <td>0.00</td>\n",
       "    </tr>\n",
       "    <tr>\n",
       "      <th>ILE-10-A[169,171,172]</th>\n",
       "      <td>0.0</td>\n",
       "      <td>0.0</td>\n",
       "      <td>0.0</td>\n",
       "      <td>0.0</td>\n",
       "      <td>0.00</td>\n",
       "      <td>0.00</td>\n",
       "      <td>0.00</td>\n",
       "      <td>0.00</td>\n",
       "      <td>99.30</td>\n",
       "      <td>95.71</td>\n",
       "    </tr>\n",
       "    <tr>\n",
       "      <th>ILE-10-A[169,171]</th>\n",
       "      <td>0.0</td>\n",
       "      <td>0.0</td>\n",
       "      <td>0.0</td>\n",
       "      <td>0.0</td>\n",
       "      <td>0.00</td>\n",
       "      <td>0.00</td>\n",
       "      <td>0.00</td>\n",
       "      <td>0.00</td>\n",
       "      <td>94.31</td>\n",
       "      <td>97.01</td>\n",
       "    </tr>\n",
       "    <tr>\n",
       "      <th>LEU-134-A[2109,2110,2111]</th>\n",
       "      <td>0.0</td>\n",
       "      <td>0.0</td>\n",
       "      <td>0.0</td>\n",
       "      <td>0.0</td>\n",
       "      <td>0.00</td>\n",
       "      <td>0.00</td>\n",
       "      <td>0.00</td>\n",
       "      <td>0.00</td>\n",
       "      <td>0.00</td>\n",
       "      <td>99.70</td>\n",
       "    </tr>\n",
       "    <tr>\n",
       "      <th>LEU-83-A[1260]</th>\n",
       "      <td>0.0</td>\n",
       "      <td>0.0</td>\n",
       "      <td>0.0</td>\n",
       "      <td>0.0</td>\n",
       "      <td>0.00</td>\n",
       "      <td>0.00</td>\n",
       "      <td>0.00</td>\n",
       "      <td>86.03</td>\n",
       "      <td>0.00</td>\n",
       "      <td>0.00</td>\n",
       "    </tr>\n",
       "    <tr>\n",
       "      <th>LEU-83-A[1263]</th>\n",
       "      <td>0.0</td>\n",
       "      <td>0.0</td>\n",
       "      <td>0.2</td>\n",
       "      <td>0.0</td>\n",
       "      <td>0.00</td>\n",
       "      <td>3.29</td>\n",
       "      <td>0.00</td>\n",
       "      <td>0.00</td>\n",
       "      <td>0.00</td>\n",
       "      <td>0.00</td>\n",
       "    </tr>\n",
       "    <tr>\n",
       "      <th>LYS-129-A[2026]</th>\n",
       "      <td>0.0</td>\n",
       "      <td>0.1</td>\n",
       "      <td>0.0</td>\n",
       "      <td>1.8</td>\n",
       "      <td>0.00</td>\n",
       "      <td>0.00</td>\n",
       "      <td>0.00</td>\n",
       "      <td>0.00</td>\n",
       "      <td>0.00</td>\n",
       "      <td>0.00</td>\n",
       "    </tr>\n",
       "    <tr>\n",
       "      <th>LYS-20-A[308]</th>\n",
       "      <td>0.0</td>\n",
       "      <td>0.0</td>\n",
       "      <td>0.0</td>\n",
       "      <td>0.0</td>\n",
       "      <td>0.00</td>\n",
       "      <td>0.00</td>\n",
       "      <td>0.50</td>\n",
       "      <td>0.00</td>\n",
       "      <td>0.00</td>\n",
       "      <td>0.00</td>\n",
       "    </tr>\n",
       "    <tr>\n",
       "      <th>LYS-20-A[316]</th>\n",
       "      <td>0.2</td>\n",
       "      <td>0.0</td>\n",
       "      <td>0.0</td>\n",
       "      <td>0.0</td>\n",
       "      <td>0.00</td>\n",
       "      <td>0.00</td>\n",
       "      <td>0.30</td>\n",
       "      <td>0.00</td>\n",
       "      <td>0.00</td>\n",
       "      <td>0.00</td>\n",
       "    </tr>\n",
       "    <tr>\n",
       "      <th>LYS-89-A[1374]</th>\n",
       "      <td>0.0</td>\n",
       "      <td>0.0</td>\n",
       "      <td>0.0</td>\n",
       "      <td>0.0</td>\n",
       "      <td>3.79</td>\n",
       "      <td>0.00</td>\n",
       "      <td>0.00</td>\n",
       "      <td>0.00</td>\n",
       "      <td>0.00</td>\n",
       "      <td>0.00</td>\n",
       "    </tr>\n",
       "    <tr>\n",
       "      <th>PHE-82-A[1245,1246,1247,1248,1249,1250]</th>\n",
       "      <td>0.0</td>\n",
       "      <td>0.0</td>\n",
       "      <td>0.0</td>\n",
       "      <td>0.0</td>\n",
       "      <td>0.00</td>\n",
       "      <td>0.00</td>\n",
       "      <td>0.00</td>\n",
       "      <td>0.00</td>\n",
       "      <td>5.69</td>\n",
       "      <td>0.00</td>\n",
       "    </tr>\n",
       "    <tr>\n",
       "      <th>VAL-18-A[275,276,277]</th>\n",
       "      <td>0.0</td>\n",
       "      <td>0.0</td>\n",
       "      <td>0.0</td>\n",
       "      <td>0.0</td>\n",
       "      <td>0.00</td>\n",
       "      <td>0.00</td>\n",
       "      <td>0.00</td>\n",
       "      <td>0.00</td>\n",
       "      <td>0.00</td>\n",
       "      <td>95.31</td>\n",
       "    </tr>\n",
       "    <tr>\n",
       "      <th>any</th>\n",
       "      <td>0.2</td>\n",
       "      <td>0.1</td>\n",
       "      <td>1.0</td>\n",
       "      <td>2.0</td>\n",
       "      <td>3.99</td>\n",
       "      <td>7.98</td>\n",
       "      <td>12.28</td>\n",
       "      <td>86.03</td>\n",
       "      <td>99.90</td>\n",
       "      <td>100.00</td>\n",
       "    </tr>\n",
       "  </tbody>\n",
       "</table>\n",
       "</div>"
      ],
      "text/plain": [
       "                                         HBA[4618]  \\\n",
       "ALA-144-A[2263,2266]                           0.0   \n",
       "ALA-31-A[488,491]                              0.0   \n",
       "ASP-86-A[1313]                                 0.0   \n",
       "ASP-86-A[1319]                                 0.0   \n",
       "ASP-86-A[1320]                                 0.0   \n",
       "GLN-131-A[2057]                                0.0   \n",
       "GLN-131-A[2061]                                0.0   \n",
       "GLN-131-A[2062]                                0.0   \n",
       "GLU-81-A[1228]                                 0.0   \n",
       "HIS-84-A[1284,1285,1286,1287,1288]             0.0   \n",
       "ILE-10-A[165]                                  0.0   \n",
       "ILE-10-A[169,171,172]                          0.0   \n",
       "ILE-10-A[169,171]                              0.0   \n",
       "LEU-134-A[2109,2110,2111]                      0.0   \n",
       "LEU-83-A[1260]                                 0.0   \n",
       "LEU-83-A[1263]                                 0.0   \n",
       "LYS-129-A[2026]                                0.0   \n",
       "LYS-20-A[308]                                  0.0   \n",
       "LYS-20-A[316]                                  0.2   \n",
       "LYS-89-A[1374]                                 0.0   \n",
       "PHE-82-A[1245,1246,1247,1248,1249,1250]        0.0   \n",
       "VAL-18-A[275,276,277]                          0.0   \n",
       "any                                            0.2   \n",
       "\n",
       "                                         AR[4605,4607,4603,4606,4604]  \\\n",
       "ALA-144-A[2263,2266]                                              0.0   \n",
       "ALA-31-A[488,491]                                                 0.0   \n",
       "ASP-86-A[1313]                                                    0.0   \n",
       "ASP-86-A[1319]                                                    0.0   \n",
       "ASP-86-A[1320]                                                    0.0   \n",
       "GLN-131-A[2057]                                                   0.0   \n",
       "GLN-131-A[2061]                                                   0.0   \n",
       "GLN-131-A[2062]                                                   0.0   \n",
       "GLU-81-A[1228]                                                    0.0   \n",
       "HIS-84-A[1284,1285,1286,1287,1288]                                0.0   \n",
       "ILE-10-A[165]                                                     0.0   \n",
       "ILE-10-A[169,171,172]                                             0.0   \n",
       "ILE-10-A[169,171]                                                 0.0   \n",
       "LEU-134-A[2109,2110,2111]                                         0.0   \n",
       "LEU-83-A[1260]                                                    0.0   \n",
       "LEU-83-A[1263]                                                    0.0   \n",
       "LYS-129-A[2026]                                                   0.1   \n",
       "LYS-20-A[308]                                                     0.0   \n",
       "LYS-20-A[316]                                                     0.0   \n",
       "LYS-89-A[1374]                                                    0.0   \n",
       "PHE-82-A[1245,1246,1247,1248,1249,1250]                           0.0   \n",
       "VAL-18-A[275,276,277]                                             0.0   \n",
       "any                                                               0.1   \n",
       "\n",
       "                                         HBD[4598]  HBA[4606]  \\\n",
       "ALA-144-A[2263,2266]                           0.0        0.0   \n",
       "ALA-31-A[488,491]                              0.0        0.0   \n",
       "ASP-86-A[1313]                                 0.0        0.0   \n",
       "ASP-86-A[1319]                                 0.0        0.0   \n",
       "ASP-86-A[1320]                                 0.0        0.0   \n",
       "GLN-131-A[2057]                                0.0        0.0   \n",
       "GLN-131-A[2061]                                0.0        0.0   \n",
       "GLN-131-A[2062]                                0.0        0.2   \n",
       "GLU-81-A[1228]                                 0.8        0.0   \n",
       "HIS-84-A[1284,1285,1286,1287,1288]             0.0        0.0   \n",
       "ILE-10-A[165]                                  0.0        0.0   \n",
       "ILE-10-A[169,171,172]                          0.0        0.0   \n",
       "ILE-10-A[169,171]                              0.0        0.0   \n",
       "LEU-134-A[2109,2110,2111]                      0.0        0.0   \n",
       "LEU-83-A[1260]                                 0.0        0.0   \n",
       "LEU-83-A[1263]                                 0.2        0.0   \n",
       "LYS-129-A[2026]                                0.0        1.8   \n",
       "LYS-20-A[308]                                  0.0        0.0   \n",
       "LYS-20-A[316]                                  0.0        0.0   \n",
       "LYS-89-A[1374]                                 0.0        0.0   \n",
       "PHE-82-A[1245,1246,1247,1248,1249,1250]        0.0        0.0   \n",
       "VAL-18-A[275,276,277]                          0.0        0.0   \n",
       "any                                            1.0        2.0   \n",
       "\n",
       "                                         AR[4622,4615,4623,4613,4614,4621]  \\\n",
       "ALA-144-A[2263,2266]                                                  0.00   \n",
       "ALA-31-A[488,491]                                                     0.00   \n",
       "ASP-86-A[1313]                                                        0.00   \n",
       "ASP-86-A[1319]                                                        0.00   \n",
       "ASP-86-A[1320]                                                        0.00   \n",
       "GLN-131-A[2057]                                                       0.00   \n",
       "GLN-131-A[2061]                                                       0.00   \n",
       "GLN-131-A[2062]                                                       0.00   \n",
       "GLU-81-A[1228]                                                        0.00   \n",
       "HIS-84-A[1284,1285,1286,1287,1288]                                    0.10   \n",
       "ILE-10-A[165]                                                         0.10   \n",
       "ILE-10-A[169,171,172]                                                 0.00   \n",
       "ILE-10-A[169,171]                                                     0.00   \n",
       "LEU-134-A[2109,2110,2111]                                             0.00   \n",
       "LEU-83-A[1260]                                                        0.00   \n",
       "LEU-83-A[1263]                                                        0.00   \n",
       "LYS-129-A[2026]                                                       0.00   \n",
       "LYS-20-A[308]                                                         0.00   \n",
       "LYS-20-A[316]                                                         0.00   \n",
       "LYS-89-A[1374]                                                        3.79   \n",
       "PHE-82-A[1245,1246,1247,1248,1249,1250]                               0.00   \n",
       "VAL-18-A[275,276,277]                                                 0.00   \n",
       "any                                                                   3.99   \n",
       "\n",
       "                                         HBD[4612]  HBA[4619]  HBA[4596]  \\\n",
       "ALA-144-A[2263,2266]                          0.00       0.00       0.00   \n",
       "ALA-31-A[488,491]                             0.00       0.00       0.00   \n",
       "ASP-86-A[1313]                                0.00       0.20       0.00   \n",
       "ASP-86-A[1319]                                1.80       0.00       0.00   \n",
       "ASP-86-A[1320]                                2.00       0.00       0.00   \n",
       "GLN-131-A[2057]                               0.10       0.00       0.00   \n",
       "GLN-131-A[2061]                               0.80       0.00       0.00   \n",
       "GLN-131-A[2062]                               0.00       0.00       0.00   \n",
       "GLU-81-A[1228]                                0.00       0.00       0.00   \n",
       "HIS-84-A[1284,1285,1286,1287,1288]            0.00       0.00       0.00   \n",
       "ILE-10-A[165]                                 0.00      11.58       0.00   \n",
       "ILE-10-A[169,171,172]                         0.00       0.00       0.00   \n",
       "ILE-10-A[169,171]                             0.00       0.00       0.00   \n",
       "LEU-134-A[2109,2110,2111]                     0.00       0.00       0.00   \n",
       "LEU-83-A[1260]                                0.00       0.00      86.03   \n",
       "LEU-83-A[1263]                                3.29       0.00       0.00   \n",
       "LYS-129-A[2026]                               0.00       0.00       0.00   \n",
       "LYS-20-A[308]                                 0.00       0.50       0.00   \n",
       "LYS-20-A[316]                                 0.00       0.30       0.00   \n",
       "LYS-89-A[1374]                                0.00       0.00       0.00   \n",
       "PHE-82-A[1245,1246,1247,1248,1249,1250]       0.00       0.00       0.00   \n",
       "VAL-18-A[275,276,277]                         0.00       0.00       0.00   \n",
       "any                                           7.98      12.28      86.03   \n",
       "\n",
       "                                         H[4615,4623,4622,4613,4621,4614]  \\\n",
       "ALA-144-A[2263,2266]                                                 0.00   \n",
       "ALA-31-A[488,491]                                                    0.00   \n",
       "ASP-86-A[1313]                                                       0.00   \n",
       "ASP-86-A[1319]                                                       0.00   \n",
       "ASP-86-A[1320]                                                       0.00   \n",
       "GLN-131-A[2057]                                                      0.00   \n",
       "GLN-131-A[2061]                                                      0.00   \n",
       "GLN-131-A[2062]                                                      0.00   \n",
       "GLU-81-A[1228]                                                       0.00   \n",
       "HIS-84-A[1284,1285,1286,1287,1288]                                   0.00   \n",
       "ILE-10-A[165]                                                        0.00   \n",
       "ILE-10-A[169,171,172]                                               99.30   \n",
       "ILE-10-A[169,171]                                                   94.31   \n",
       "LEU-134-A[2109,2110,2111]                                            0.00   \n",
       "LEU-83-A[1260]                                                       0.00   \n",
       "LEU-83-A[1263]                                                       0.00   \n",
       "LYS-129-A[2026]                                                      0.00   \n",
       "LYS-20-A[308]                                                        0.00   \n",
       "LYS-20-A[316]                                                        0.00   \n",
       "LYS-89-A[1374]                                                       0.00   \n",
       "PHE-82-A[1245,1246,1247,1248,1249,1250]                              5.69   \n",
       "VAL-18-A[275,276,277]                                                0.00   \n",
       "any                                                                 99.90   \n",
       "\n",
       "                                         H[4599,4602,4601,4608,4609,4600]  \n",
       "ALA-144-A[2263,2266]                                                99.00  \n",
       "ALA-31-A[488,491]                                                   21.56  \n",
       "ASP-86-A[1313]                                                       0.00  \n",
       "ASP-86-A[1319]                                                       0.00  \n",
       "ASP-86-A[1320]                                                       0.00  \n",
       "GLN-131-A[2057]                                                      0.00  \n",
       "GLN-131-A[2061]                                                      0.00  \n",
       "GLN-131-A[2062]                                                      0.00  \n",
       "GLU-81-A[1228]                                                       0.00  \n",
       "HIS-84-A[1284,1285,1286,1287,1288]                                   0.00  \n",
       "ILE-10-A[165]                                                        0.00  \n",
       "ILE-10-A[169,171,172]                                               95.71  \n",
       "ILE-10-A[169,171]                                                   97.01  \n",
       "LEU-134-A[2109,2110,2111]                                           99.70  \n",
       "LEU-83-A[1260]                                                       0.00  \n",
       "LEU-83-A[1263]                                                       0.00  \n",
       "LYS-129-A[2026]                                                      0.00  \n",
       "LYS-20-A[308]                                                        0.00  \n",
       "LYS-20-A[316]                                                        0.00  \n",
       "LYS-89-A[1374]                                                       0.00  \n",
       "PHE-82-A[1245,1246,1247,1248,1249,1250]                              0.00  \n",
       "VAL-18-A[275,276,277]                                               95.31  \n",
       "any                                                                100.00  "
      ]
     },
     "execution_count": 26,
     "metadata": {},
     "output_type": "execute_result"
    }
   ],
   "source": [
    "dynophore.frequency"
   ]
  },
  {
   "cell_type": "markdown",
   "id": "metropolitan-springfield",
   "metadata": {},
   "source": [
    "## Superfeature clouds"
   ]
  },
  {
   "cell_type": "code",
   "execution_count": 27,
   "id": "promising-strap",
   "metadata": {},
   "outputs": [
    {
     "data": {
      "text/html": [
       "<div>\n",
       "<style scoped>\n",
       "    .dataframe tbody tr th:only-of-type {\n",
       "        vertical-align: middle;\n",
       "    }\n",
       "\n",
       "    .dataframe tbody tr th {\n",
       "        vertical-align: top;\n",
       "    }\n",
       "\n",
       "    .dataframe thead th {\n",
       "        text-align: right;\n",
       "    }\n",
       "</style>\n",
       "<table border=\"1\" class=\"dataframe\">\n",
       "  <thead>\n",
       "    <tr style=\"text-align: right;\">\n",
       "      <th></th>\n",
       "      <th>x</th>\n",
       "      <th>y</th>\n",
       "      <th>z</th>\n",
       "      <th>frame_ix</th>\n",
       "      <th>weight</th>\n",
       "    </tr>\n",
       "  </thead>\n",
       "  <tbody>\n",
       "    <tr>\n",
       "      <th>0</th>\n",
       "      <td>-18.598375</td>\n",
       "      <td>-8.370245</td>\n",
       "      <td>2.017743</td>\n",
       "      <td>959</td>\n",
       "      <td>1.0</td>\n",
       "    </tr>\n",
       "    <tr>\n",
       "      <th>1</th>\n",
       "      <td>-18.416897</td>\n",
       "      <td>-8.441224</td>\n",
       "      <td>1.054801</td>\n",
       "      <td>964</td>\n",
       "      <td>1.0</td>\n",
       "    </tr>\n",
       "  </tbody>\n",
       "</table>\n",
       "</div>"
      ],
      "text/plain": [
       "           x         y         z  frame_ix  weight\n",
       "0 -18.598375 -8.370245  2.017743       959     1.0\n",
       "1 -18.416897 -8.441224  1.054801       964     1.0"
      ]
     },
     "execution_count": 27,
     "metadata": {},
     "output_type": "execute_result"
    }
   ],
   "source": [
    "dynophore.cloud_by_superfeature(superfeature_id)"
   ]
  },
  {
   "cell_type": "code",
   "execution_count": 28,
   "id": "chemical-humidity",
   "metadata": {},
   "outputs": [
    {
     "data": {
      "text/plain": [
       "dict_keys(['HBA[4618]', 'AR[4605,4607,4603,4606,4604]', 'HBD[4598]', 'HBA[4606]', 'AR[4622,4615,4623,4613,4614,4621]', 'HBD[4612]', 'HBA[4619]', 'HBA[4596]', 'H[4615,4623,4622,4613,4621,4614]', 'H[4599,4602,4601,4608,4609,4600]'])"
      ]
     },
     "execution_count": 28,
     "metadata": {},
     "output_type": "execute_result"
    }
   ],
   "source": [
    "dynophore.clouds.keys()"
   ]
  }
 ],
 "metadata": {
  "kernelspec": {
   "display_name": "Python 3",
   "language": "python",
   "name": "python3"
  },
  "language_info": {
   "codemirror_mode": {
    "name": "ipython",
    "version": 3
   },
   "file_extension": ".py",
   "mimetype": "text/x-python",
   "name": "python",
   "nbconvert_exporter": "python",
   "pygments_lexer": "ipython3",
   "version": "3.9.4"
  },
  "widgets": {
   "application/vnd.jupyter.widget-state+json": {
    "state": {
     "208ef0ed490843bb91230a1dcd3b3c05": {
      "model_module": "nglview-js-widgets",
      "model_module_version": "3.0.1",
      "model_name": "ColormakerRegistryModel",
      "state": {
       "_msg_ar": [],
       "_msg_q": [],
       "_ready": true,
       "layout": "IPY_MODEL_3a37c670412046bcaf12028689d926cd"
      }
     },
     "3a37c670412046bcaf12028689d926cd": {
      "model_module": "@jupyter-widgets/base",
      "model_module_version": "1.2.0",
      "model_name": "LayoutModel",
      "state": {}
     }
    },
    "version_major": 2,
    "version_minor": 0
   }
  }
 },
 "nbformat": 4,
 "nbformat_minor": 5
}
