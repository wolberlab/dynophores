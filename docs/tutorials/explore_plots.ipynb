{
 "cells": [
  {
   "cell_type": "markdown",
   "metadata": {},
   "source": [
    "# Visualize dynophores: Statistics\n",
    "\n",
    "In this notebook, we will show how to use the `dynophores` library for static and interactive plotting."
   ]
  },
  {
   "cell_type": "code",
   "execution_count": 1,
   "metadata": {
    "tags": []
   },
   "outputs": [],
   "source": [
    "%load_ext autoreload\n",
    "%autoreload 2"
   ]
  },
  {
   "cell_type": "code",
   "execution_count": 2,
   "metadata": {},
   "outputs": [],
   "source": [
    "%matplotlib widget"
   ]
  },
  {
   "cell_type": "code",
   "execution_count": 3,
   "metadata": {},
   "outputs": [
    {
     "data": {
      "application/vnd.jupyter.widget-view+json": {
       "model_id": "378634102db846ac8f37fe2d0bbdb492",
       "version_major": 2,
       "version_minor": 0
      },
      "text/plain": []
     },
     "metadata": {},
     "output_type": "display_data"
    }
   ],
   "source": [
    "from pathlib import Path\n",
    "\n",
    "from dynophores import Dynophore\n",
    "from dynophores import plot"
   ]
  },
  {
   "cell_type": "markdown",
   "metadata": {},
   "source": [
    "## Set path to `DynophoreApp` output data folder"
   ]
  },
  {
   "cell_type": "code",
   "execution_count": 4,
   "metadata": {},
   "outputs": [],
   "source": [
    "DATA = Path(\"../../dynophores/tests/data\")\n",
    "dyno_path = DATA / \"out\""
   ]
  },
  {
   "cell_type": "markdown",
   "metadata": {},
   "source": [
    "## Load data as `Dynophore` object"
   ]
  },
  {
   "cell_type": "code",
   "execution_count": 5,
   "metadata": {},
   "outputs": [],
   "source": [
    "dynophore = Dynophore.from_dir(dyno_path)"
   ]
  },
  {
   "cell_type": "markdown",
   "metadata": {},
   "source": [
    "## Statistics"
   ]
  },
  {
   "cell_type": "markdown",
   "metadata": {},
   "source": [
    "### Plot interactions overview (heatmap)"
   ]
  },
  {
   "cell_type": "code",
   "execution_count": 6,
   "metadata": {},
   "outputs": [
    {
     "data": {
      "application/vnd.jupyter.widget-view+json": {
       "model_id": "165ea4b01b244563818420242011eca5",
       "version_major": 2,
       "version_minor": 0
      },
      "text/plain": [
       "interactive(children=(SelectMultiple(description='Superfeature ID(s):', index=(0,), options=('all', 'H[4599,46…"
      ]
     },
     "metadata": {},
     "output_type": "display_data"
    }
   ],
   "source": [
    "plot.interactive.superfeatures_vs_envpartners(dynophore)"
   ]
  },
  {
   "cell_type": "markdown",
   "metadata": {},
   "source": [
    "### Plot superfeature occurrences (time series)"
   ]
  },
  {
   "cell_type": "code",
   "execution_count": 7,
   "metadata": {},
   "outputs": [
    {
     "data": {
      "application/vnd.jupyter.widget-view+json": {
       "model_id": "bcac2b254e1049749745ce1043b86ef3",
       "version_major": 2,
       "version_minor": 0
      },
      "text/plain": [
       "interactive(children=(SelectMultiple(description='Superfeature ID(s):', index=(0,), options=('all', 'H[4599,46…"
      ]
     },
     "metadata": {},
     "output_type": "display_data"
    }
   ],
   "source": [
    "plot.interactive.superfeatures_occurrences(dynophore)"
   ]
  },
  {
   "cell_type": "markdown",
   "metadata": {},
   "source": [
    "### Plot interactions for example superfeature (time series)"
   ]
  },
  {
   "cell_type": "markdown",
   "metadata": {},
   "source": [
    "#### Interaction occurrence"
   ]
  },
  {
   "cell_type": "code",
   "execution_count": 8,
   "metadata": {},
   "outputs": [
    {
     "data": {
      "application/vnd.jupyter.widget-view+json": {
       "model_id": "f1279d2a0d5547a197eb5226e13eb78a",
       "version_major": 2,
       "version_minor": 0
      },
      "text/plain": [
       "interactive(children=(SelectMultiple(description='Superfeature ID(s):', index=(0,), options=('H[4599,4602,4601…"
      ]
     },
     "metadata": {},
     "output_type": "display_data"
    }
   ],
   "source": [
    "plot.interactive.envpartners_occurrences(dynophore)"
   ]
  },
  {
   "cell_type": "markdown",
   "metadata": {},
   "source": [
    "#### Interaction distances (time series and histogram)"
   ]
  },
  {
   "cell_type": "code",
   "execution_count": 9,
   "metadata": {},
   "outputs": [
    {
     "data": {
      "application/vnd.jupyter.widget-view+json": {
       "model_id": "a587ec0b51f54629b8141bf8b60ea034",
       "version_major": 2,
       "version_minor": 0
      },
      "text/plain": [
       "interactive(children=(SelectMultiple(description='Superfeature ID(s):', index=(0,), options=('H[4599,4602,4601…"
      ]
     },
     "metadata": {},
     "output_type": "display_data"
    }
   ],
   "source": [
    "plot.interactive.envpartners_distances(dynophore)"
   ]
  },
  {
   "cell_type": "markdown",
   "metadata": {},
   "source": [
    "#### Interaction profile (all-in-one)"
   ]
  },
  {
   "cell_type": "code",
   "execution_count": 10,
   "metadata": {},
   "outputs": [
    {
     "data": {
      "application/vnd.jupyter.widget-view+json": {
       "model_id": "ccb304a1290c4f27bc56e16d5dd1a74a",
       "version_major": 2,
       "version_minor": 0
      },
      "text/plain": [
       "interactive(children=(Select(description='Superfeature ID(s):', options=('H[4599,4602,4601,4608,4609,4600]', '…"
      ]
     },
     "metadata": {},
     "output_type": "display_data"
    }
   ],
   "source": [
    "plot.interactive.envpartners_all_in_one(dynophore)"
   ]
  }
 ],
 "metadata": {
  "kernelspec": {
   "display_name": "Python 3 (ipykernel)",
   "language": "python",
   "name": "python3"
  },
  "language_info": {
   "codemirror_mode": {
    "name": "ipython",
    "version": 3
   },
   "file_extension": ".py",
   "mimetype": "text/x-python",
   "name": "python",
   "nbconvert_exporter": "python",
   "pygments_lexer": "ipython3",
   "version": "3.9.6"
  },
  "widgets": {
   "application/vnd.jupyter.widget-state+json": {
    "state": {
     "06662dd8524a41d79c7472500b0ebf9b": {
      "model_module": "jupyter-matplotlib",
      "model_module_version": "^0.9.0",
      "model_name": "MPLCanvasModel",
      "state": {
       "_cursor": "default",
       "_figure_label": "Figure 1",
       "_height": 550,
       "_width": 800,
       "layout": "IPY_MODEL_197f5b8bbee24d6486c5a000e287ecd9",
       "toolbar": "IPY_MODEL_2deb54ba9e004636bdc5843aec88cac2",
       "toolbar_position": "left"
      }
     },
     "0db00c69afba418286268f002448afdb": {
      "model_module": "@jupyter-widgets/base",
      "model_module_version": "1.2.0",
      "model_name": "LayoutModel",
      "state": {}
     },
     "11e37b1fcfe64202b9b5df08f0d75cd5": {
      "model_module": "@jupyter-widgets/base",
      "model_module_version": "1.2.0",
      "model_name": "LayoutModel",
      "state": {}
     },
     "1389c0caf1154f1dab6bbfeb5f9f606c": {
      "model_module": "@jupyter-widgets/controls",
      "model_module_version": "1.5.0",
      "model_name": "BoundedIntTextModel",
      "state": {
       "description": "Frames step size:",
       "layout": "IPY_MODEL_2941759c99784aaaa1cf35cb0dd55248",
       "max": 1001,
       "min": 1,
       "style": "IPY_MODEL_e455aec26d564403bcacaf7df12367ba",
       "value": 1
      }
     },
     "16073d34bb764b10ac956feaa530f2ab": {
      "model_module": "@jupyter-widgets/base",
      "model_module_version": "1.2.0",
      "model_name": "LayoutModel",
      "state": {}
     },
     "165ea4b01b244563818420242011eca5": {
      "model_module": "@jupyter-widgets/controls",
      "model_module_version": "1.5.0",
      "model_name": "VBoxModel",
      "state": {
       "_dom_classes": [
        "widget-interact"
       ],
       "children": [
        "IPY_MODEL_4125231565954247a4a7ba48f015241c",
        "IPY_MODEL_e0535026918c4849bc604fc54d5dc13e",
        "IPY_MODEL_64a2115a853e4929aecc37cb51bed1a1"
       ],
       "layout": "IPY_MODEL_f15370e8ca324872b092a8b00170cfb0"
      }
     },
     "197f5b8bbee24d6486c5a000e287ecd9": {
      "model_module": "@jupyter-widgets/base",
      "model_module_version": "1.2.0",
      "model_name": "LayoutModel",
      "state": {}
     },
     "1efc6448a4cb44dbb41b394dcfdb6ae5": {
      "model_module": "@jupyter-widgets/base",
      "model_module_version": "1.2.0",
      "model_name": "LayoutModel",
      "state": {}
     },
     "20a362c9f82944b7ae4ff11496afba6b": {
      "model_module": "@jupyter-widgets/base",
      "model_module_version": "1.2.0",
      "model_name": "LayoutModel",
      "state": {}
     },
     "20baef5f4ab34f21962fdd5908ead147": {
      "model_module": "jupyter-matplotlib",
      "model_module_version": "^0.9.0",
      "model_name": "ToolbarModel",
      "state": {
       "layout": "IPY_MODEL_0db00c69afba418286268f002448afdb",
       "toolitems": [
        [
         "Home",
         "Reset original view",
         "home",
         "home"
        ],
        [
         "Back",
         "Back to previous view",
         "arrow-left",
         "back"
        ],
        [
         "Forward",
         "Forward to next view",
         "arrow-right",
         "forward"
        ],
        [
         "Pan",
         "Left button pans, Right button zooms\nx/y fixes axis, CTRL fixes aspect",
         "arrows",
         "pan"
        ],
        [
         "Zoom",
         "Zoom to rectangle\nx/y fixes axis, CTRL fixes aspect",
         "square-o",
         "zoom"
        ],
        [
         "Download",
         "Download plot",
         "floppy-o",
         "save_figure"
        ]
       ]
      }
     },
     "225e020d8a4f428fb4dc80e4218ab312": {
      "model_module": "jupyter-matplotlib",
      "model_module_version": "^0.9.0",
      "model_name": "MPLCanvasModel",
      "state": {
       "_cursor": "default",
       "_figure_label": "Figure 3",
       "_height": 200,
       "_width": 800,
       "layout": "IPY_MODEL_6eb8b409af19420aa009f8e601d4dd73",
       "toolbar": "IPY_MODEL_20baef5f4ab34f21962fdd5908ead147",
       "toolbar_position": "left"
      }
     },
     "247e1f09ba734abcaa8fe7b8a3590780": {
      "model_module": "@jupyter-widgets/controls",
      "model_module_version": "1.5.0",
      "model_name": "SelectModel",
      "state": {
       "_options_labels": [
        "H[4599,4602,4601,4608,4609,4600]",
        "H[4615,4623,4622,4613,4621,4614]",
        "HBA[4596]",
        "HBA[4619]",
        "HBD[4612]",
        "AR[4622,4615,4623,4613,4614,4621]",
        "HBA[4606]",
        "HBD[4598]",
        "HBA[4618]",
        "AR[4605,4607,4603,4606,4604]"
       ],
       "description": "Superfeature ID(s):",
       "index": 0,
       "layout": "IPY_MODEL_1efc6448a4cb44dbb41b394dcfdb6ae5",
       "style": "IPY_MODEL_714cc1b942fd4d1e82ae61df07fe2635"
      }
     },
     "2941759c99784aaaa1cf35cb0dd55248": {
      "model_module": "@jupyter-widgets/base",
      "model_module_version": "1.2.0",
      "model_name": "LayoutModel",
      "state": {}
     },
     "2af659619b7d44459847a2f346648dd2": {
      "model_module": "@jupyter-widgets/base",
      "model_module_version": "1.2.0",
      "model_name": "LayoutModel",
      "state": {}
     },
     "2d1e5ea69be74e3ab955e56c752d1859": {
      "model_module": "@jupyter-widgets/base",
      "model_module_version": "1.2.0",
      "model_name": "LayoutModel",
      "state": {}
     },
     "2deb54ba9e004636bdc5843aec88cac2": {
      "model_module": "jupyter-matplotlib",
      "model_module_version": "^0.9.0",
      "model_name": "ToolbarModel",
      "state": {
       "layout": "IPY_MODEL_d9da0bb3adf14ece994766996c544366",
       "toolitems": [
        [
         "Home",
         "Reset original view",
         "home",
         "home"
        ],
        [
         "Back",
         "Back to previous view",
         "arrow-left",
         "back"
        ],
        [
         "Forward",
         "Forward to next view",
         "arrow-right",
         "forward"
        ],
        [
         "Pan",
         "Left button pans, Right button zooms\nx/y fixes axis, CTRL fixes aspect",
         "arrows",
         "pan"
        ],
        [
         "Zoom",
         "Zoom to rectangle\nx/y fixes axis, CTRL fixes aspect",
         "square-o",
         "zoom"
        ],
        [
         "Download",
         "Download plot",
         "floppy-o",
         "save_figure"
        ]
       ]
      }
     },
     "304c51082481417180e7e780a8613df4": {
      "model_module": "@jupyter-widgets/output",
      "model_module_version": "1.0.0",
      "model_name": "OutputModel",
      "state": {
       "layout": "IPY_MODEL_84af4e4cfe3e4607ab4b3606f38893ce",
       "outputs": [
        {
         "data": {
          "application/vnd.jupyter.widget-view+json": {
           "model_id": "6c2cdec8885d4750b11559344cbab505",
           "version_major": 2,
           "version_minor": 0
          },
          "text/plain": "Canvas(toolbar=Toolbar(toolitems=[('Home', 'Reset original view', 'home', 'home'), ('Back', 'Back to previous …"
         },
         "metadata": {},
         "output_type": "display_data"
        },
        {
         "data": {
          "text/plain": "(<Figure size 800x550 with 1 Axes>, <AxesSubplot:xlabel='Frame index'>)"
         },
         "metadata": {},
         "output_type": "display_data"
        }
       ]
      }
     },
     "3086cdaed9dc4b7aa6d67c8ec5f2a843": {
      "model_module": "@jupyter-widgets/controls",
      "model_module_version": "1.5.0",
      "model_name": "BoundedIntTextModel",
      "state": {
       "description": "Frames step size:",
       "layout": "IPY_MODEL_65a93d7cc668492a9dff1920978eb40b",
       "max": 1001,
       "min": 1,
       "style": "IPY_MODEL_8977ea878b83481cad26278c2e7d83e6",
       "value": 1
      }
     },
     "31efd0ce75904feb8eb30d84beef3ad9": {
      "model_module": "@jupyter-widgets/base",
      "model_module_version": "1.2.0",
      "model_name": "LayoutModel",
      "state": {}
     },
     "3397e722749d43088b93b79d51161e78": {
      "model_module": "@jupyter-widgets/base",
      "model_module_version": "1.2.0",
      "model_name": "LayoutModel",
      "state": {}
     },
     "3520c38e387f448b9a6e318ec59420de": {
      "model_module": "@jupyter-widgets/base",
      "model_module_version": "1.2.0",
      "model_name": "LayoutModel",
      "state": {}
     },
     "378634102db846ac8f37fe2d0bbdb492": {
      "model_module": "nglview-js-widgets",
      "model_module_version": "3.0.1",
      "model_name": "ColormakerRegistryModel",
      "state": {
       "_msg_ar": [],
       "_msg_q": [],
       "_ready": true,
       "layout": "IPY_MODEL_7597fa4882ba4d6baaecfc5b2e1306f4"
      }
     },
     "4125231565954247a4a7ba48f015241c": {
      "model_module": "@jupyter-widgets/controls",
      "model_module_version": "1.5.0",
      "model_name": "SelectMultipleModel",
      "state": {
       "_options_labels": [
        "all",
        "H[4599,4602,4601,4608,4609,4600]",
        "H[4615,4623,4622,4613,4621,4614]",
        "HBA[4596]",
        "HBA[4619]",
        "HBD[4612]",
        "AR[4622,4615,4623,4613,4614,4621]",
        "HBA[4606]",
        "HBD[4598]",
        "HBA[4618]",
        "AR[4605,4607,4603,4606,4604]"
       ],
       "description": "Superfeature ID(s):",
       "index": [
        0
       ],
       "layout": "IPY_MODEL_77bb55abdac74ef5a6dc33888f0d4881",
       "rows": 5,
       "style": "IPY_MODEL_a439686950f140879142aac3cffd036c"
      }
     },
     "43b407f6ad934781b413018a6e50a8f8": {
      "model_module": "@jupyter-widgets/base",
      "model_module_version": "1.2.0",
      "model_name": "LayoutModel",
      "state": {}
     },
     "45f37485c433422b90141fe2aa150155": {
      "model_module": "jupyter-matplotlib",
      "model_module_version": "^0.9.0",
      "model_name": "ToolbarModel",
      "state": {
       "layout": "IPY_MODEL_16073d34bb764b10ac956feaa530f2ab",
       "toolitems": [
        [
         "Home",
         "Reset original view",
         "home",
         "home"
        ],
        [
         "Back",
         "Back to previous view",
         "arrow-left",
         "back"
        ],
        [
         "Forward",
         "Forward to next view",
         "arrow-right",
         "forward"
        ],
        [
         "Pan",
         "Left button pans, Right button zooms\nx/y fixes axis, CTRL fixes aspect",
         "arrows",
         "pan"
        ],
        [
         "Zoom",
         "Zoom to rectangle\nx/y fixes axis, CTRL fixes aspect",
         "square-o",
         "zoom"
        ],
        [
         "Download",
         "Download plot",
         "floppy-o",
         "save_figure"
        ]
       ]
      }
     },
     "491d0056143c48338622ea2c18af8baf": {
      "model_module": "@jupyter-widgets/controls",
      "model_module_version": "1.5.0",
      "model_name": "DescriptionStyleModel",
      "state": {
       "description_width": ""
      }
     },
     "4b463f25312243b5994913f01c644a6e": {
      "model_module": "@jupyter-widgets/output",
      "model_module_version": "1.0.0",
      "model_name": "OutputModel",
      "state": {
       "layout": "IPY_MODEL_43b407f6ad934781b413018a6e50a8f8",
       "outputs": [
        {
         "data": {
          "application/vnd.jupyter.widget-view+json": {
           "model_id": "225e020d8a4f428fb4dc80e4218ab312",
           "version_major": 2,
           "version_minor": 0
          },
          "text/plain": "Canvas(toolbar=Toolbar(toolitems=[('Home', 'Reset original view', 'home', 'home'), ('Back', 'Back to previous …"
         },
         "metadata": {},
         "output_type": "display_data"
        },
        {
         "data": {
          "text/plain": "(<Figure size 800x200 with 1 Axes>,\n <AxesSubplot:title={'center':'H[4599,4602,4601,4608,4609,4600] 100.0%'}, xlabel='Frame index'>)"
         },
         "metadata": {},
         "output_type": "display_data"
        }
       ]
      }
     },
     "4eeeacb836064f6788f82638dd53d927": {
      "model_module": "@jupyter-widgets/controls",
      "model_module_version": "1.5.0",
      "model_name": "CheckboxModel",
      "state": {
       "description": "Color by feature type",
       "disabled": false,
       "layout": "IPY_MODEL_80d82b987819497992864f3ed60878df",
       "style": "IPY_MODEL_585de3a31a144af0ba57dbc55bdf3668",
       "value": true
      }
     },
     "55803ea79a794bc7aa14c3fc000cbe4b": {
      "model_module": "@jupyter-widgets/base",
      "model_module_version": "1.2.0",
      "model_name": "LayoutModel",
      "state": {}
     },
     "585de3a31a144af0ba57dbc55bdf3668": {
      "model_module": "@jupyter-widgets/controls",
      "model_module_version": "1.5.0",
      "model_name": "DescriptionStyleModel",
      "state": {
       "description_width": ""
      }
     },
     "59ae1b27ef454da6b409e89b8e411f57": {
      "model_module": "@jupyter-widgets/base",
      "model_module_version": "1.2.0",
      "model_name": "LayoutModel",
      "state": {}
     },
     "59c24718897d46b2ae17783d0a1c5e83": {
      "model_module": "@jupyter-widgets/controls",
      "model_module_version": "1.5.0",
      "model_name": "SelectMultipleModel",
      "state": {
       "_options_labels": [
        "H[4599,4602,4601,4608,4609,4600]",
        "H[4615,4623,4622,4613,4621,4614]",
        "HBA[4596]",
        "HBA[4619]",
        "HBD[4612]",
        "AR[4622,4615,4623,4613,4614,4621]",
        "HBA[4606]",
        "HBD[4598]",
        "HBA[4618]",
        "AR[4605,4607,4603,4606,4604]"
       ],
       "description": "Superfeature ID(s):",
       "index": [
        0
       ],
       "layout": "IPY_MODEL_f557119c12384da198ad50224f3824d5",
       "rows": 5,
       "style": "IPY_MODEL_d9f8c401741e47fa8b2f2b77abdf200b"
      }
     },
     "60ae3756f7504744bf1c6e46d298a8c0": {
      "model_module": "@jupyter-widgets/controls",
      "model_module_version": "1.5.0",
      "model_name": "SliderStyleModel",
      "state": {
       "description_width": "initial"
      }
     },
     "63796a1dce4444bba4bb3da4a363d7cd": {
      "model_module": "@jupyter-widgets/base",
      "model_module_version": "1.2.0",
      "model_name": "LayoutModel",
      "state": {}
     },
     "64a2115a853e4929aecc37cb51bed1a1": {
      "model_module": "@jupyter-widgets/output",
      "model_module_version": "1.0.0",
      "model_name": "OutputModel",
      "state": {
       "layout": "IPY_MODEL_e1f91d684c8d48dbb145bb023687661a",
       "outputs": [
        {
         "data": {
          "application/vnd.jupyter.widget-view+json": {
           "model_id": "06662dd8524a41d79c7472500b0ebf9b",
           "version_major": 2,
           "version_minor": 0
          },
          "text/plain": "Canvas(toolbar=Toolbar(toolitems=[('Home', 'Reset original view', 'home', 'home'), ('Back', 'Back to previous …"
         },
         "metadata": {},
         "output_type": "display_data"
        },
        {
         "data": {
          "text/plain": "(<Figure size 800x550 with 2 Axes>,\n <AxesSubplot:xlabel='Superfeature IDs', ylabel='Environmental partner IDs'>)"
         },
         "metadata": {},
         "output_type": "display_data"
        }
       ]
      }
     },
     "65a93d7cc668492a9dff1920978eb40b": {
      "model_module": "@jupyter-widgets/base",
      "model_module_version": "1.2.0",
      "model_name": "LayoutModel",
      "state": {}
     },
     "671ab3350e41408d8ea55dd3ab22db6d": {
      "model_module": "jupyter-matplotlib",
      "model_module_version": "^0.9.0",
      "model_name": "ToolbarModel",
      "state": {
       "layout": "IPY_MODEL_9e2d1c8ba8ee4a22878c2f309926dd92",
       "toolitems": [
        [
         "Home",
         "Reset original view",
         "home",
         "home"
        ],
        [
         "Back",
         "Back to previous view",
         "arrow-left",
         "back"
        ],
        [
         "Forward",
         "Forward to next view",
         "arrow-right",
         "forward"
        ],
        [
         "Pan",
         "Left button pans, Right button zooms\nx/y fixes axis, CTRL fixes aspect",
         "arrows",
         "pan"
        ],
        [
         "Zoom",
         "Zoom to rectangle\nx/y fixes axis, CTRL fixes aspect",
         "square-o",
         "zoom"
        ],
        [
         "Download",
         "Download plot",
         "floppy-o",
         "save_figure"
        ]
       ]
      }
     },
     "6c2cdec8885d4750b11559344cbab505": {
      "model_module": "jupyter-matplotlib",
      "model_module_version": "^0.9.0",
      "model_name": "MPLCanvasModel",
      "state": {
       "_cursor": "default",
       "_figure_label": "Figure 2",
       "_height": 550,
       "_width": 800,
       "layout": "IPY_MODEL_11e37b1fcfe64202b9b5df08f0d75cd5",
       "toolbar": "IPY_MODEL_671ab3350e41408d8ea55dd3ab22db6d",
       "toolbar_position": "left"
      }
     },
     "6e4f5a75e93a43b28f8e50d0e7a09517": {
      "model_module": "jupyter-matplotlib",
      "model_module_version": "^0.9.0",
      "model_name": "ToolbarModel",
      "state": {
       "layout": "IPY_MODEL_cdb18f12752d4f63b0e68e4fcbf5cfe9",
       "toolitems": [
        [
         "Home",
         "Reset original view",
         "home",
         "home"
        ],
        [
         "Back",
         "Back to previous view",
         "arrow-left",
         "back"
        ],
        [
         "Forward",
         "Forward to next view",
         "arrow-right",
         "forward"
        ],
        [
         "Pan",
         "Left button pans, Right button zooms\nx/y fixes axis, CTRL fixes aspect",
         "arrows",
         "pan"
        ],
        [
         "Zoom",
         "Zoom to rectangle\nx/y fixes axis, CTRL fixes aspect",
         "square-o",
         "zoom"
        ],
        [
         "Download",
         "Download plot",
         "floppy-o",
         "save_figure"
        ]
       ]
      }
     },
     "6eb8b409af19420aa009f8e601d4dd73": {
      "model_module": "@jupyter-widgets/base",
      "model_module_version": "1.2.0",
      "model_name": "LayoutModel",
      "state": {}
     },
     "714cc1b942fd4d1e82ae61df07fe2635": {
      "model_module": "@jupyter-widgets/controls",
      "model_module_version": "1.5.0",
      "model_name": "DescriptionStyleModel",
      "state": {
       "description_width": "initial"
      }
     },
     "7597fa4882ba4d6baaecfc5b2e1306f4": {
      "model_module": "@jupyter-widgets/base",
      "model_module_version": "1.2.0",
      "model_name": "LayoutModel",
      "state": {}
     },
     "77bb55abdac74ef5a6dc33888f0d4881": {
      "model_module": "@jupyter-widgets/base",
      "model_module_version": "1.2.0",
      "model_name": "LayoutModel",
      "state": {}
     },
     "7d783ef2c72b4fa086243e7872b4dbd5": {
      "model_module": "@jupyter-widgets/controls",
      "model_module_version": "1.5.0",
      "model_name": "DescriptionStyleModel",
      "state": {
       "description_width": "initial"
      }
     },
     "7f4e839b5d724fbe81a9f92cadf56ade": {
      "model_module": "@jupyter-widgets/controls",
      "model_module_version": "1.5.0",
      "model_name": "BoundedFloatTextModel",
      "state": {
       "description": "Occurrence minimum [%]:",
       "layout": "IPY_MODEL_84ba22b80c38441fb280ecab46d8efee",
       "step": 1,
       "style": "IPY_MODEL_a97649dcb3a94a1ca1b6f2d54ec87f46"
      }
     },
     "80d82b987819497992864f3ed60878df": {
      "model_module": "@jupyter-widgets/base",
      "model_module_version": "1.2.0",
      "model_name": "LayoutModel",
      "state": {}
     },
     "83fa38cdafe54bc981d18a58ab1ec9a5": {
      "model_module": "@jupyter-widgets/base",
      "model_module_version": "1.2.0",
      "model_name": "LayoutModel",
      "state": {}
     },
     "84af4e4cfe3e4607ab4b3606f38893ce": {
      "model_module": "@jupyter-widgets/base",
      "model_module_version": "1.2.0",
      "model_name": "LayoutModel",
      "state": {}
     },
     "84ba22b80c38441fb280ecab46d8efee": {
      "model_module": "@jupyter-widgets/base",
      "model_module_version": "1.2.0",
      "model_name": "LayoutModel",
      "state": {}
     },
     "86bc892b87ea4828a46f00dc0b02577d": {
      "model_module": "@jupyter-widgets/output",
      "model_module_version": "1.0.0",
      "model_name": "OutputModel",
      "state": {
       "layout": "IPY_MODEL_97d2f5a9c7d647c6be84f740999242b8",
       "outputs": [
        {
         "data": {
          "application/vnd.jupyter.widget-view+json": {
           "model_id": "dd704c213199404ea710e112b0b9e421",
           "version_major": 2,
           "version_minor": 0
          },
          "text/plain": "Canvas(toolbar=Toolbar(toolitems=[('Home', 'Reset original view', 'home', 'home'), ('Back', 'Back to previous …"
         },
         "metadata": {},
         "output_type": "display_data"
        },
        {
         "data": {
          "text/plain": "(<Figure size 800x400 with 1 Axes>,\n <AxesSubplot:title={'center':'H[4599,4602,4601,4608,4609,4600] 100.0%'}, xlabel='Frame index', ylabel='Distance [$\\\\AA$]'>)"
         },
         "metadata": {},
         "output_type": "display_data"
        }
       ]
      }
     },
     "8977ea878b83481cad26278c2e7d83e6": {
      "model_module": "@jupyter-widgets/controls",
      "model_module_version": "1.5.0",
      "model_name": "DescriptionStyleModel",
      "state": {
       "description_width": "initial"
      }
     },
     "8c7eed2ddc8c4940bd01ac58e89bd11c": {
      "model_module": "@jupyter-widgets/base",
      "model_module_version": "1.2.0",
      "model_name": "LayoutModel",
      "state": {}
     },
     "97ccd002306a45f78e8372fbea299881": {
      "model_module": "@jupyter-widgets/controls",
      "model_module_version": "1.5.0",
      "model_name": "IntRangeSliderModel",
      "state": {
       "_model_name": "IntRangeSliderModel",
       "_view_name": "IntRangeSliderView",
       "description": "Frames range:",
       "layout": "IPY_MODEL_ce5032e1d76a4110a16ee5226e20eb96",
       "max": 1002,
       "style": "IPY_MODEL_60ae3756f7504744bf1c6e46d298a8c0",
       "value": [
        0,
        1002
       ]
      }
     },
     "97d2f5a9c7d647c6be84f740999242b8": {
      "model_module": "@jupyter-widgets/base",
      "model_module_version": "1.2.0",
      "model_name": "LayoutModel",
      "state": {}
     },
     "999b9794c87e40d18a1a6c864defed02": {
      "model_module": "@jupyter-widgets/controls",
      "model_module_version": "1.5.0",
      "model_name": "BoundedFloatTextModel",
      "state": {
       "description": "Occurrence minimum [%]:",
       "layout": "IPY_MODEL_9a70d417a7fd46638e384f7955dd769d",
       "step": 1,
       "style": "IPY_MODEL_c9c74c490d8546879221fbe47390bc88"
      }
     },
     "9a70d417a7fd46638e384f7955dd769d": {
      "model_module": "@jupyter-widgets/base",
      "model_module_version": "1.2.0",
      "model_name": "LayoutModel",
      "state": {}
     },
     "9c72e36baf5d47dfa0f333639bdf8157": {
      "model_module": "@jupyter-widgets/controls",
      "model_module_version": "1.5.0",
      "model_name": "DescriptionStyleModel",
      "state": {
       "description_width": "initial"
      }
     },
     "9e2d1c8ba8ee4a22878c2f309926dd92": {
      "model_module": "@jupyter-widgets/base",
      "model_module_version": "1.2.0",
      "model_name": "LayoutModel",
      "state": {}
     },
     "9ebe0a359266423d815b9a8d45644e4b": {
      "model_module": "@jupyter-widgets/controls",
      "model_module_version": "1.5.0",
      "model_name": "IntRangeSliderModel",
      "state": {
       "_model_name": "IntRangeSliderModel",
       "_view_name": "IntRangeSliderView",
       "description": "Frames range:",
       "layout": "IPY_MODEL_2d1e5ea69be74e3ab955e56c752d1859",
       "max": 1002,
       "style": "IPY_MODEL_f51729f28c05417eabaf29612c7933c2",
       "value": [
        0,
        1002
       ]
      }
     },
     "a3f55e495f6c4ad7bba8fd8e845f219f": {
      "model_module": "@jupyter-widgets/controls",
      "model_module_version": "1.5.0",
      "model_name": "BoundedFloatTextModel",
      "state": {
       "description": "Occurrence minimum [%]:",
       "layout": "IPY_MODEL_3520c38e387f448b9a6e318ec59420de",
       "step": 1,
       "style": "IPY_MODEL_7d783ef2c72b4fa086243e7872b4dbd5"
      }
     },
     "a439686950f140879142aac3cffd036c": {
      "model_module": "@jupyter-widgets/controls",
      "model_module_version": "1.5.0",
      "model_name": "DescriptionStyleModel",
      "state": {
       "description_width": "initial"
      }
     },
     "a587ec0b51f54629b8141bf8b60ea034": {
      "model_module": "@jupyter-widgets/controls",
      "model_module_version": "1.5.0",
      "model_name": "VBoxModel",
      "state": {
       "_dom_classes": [
        "widget-interact"
       ],
       "children": [
        "IPY_MODEL_ec9be21b327640c2876ed5f4eaf31b73",
        "IPY_MODEL_f60cfc2fe75345ef977a6ff455864eb2",
        "IPY_MODEL_aa2162ee98f34018bab51ff7e96e7217",
        "IPY_MODEL_ca330eb9f4554e5dad9dbd7719026beb",
        "IPY_MODEL_999b9794c87e40d18a1a6c864defed02",
        "IPY_MODEL_86bc892b87ea4828a46f00dc0b02577d"
       ],
       "layout": "IPY_MODEL_be5753b5b393491d9129c06f9de52ba8"
      }
     },
     "a736e484520c41cb8a5c29973f4f938e": {
      "model_module": "@jupyter-widgets/controls",
      "model_module_version": "1.5.0",
      "model_name": "ToggleButtonsStyleModel",
      "state": {
       "button_width": "",
       "description_width": ""
      }
     },
     "a97649dcb3a94a1ca1b6f2d54ec87f46": {
      "model_module": "@jupyter-widgets/controls",
      "model_module_version": "1.5.0",
      "model_name": "DescriptionStyleModel",
      "state": {
       "description_width": "initial"
      }
     },
     "aa2162ee98f34018bab51ff7e96e7217": {
      "model_module": "@jupyter-widgets/controls",
      "model_module_version": "1.5.0",
      "model_name": "IntRangeSliderModel",
      "state": {
       "_model_name": "IntRangeSliderModel",
       "_view_name": "IntRangeSliderView",
       "description": "Frames range:",
       "layout": "IPY_MODEL_e76c645fcb63483dbefa5b5a434b32d8",
       "max": 1002,
       "style": "IPY_MODEL_d00d251fc24a4c4b80f6a08b9eff059b",
       "value": [
        0,
        1002
       ]
      }
     },
     "ac245e72dc4140a184960108de5064fe": {
      "model_module": "@jupyter-widgets/controls",
      "model_module_version": "1.5.0",
      "model_name": "DescriptionStyleModel",
      "state": {
       "description_width": "initial"
      }
     },
     "b188fc0ab88c4964addf1dab68e28564": {
      "model_module": "@jupyter-widgets/controls",
      "model_module_version": "1.5.0",
      "model_name": "DescriptionStyleModel",
      "state": {
       "description_width": "initial"
      }
     },
     "b898a99240c14a5aaa194ccd530f6266": {
      "model_module": "@jupyter-widgets/controls",
      "model_module_version": "1.5.0",
      "model_name": "IntRangeSliderModel",
      "state": {
       "_model_name": "IntRangeSliderModel",
       "_view_name": "IntRangeSliderView",
       "description": "Frames range:",
       "layout": "IPY_MODEL_8c7eed2ddc8c4940bd01ac58e89bd11c",
       "max": 1002,
       "style": "IPY_MODEL_ed80b2d4d1c14c89beddbea70c2a3dd6",
       "value": [
        0,
        1002
       ]
      }
     },
     "bcac2b254e1049749745ce1043b86ef3": {
      "model_module": "@jupyter-widgets/controls",
      "model_module_version": "1.5.0",
      "model_name": "VBoxModel",
      "state": {
       "_dom_classes": [
        "widget-interact"
       ],
       "children": [
        "IPY_MODEL_c946db9a4be644d89b32e6a4bd9eb08f",
        "IPY_MODEL_4eeeacb836064f6788f82638dd53d927",
        "IPY_MODEL_97ccd002306a45f78e8372fbea299881",
        "IPY_MODEL_1389c0caf1154f1dab6bbfeb5f9f606c",
        "IPY_MODEL_304c51082481417180e7e780a8613df4"
       ],
       "layout": "IPY_MODEL_83fa38cdafe54bc981d18a58ab1ec9a5"
      }
     },
     "be5753b5b393491d9129c06f9de52ba8": {
      "model_module": "@jupyter-widgets/base",
      "model_module_version": "1.2.0",
      "model_name": "LayoutModel",
      "state": {}
     },
     "c287eb426a9542b9ae25af738b4dfae5": {
      "model_module": "@jupyter-widgets/base",
      "model_module_version": "1.2.0",
      "model_name": "LayoutModel",
      "state": {}
     },
     "c946db9a4be644d89b32e6a4bd9eb08f": {
      "model_module": "@jupyter-widgets/controls",
      "model_module_version": "1.5.0",
      "model_name": "SelectMultipleModel",
      "state": {
       "_options_labels": [
        "all",
        "H[4599,4602,4601,4608,4609,4600]",
        "H[4615,4623,4622,4613,4621,4614]",
        "HBA[4596]",
        "HBA[4619]",
        "HBD[4612]",
        "AR[4622,4615,4623,4613,4614,4621]",
        "HBA[4606]",
        "HBD[4598]",
        "HBA[4618]",
        "AR[4605,4607,4603,4606,4604]"
       ],
       "description": "Superfeature ID(s):",
       "index": [
        0
       ],
       "layout": "IPY_MODEL_55803ea79a794bc7aa14c3fc000cbe4b",
       "rows": 5,
       "style": "IPY_MODEL_9c72e36baf5d47dfa0f333639bdf8157"
      }
     },
     "c9c74c490d8546879221fbe47390bc88": {
      "model_module": "@jupyter-widgets/controls",
      "model_module_version": "1.5.0",
      "model_name": "DescriptionStyleModel",
      "state": {
       "description_width": "initial"
      }
     },
     "ca330eb9f4554e5dad9dbd7719026beb": {
      "model_module": "@jupyter-widgets/controls",
      "model_module_version": "1.5.0",
      "model_name": "BoundedIntTextModel",
      "state": {
       "description": "Frames step size:",
       "layout": "IPY_MODEL_edcddc63a4d2449b8f0e91d8b33d260c",
       "max": 1001,
       "min": 1,
       "style": "IPY_MODEL_ffce5244f0e44870ad234a34580f45e1",
       "value": 1
      }
     },
     "ccb304a1290c4f27bc56e16d5dd1a74a": {
      "model_module": "@jupyter-widgets/controls",
      "model_module_version": "1.5.0",
      "model_name": "VBoxModel",
      "state": {
       "_dom_classes": [
        "widget-interact"
       ],
       "children": [
        "IPY_MODEL_247e1f09ba734abcaa8fe7b8a3590780",
        "IPY_MODEL_b898a99240c14a5aaa194ccd530f6266",
        "IPY_MODEL_e88a3f1efdb545c88997dbad0895ce59",
        "IPY_MODEL_7f4e839b5d724fbe81a9f92cadf56ade",
        "IPY_MODEL_f196cb2d50864aa29f0f407f8477c291"
       ],
       "layout": "IPY_MODEL_d5c67f69de604ada8536107a0ad8f5ba"
      }
     },
     "cdb18f12752d4f63b0e68e4fcbf5cfe9": {
      "model_module": "@jupyter-widgets/base",
      "model_module_version": "1.2.0",
      "model_name": "LayoutModel",
      "state": {}
     },
     "ce5032e1d76a4110a16ee5226e20eb96": {
      "model_module": "@jupyter-widgets/base",
      "model_module_version": "1.2.0",
      "model_name": "LayoutModel",
      "state": {}
     },
     "cf0f1c8358bf4e95ae76ff66a5fefbfc": {
      "model_module": "jupyter-matplotlib",
      "model_module_version": "^0.9.0",
      "model_name": "MPLCanvasModel",
      "state": {
       "_cursor": "default",
       "_figure_label": "Figure 5",
       "_height": 500,
       "_width": 800,
       "layout": "IPY_MODEL_2af659619b7d44459847a2f346648dd2",
       "toolbar": "IPY_MODEL_45f37485c433422b90141fe2aa150155",
       "toolbar_position": "left"
      }
     },
     "d00d251fc24a4c4b80f6a08b9eff059b": {
      "model_module": "@jupyter-widgets/controls",
      "model_module_version": "1.5.0",
      "model_name": "SliderStyleModel",
      "state": {
       "description_width": "initial"
      }
     },
     "d1c1d3ba789d4b7fbf3d9154159e7e7d": {
      "model_module": "@jupyter-widgets/base",
      "model_module_version": "1.2.0",
      "model_name": "LayoutModel",
      "state": {}
     },
     "d5c67f69de604ada8536107a0ad8f5ba": {
      "model_module": "@jupyter-widgets/base",
      "model_module_version": "1.2.0",
      "model_name": "LayoutModel",
      "state": {}
     },
     "d9da0bb3adf14ece994766996c544366": {
      "model_module": "@jupyter-widgets/base",
      "model_module_version": "1.2.0",
      "model_name": "LayoutModel",
      "state": {}
     },
     "d9f8c401741e47fa8b2f2b77abdf200b": {
      "model_module": "@jupyter-widgets/controls",
      "model_module_version": "1.5.0",
      "model_name": "DescriptionStyleModel",
      "state": {
       "description_width": "initial"
      }
     },
     "dd704c213199404ea710e112b0b9e421": {
      "model_module": "jupyter-matplotlib",
      "model_module_version": "^0.9.0",
      "model_name": "MPLCanvasModel",
      "state": {
       "_cursor": "default",
       "_figure_label": "Figure 4",
       "_height": 400,
       "_width": 800,
       "layout": "IPY_MODEL_59ae1b27ef454da6b409e89b8e411f57",
       "toolbar": "IPY_MODEL_6e4f5a75e93a43b28f8e50d0e7a09517",
       "toolbar_position": "left"
      }
     },
     "e0535026918c4849bc604fc54d5dc13e": {
      "model_module": "@jupyter-widgets/controls",
      "model_module_version": "1.5.0",
      "model_name": "CheckboxModel",
      "state": {
       "description": "Annotate heatmap cells",
       "disabled": false,
       "layout": "IPY_MODEL_31efd0ce75904feb8eb30d84beef3ad9",
       "style": "IPY_MODEL_491d0056143c48338622ea2c18af8baf",
       "value": false
      }
     },
     "e1f91d684c8d48dbb145bb023687661a": {
      "model_module": "@jupyter-widgets/base",
      "model_module_version": "1.2.0",
      "model_name": "LayoutModel",
      "state": {}
     },
     "e455aec26d564403bcacaf7df12367ba": {
      "model_module": "@jupyter-widgets/controls",
      "model_module_version": "1.5.0",
      "model_name": "DescriptionStyleModel",
      "state": {
       "description_width": "initial"
      }
     },
     "e76c645fcb63483dbefa5b5a434b32d8": {
      "model_module": "@jupyter-widgets/base",
      "model_module_version": "1.2.0",
      "model_name": "LayoutModel",
      "state": {}
     },
     "e88a3f1efdb545c88997dbad0895ce59": {
      "model_module": "@jupyter-widgets/controls",
      "model_module_version": "1.5.0",
      "model_name": "BoundedIntTextModel",
      "state": {
       "description": "Frames step size:",
       "layout": "IPY_MODEL_c287eb426a9542b9ae25af738b4dfae5",
       "max": 1001,
       "min": 1,
       "style": "IPY_MODEL_b188fc0ab88c4964addf1dab68e28564",
       "value": 1
      }
     },
     "ec9be21b327640c2876ed5f4eaf31b73": {
      "model_module": "@jupyter-widgets/controls",
      "model_module_version": "1.5.0",
      "model_name": "SelectMultipleModel",
      "state": {
       "_options_labels": [
        "H[4599,4602,4601,4608,4609,4600]",
        "H[4615,4623,4622,4613,4621,4614]",
        "HBA[4596]",
        "HBA[4619]",
        "HBD[4612]",
        "AR[4622,4615,4623,4613,4614,4621]",
        "HBA[4606]",
        "HBD[4598]",
        "HBA[4618]",
        "AR[4605,4607,4603,4606,4604]"
       ],
       "description": "Superfeature ID(s):",
       "index": [
        0
       ],
       "layout": "IPY_MODEL_63796a1dce4444bba4bb3da4a363d7cd",
       "rows": 5,
       "style": "IPY_MODEL_ac245e72dc4140a184960108de5064fe"
      }
     },
     "ed80b2d4d1c14c89beddbea70c2a3dd6": {
      "model_module": "@jupyter-widgets/controls",
      "model_module_version": "1.5.0",
      "model_name": "SliderStyleModel",
      "state": {
       "description_width": "initial"
      }
     },
     "edcddc63a4d2449b8f0e91d8b33d260c": {
      "model_module": "@jupyter-widgets/base",
      "model_module_version": "1.2.0",
      "model_name": "LayoutModel",
      "state": {}
     },
     "f1279d2a0d5547a197eb5226e13eb78a": {
      "model_module": "@jupyter-widgets/controls",
      "model_module_version": "1.5.0",
      "model_name": "VBoxModel",
      "state": {
       "_dom_classes": [
        "widget-interact"
       ],
       "children": [
        "IPY_MODEL_59c24718897d46b2ae17783d0a1c5e83",
        "IPY_MODEL_9ebe0a359266423d815b9a8d45644e4b",
        "IPY_MODEL_3086cdaed9dc4b7aa6d67c8ec5f2a843",
        "IPY_MODEL_a3f55e495f6c4ad7bba8fd8e845f219f",
        "IPY_MODEL_4b463f25312243b5994913f01c644a6e"
       ],
       "layout": "IPY_MODEL_3397e722749d43088b93b79d51161e78"
      }
     },
     "f15370e8ca324872b092a8b00170cfb0": {
      "model_module": "@jupyter-widgets/base",
      "model_module_version": "1.2.0",
      "model_name": "LayoutModel",
      "state": {}
     },
     "f196cb2d50864aa29f0f407f8477c291": {
      "model_module": "@jupyter-widgets/output",
      "model_module_version": "1.0.0",
      "model_name": "OutputModel",
      "state": {
       "layout": "IPY_MODEL_d1c1d3ba789d4b7fbf3d9154159e7e7d",
       "outputs": [
        {
         "data": {
          "application/vnd.jupyter.widget-view+json": {
           "model_id": "cf0f1c8358bf4e95ae76ff66a5fefbfc",
           "version_major": 2,
           "version_minor": 0
          },
          "text/plain": "Canvas(toolbar=Toolbar(toolitems=[('Home', 'Reset original view', 'home', 'home'), ('Back', 'Back to previous …"
         },
         "metadata": {},
         "output_type": "display_data"
        },
        {
         "data": {
          "text/plain": "(<Figure size 800x500 with 4 Axes>,\n array([[<AxesSubplot:>, <AxesSubplot:>],\n        [<AxesSubplot:xlabel='Frame index', ylabel='Distance [$\\\\AA$]'>,\n         <AxesSubplot:xlabel='Frequency'>]], dtype=object))"
         },
         "metadata": {},
         "output_type": "display_data"
        }
       ]
      }
     },
     "f51729f28c05417eabaf29612c7933c2": {
      "model_module": "@jupyter-widgets/controls",
      "model_module_version": "1.5.0",
      "model_name": "SliderStyleModel",
      "state": {
       "description_width": "initial"
      }
     },
     "f557119c12384da198ad50224f3824d5": {
      "model_module": "@jupyter-widgets/base",
      "model_module_version": "1.2.0",
      "model_name": "LayoutModel",
      "state": {}
     },
     "f60cfc2fe75345ef977a6ff455864eb2": {
      "model_module": "@jupyter-widgets/controls",
      "model_module_version": "1.5.0",
      "model_name": "ToggleButtonsModel",
      "state": {
       "_options_labels": [
        "line",
        "hist"
       ],
       "button_style": "",
       "description": "Plot style",
       "icons": [],
       "index": 0,
       "layout": "IPY_MODEL_20a362c9f82944b7ae4ff11496afba6b",
       "style": "IPY_MODEL_a736e484520c41cb8a5c29973f4f938e",
       "tooltips": [
        "Series",
        "Histogram"
       ]
      }
     },
     "ffce5244f0e44870ad234a34580f45e1": {
      "model_module": "@jupyter-widgets/controls",
      "model_module_version": "1.5.0",
      "model_name": "DescriptionStyleModel",
      "state": {
       "description_width": "initial"
      }
     }
    },
    "version_major": 2,
    "version_minor": 0
   }
  }
 },
 "nbformat": 4,
 "nbformat_minor": 4
}
