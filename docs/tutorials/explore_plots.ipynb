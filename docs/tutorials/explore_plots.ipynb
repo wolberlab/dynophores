{
 "cells": [
  {
   "cell_type": "markdown",
   "metadata": {},
   "source": [
    "# Visualize dynophores: Statistics\n",
    "\n",
    "In this notebook, we will show how to use the `dynophores` library for static and interactive plotting."
   ]
  },
  {
   "cell_type": "code",
   "execution_count": 1,
   "metadata": {
    "tags": []
   },
   "outputs": [],
   "source": [
    "%load_ext autoreload\n",
    "%autoreload 2"
   ]
  },
  {
   "cell_type": "code",
   "execution_count": 2,
   "metadata": {},
   "outputs": [],
   "source": [
    "%matplotlib widget"
   ]
  },
  {
   "cell_type": "code",
   "execution_count": 3,
   "metadata": {},
   "outputs": [
    {
     "data": {
      "application/vnd.jupyter.widget-view+json": {
       "model_id": "9f32fb71fa1e4e869dae48a2abe9032e",
       "version_major": 2,
       "version_minor": 0
      },
      "text/plain": []
     },
     "metadata": {},
     "output_type": "display_data"
    }
   ],
   "source": [
    "from pathlib import Path\n",
    "\n",
    "from dynophores import Dynophore\n",
    "from dynophores import plot"
   ]
  },
  {
   "cell_type": "markdown",
   "metadata": {},
   "source": [
    "## Set path to `DynophoreApp` output data folder"
   ]
  },
  {
   "cell_type": "code",
   "execution_count": 4,
   "metadata": {},
   "outputs": [],
   "source": [
    "DATA = Path(\"../../dynophores/tests/data\")\n",
    "dyno_path = DATA / \"out\""
   ]
  },
  {
   "cell_type": "markdown",
   "metadata": {},
   "source": [
    "## Load data as `Dynophore` object"
   ]
  },
  {
   "cell_type": "code",
   "execution_count": 5,
   "metadata": {},
   "outputs": [],
   "source": [
    "dynophore = Dynophore.from_dir(dyno_path)"
   ]
  },
  {
   "cell_type": "markdown",
   "metadata": {},
   "source": [
    "## Statistics"
   ]
  },
  {
   "cell_type": "markdown",
   "metadata": {},
   "source": [
    "### Plot interactions overview (heatmap)"
   ]
  },
  {
   "cell_type": "code",
   "execution_count": 6,
   "metadata": {},
   "outputs": [
    {
     "data": {
      "application/vnd.jupyter.widget-view+json": {
       "model_id": "214343774bab45fda5ff8d67b2e4dd71",
       "version_major": 2,
       "version_minor": 0
      },
      "text/plain": [
       "interactive(children=(SelectMultiple(description='Superfeature ID(s):', index=(0,), options=('all', 'H[4599,46…"
      ]
     },
     "metadata": {},
     "output_type": "display_data"
    }
   ],
   "source": [
    "plot.interactive.superfeatures_vs_envpartners(dynophore)"
   ]
  },
  {
   "cell_type": "markdown",
   "metadata": {},
   "source": [
    "### Plot superfeature occurrences (time series)"
   ]
  },
  {
   "cell_type": "code",
   "execution_count": 7,
   "metadata": {},
   "outputs": [
    {
     "data": {
      "application/vnd.jupyter.widget-view+json": {
       "model_id": "851ae7daab4f4281a1ab627ff8dc8e0f",
       "version_major": 2,
       "version_minor": 0
      },
      "text/plain": [
       "interactive(children=(SelectMultiple(description='Superfeature ID(s):', index=(0,), options=('all', 'H[4599,46…"
      ]
     },
     "metadata": {},
     "output_type": "display_data"
    }
   ],
   "source": [
    "plot.interactive.superfeatures_occurrences(dynophore)"
   ]
  },
  {
   "cell_type": "markdown",
   "metadata": {},
   "source": [
    "### Plot interactions for example superfeature (time series)"
   ]
  },
  {
   "cell_type": "markdown",
   "metadata": {},
   "source": [
    "#### Interaction occurrence"
   ]
  },
  {
   "cell_type": "code",
   "execution_count": 8,
   "metadata": {},
   "outputs": [
    {
     "data": {
      "application/vnd.jupyter.widget-view+json": {
       "model_id": "1bb7e654378f4bc9b9bec2d115fc6b29",
       "version_major": 2,
       "version_minor": 0
      },
      "text/plain": [
       "interactive(children=(SelectMultiple(description='Superfeature ID(s):', index=(0,), options=('H[4599,4602,4601…"
      ]
     },
     "metadata": {},
     "output_type": "display_data"
    }
   ],
   "source": [
    "plot.interactive.envpartners_occurrences(dynophore)"
   ]
  },
  {
   "cell_type": "markdown",
   "metadata": {},
   "source": [
    "#### Interaction distances (time series and histogram)"
   ]
  },
  {
   "cell_type": "code",
   "execution_count": 9,
   "metadata": {},
   "outputs": [
    {
     "data": {
      "application/vnd.jupyter.widget-view+json": {
       "model_id": "14c2508d39cd4ae48c4944cc00424dbe",
       "version_major": 2,
       "version_minor": 0
      },
      "text/plain": [
       "interactive(children=(SelectMultiple(description='Superfeature ID(s):', index=(0,), options=('H[4599,4602,4601…"
      ]
     },
     "metadata": {},
     "output_type": "display_data"
    }
   ],
   "source": [
    "plot.interactive.envpartners_distances(dynophore)"
   ]
  },
  {
   "cell_type": "markdown",
   "metadata": {},
   "source": [
    "#### Interaction profile (all-in-one)"
   ]
  },
  {
   "cell_type": "code",
   "execution_count": 10,
   "metadata": {},
   "outputs": [
    {
     "data": {
      "application/vnd.jupyter.widget-view+json": {
       "model_id": "41b495e8f65742ffb43f1f9ce68f0e79",
       "version_major": 2,
       "version_minor": 0
      },
      "text/plain": [
       "interactive(children=(Select(description='Superfeature ID(s):', options=('H[4599,4602,4601,4608,4609,4600]', '…"
      ]
     },
     "metadata": {},
     "output_type": "display_data"
    }
   ],
   "source": [
    "plot.interactive.envpartners_all_in_one(dynophore)"
   ]
  }
 ],
 "metadata": {
  "kernelspec": {
   "display_name": "Python 3 (ipykernel)",
   "language": "python",
   "name": "python3"
  },
  "language_info": {
   "codemirror_mode": {
    "name": "ipython",
    "version": 3
   },
   "file_extension": ".py",
   "mimetype": "text/x-python",
   "name": "python",
   "nbconvert_exporter": "python",
   "pygments_lexer": "ipython3",
   "version": "3.9.6"
  },
  "widgets": {
   "application/vnd.jupyter.widget-state+json": {
    "state": {
     "021a1b7c90794a30aa3e7ceb89c1e862": {
      "model_module": "@jupyter-widgets/controls",
      "model_module_version": "1.5.0",
      "model_name": "SliderStyleModel",
      "state": {
       "description_width": "initial"
      }
     },
     "04001cace20846909d41dd8d8dcad68b": {
      "model_module": "@jupyter-widgets/controls",
      "model_module_version": "1.5.0",
      "model_name": "BoundedFloatTextModel",
      "state": {
       "description": "Occurrence minimum [%]:",
       "layout": "IPY_MODEL_7f63b23f48134d9bbfc194be0f98809e",
       "step": 1,
       "style": "IPY_MODEL_7923200181ba4d798fd9dcdc51cf502d"
      }
     },
     "05aead9022564091801c77be84321df2": {
      "model_module": "@jupyter-widgets/base",
      "model_module_version": "1.2.0",
      "model_name": "LayoutModel",
      "state": {}
     },
     "08b1695a8daa4ec9be8c32a6638c5b50": {
      "model_module": "@jupyter-widgets/controls",
      "model_module_version": "1.5.0",
      "model_name": "IntRangeSliderModel",
      "state": {
       "_model_name": "IntRangeSliderModel",
       "_view_name": "IntRangeSliderView",
       "description": "Frames range:",
       "layout": "IPY_MODEL_1740f747ac464a8d8f5b16b2fe8cce94",
       "max": 1002,
       "style": "IPY_MODEL_cb41c995407d440fa23a2459ed4ebe99",
       "value": [
        0,
        1002
       ]
      }
     },
     "0d3d2c587dd9462a977b98681016bff7": {
      "model_module": "@jupyter-widgets/controls",
      "model_module_version": "1.5.0",
      "model_name": "SelectMultipleModel",
      "state": {
       "_options_labels": [
        "all",
        "H[4599,4602,4601,4608,4609,4600]",
        "H[4615,4623,4622,4613,4621,4614]",
        "HBA[4596]",
        "HBA[4619]",
        "HBD[4612]",
        "AR[4622,4615,4623,4613,4614,4621]",
        "HBA[4606]",
        "HBD[4598]",
        "HBA[4618]",
        "AR[4605,4607,4603,4606,4604]"
       ],
       "description": "Superfeature ID(s):",
       "index": [
        0
       ],
       "layout": "IPY_MODEL_4e948378f86c42428f039905759af41c",
       "rows": 5,
       "style": "IPY_MODEL_66991c4af2574267b68fcbb9bb3c726e"
      }
     },
     "0f0c42e2ddaa4cb8a70d285134b43ebc": {
      "model_module": "@jupyter-widgets/base",
      "model_module_version": "1.2.0",
      "model_name": "LayoutModel",
      "state": {}
     },
     "14c2508d39cd4ae48c4944cc00424dbe": {
      "model_module": "@jupyter-widgets/controls",
      "model_module_version": "1.5.0",
      "model_name": "VBoxModel",
      "state": {
       "_dom_classes": [
        "widget-interact"
       ],
       "children": [
        "IPY_MODEL_df12fd52ec23437b85daa1a2e41067ee",
        "IPY_MODEL_8cbb991e50214750a9c85ab813a1e2be",
        "IPY_MODEL_628e87587979404b9f9491d5552d1494",
        "IPY_MODEL_a58457fbea864231b633775886347882",
        "IPY_MODEL_5c1d6c9674d34495947360caead2ed7b",
        "IPY_MODEL_eddb4d0526f54292a1213c5e7de07ced"
       ],
       "layout": "IPY_MODEL_90b0b9f769114e47931ac86b47fcc963"
      }
     },
     "1740f747ac464a8d8f5b16b2fe8cce94": {
      "model_module": "@jupyter-widgets/base",
      "model_module_version": "1.2.0",
      "model_name": "LayoutModel",
      "state": {}
     },
     "1a57b04fc63840ff85db07be10ade88e": {
      "model_module": "@jupyter-widgets/controls",
      "model_module_version": "1.5.0",
      "model_name": "SelectMultipleModel",
      "state": {
       "_options_labels": [
        "H[4599,4602,4601,4608,4609,4600]",
        "H[4615,4623,4622,4613,4621,4614]",
        "HBA[4596]",
        "HBA[4619]",
        "HBD[4612]",
        "AR[4622,4615,4623,4613,4614,4621]",
        "HBA[4606]",
        "HBD[4598]",
        "HBA[4618]",
        "AR[4605,4607,4603,4606,4604]"
       ],
       "description": "Superfeature ID(s):",
       "index": [
        0
       ],
       "layout": "IPY_MODEL_ec91313511754934aadd996e059ef89c",
       "rows": 5,
       "style": "IPY_MODEL_ca2a69de956d4cc3b860109bd8853272"
      }
     },
     "1b6aa3fdb2af4c18a65f395df60a6029": {
      "model_module": "@jupyter-widgets/base",
      "model_module_version": "1.2.0",
      "model_name": "LayoutModel",
      "state": {}
     },
     "1bb7e654378f4bc9b9bec2d115fc6b29": {
      "model_module": "@jupyter-widgets/controls",
      "model_module_version": "1.5.0",
      "model_name": "VBoxModel",
      "state": {
       "_dom_classes": [
        "widget-interact"
       ],
       "children": [
        "IPY_MODEL_1a57b04fc63840ff85db07be10ade88e",
        "IPY_MODEL_7a4b35d1e6174a4c9e3dd8781954de61",
        "IPY_MODEL_5e199ad6a97b4d93b2e4b21ecb21b2af",
        "IPY_MODEL_04001cace20846909d41dd8d8dcad68b",
        "IPY_MODEL_ea9671e661de4dd5af70ecf131c26e6a"
       ],
       "layout": "IPY_MODEL_c0d10da1f15e492aa01f0de4f84a6efd"
      }
     },
     "1e23dd78a6ca4f18b77f021e0a263ca5": {
      "model_module": "@jupyter-widgets/base",
      "model_module_version": "1.2.0",
      "model_name": "LayoutModel",
      "state": {}
     },
     "20b2f4f9c28a4d068fde8eb4674cde0e": {
      "model_module": "@jupyter-widgets/controls",
      "model_module_version": "1.5.0",
      "model_name": "DescriptionStyleModel",
      "state": {
       "description_width": "initial"
      }
     },
     "214343774bab45fda5ff8d67b2e4dd71": {
      "model_module": "@jupyter-widgets/controls",
      "model_module_version": "1.5.0",
      "model_name": "VBoxModel",
      "state": {
       "_dom_classes": [
        "widget-interact"
       ],
       "children": [
        "IPY_MODEL_0d3d2c587dd9462a977b98681016bff7",
        "IPY_MODEL_fcd3ed661088411b8f89a7268e77aba7",
        "IPY_MODEL_831b0585cec5461bb9165c7e4391a16d"
       ],
       "layout": "IPY_MODEL_d008b956c4544a1bb955354db1976448"
      }
     },
     "239edec03d8b4610af2be569949cc1f8": {
      "model_module": "@jupyter-widgets/base",
      "model_module_version": "1.2.0",
      "model_name": "LayoutModel",
      "state": {}
     },
     "27902e0740154dbebdb0cdfd07d4c421": {
      "model_module": "jupyter-matplotlib",
      "model_module_version": "^0.9.0",
      "model_name": "MPLCanvasModel",
      "state": {
       "_cursor": "default",
       "_figure_label": "Figure 4",
       "_height": 400,
       "_width": 800,
       "layout": "IPY_MODEL_4871d88355014d9b965e52aa8478e34d",
       "toolbar": "IPY_MODEL_4b05475edac241718aa082693cdc40fc",
       "toolbar_position": "left"
      }
     },
     "2b1da5a82a7b4448a11729e4328a7335": {
      "model_module": "@jupyter-widgets/base",
      "model_module_version": "1.2.0",
      "model_name": "LayoutModel",
      "state": {}
     },
     "3274a84659f64b67b1e562ab1b612f9a": {
      "model_module": "@jupyter-widgets/base",
      "model_module_version": "1.2.0",
      "model_name": "LayoutModel",
      "state": {}
     },
     "3d969fbb88144a16a63b4be079a455af": {
      "model_module": "jupyter-matplotlib",
      "model_module_version": "^0.9.0",
      "model_name": "MPLCanvasModel",
      "state": {
       "_cursor": "default",
       "_figure_label": "Figure 2",
       "_height": 550,
       "_width": 800,
       "layout": "IPY_MODEL_2b1da5a82a7b4448a11729e4328a7335",
       "toolbar": "IPY_MODEL_60e314b4a9854c689c6a3072d814c404",
       "toolbar_position": "left"
      }
     },
     "4040e1a1f858442eac3c96dd8648494b": {
      "model_module": "jupyter-matplotlib",
      "model_module_version": "^0.9.0",
      "model_name": "MPLCanvasModel",
      "state": {
       "_cursor": "default",
       "_figure_label": "Figure 5",
       "_height": 500,
       "_width": 800,
       "layout": "IPY_MODEL_53a3ae18f48c4c08aaa51f6f64ce5579",
       "toolbar": "IPY_MODEL_e058f685af8441a983fabf04f665db40",
       "toolbar_position": "left"
      }
     },
     "41b495e8f65742ffb43f1f9ce68f0e79": {
      "model_module": "@jupyter-widgets/controls",
      "model_module_version": "1.5.0",
      "model_name": "VBoxModel",
      "state": {
       "_dom_classes": [
        "widget-interact"
       ],
       "children": [
        "IPY_MODEL_8bea876c96c6421ba2c19b69ce7ce4bd",
        "IPY_MODEL_c3d022ad98e348ca94dd9dcdaba1fdab",
        "IPY_MODEL_6f75d6a5dd3c4a53855947622cb73aff",
        "IPY_MODEL_e966ada27654402cb0ecd40bcf8dc4d4",
        "IPY_MODEL_ace1af57f08046918665695beadbb5db"
       ],
       "layout": "IPY_MODEL_ebf8b1c8d44c4036b882048464fc5ace"
      }
     },
     "4871d88355014d9b965e52aa8478e34d": {
      "model_module": "@jupyter-widgets/base",
      "model_module_version": "1.2.0",
      "model_name": "LayoutModel",
      "state": {}
     },
     "4b05475edac241718aa082693cdc40fc": {
      "model_module": "jupyter-matplotlib",
      "model_module_version": "^0.9.0",
      "model_name": "ToolbarModel",
      "state": {
       "layout": "IPY_MODEL_577ea62c32434916b8dacfc7207ac280",
       "toolitems": [
        [
         "Home",
         "Reset original view",
         "home",
         "home"
        ],
        [
         "Back",
         "Back to previous view",
         "arrow-left",
         "back"
        ],
        [
         "Forward",
         "Forward to next view",
         "arrow-right",
         "forward"
        ],
        [
         "Pan",
         "Left button pans, Right button zooms\nx/y fixes axis, CTRL fixes aspect",
         "arrows",
         "pan"
        ],
        [
         "Zoom",
         "Zoom to rectangle\nx/y fixes axis, CTRL fixes aspect",
         "square-o",
         "zoom"
        ],
        [
         "Download",
         "Download plot",
         "floppy-o",
         "save_figure"
        ]
       ]
      }
     },
     "4b747855b0e042c88028bedad866133c": {
      "model_module": "jupyter-matplotlib",
      "model_module_version": "^0.9.0",
      "model_name": "ToolbarModel",
      "state": {
       "layout": "IPY_MODEL_05aead9022564091801c77be84321df2",
       "toolitems": [
        [
         "Home",
         "Reset original view",
         "home",
         "home"
        ],
        [
         "Back",
         "Back to previous view",
         "arrow-left",
         "back"
        ],
        [
         "Forward",
         "Forward to next view",
         "arrow-right",
         "forward"
        ],
        [
         "Pan",
         "Left button pans, Right button zooms\nx/y fixes axis, CTRL fixes aspect",
         "arrows",
         "pan"
        ],
        [
         "Zoom",
         "Zoom to rectangle\nx/y fixes axis, CTRL fixes aspect",
         "square-o",
         "zoom"
        ],
        [
         "Download",
         "Download plot",
         "floppy-o",
         "save_figure"
        ]
       ]
      }
     },
     "4ca99eaf971746cbb8b7c46341b8175c": {
      "model_module": "@jupyter-widgets/controls",
      "model_module_version": "1.5.0",
      "model_name": "DescriptionStyleModel",
      "state": {
       "description_width": "initial"
      }
     },
     "4caf2b2c056a4eb9ab02f821a7ec8bb6": {
      "model_module": "@jupyter-widgets/controls",
      "model_module_version": "1.5.0",
      "model_name": "ToggleButtonsStyleModel",
      "state": {
       "button_width": "",
       "description_width": ""
      }
     },
     "4e948378f86c42428f039905759af41c": {
      "model_module": "@jupyter-widgets/base",
      "model_module_version": "1.2.0",
      "model_name": "LayoutModel",
      "state": {}
     },
     "53a3ae18f48c4c08aaa51f6f64ce5579": {
      "model_module": "@jupyter-widgets/base",
      "model_module_version": "1.2.0",
      "model_name": "LayoutModel",
      "state": {}
     },
     "577ea62c32434916b8dacfc7207ac280": {
      "model_module": "@jupyter-widgets/base",
      "model_module_version": "1.2.0",
      "model_name": "LayoutModel",
      "state": {}
     },
     "5b28a8b2723248c3905e1297a0d5e8b3": {
      "model_module": "@jupyter-widgets/base",
      "model_module_version": "1.2.0",
      "model_name": "LayoutModel",
      "state": {}
     },
     "5c1d6c9674d34495947360caead2ed7b": {
      "model_module": "@jupyter-widgets/controls",
      "model_module_version": "1.5.0",
      "model_name": "BoundedFloatTextModel",
      "state": {
       "description": "Occurrence minimum [%]:",
       "layout": "IPY_MODEL_66dd632f299a4181b0bcc93bd750eb74",
       "step": 1,
       "style": "IPY_MODEL_83a0216a51384f2e8ce6e51a6e2fb3e7"
      }
     },
     "5e199ad6a97b4d93b2e4b21ecb21b2af": {
      "model_module": "@jupyter-widgets/controls",
      "model_module_version": "1.5.0",
      "model_name": "BoundedIntTextModel",
      "state": {
       "description": "Frames step size:",
       "layout": "IPY_MODEL_a4bf940007054be28d7ea04d2f345951",
       "max": 1001,
       "min": 1,
       "style": "IPY_MODEL_d6e4e7c6cbe1450aa5f94fea918a5c52",
       "value": 1
      }
     },
     "6015bb840a4d4d04aa6f1dc78891b052": {
      "model_module": "@jupyter-widgets/controls",
      "model_module_version": "1.5.0",
      "model_name": "DescriptionStyleModel",
      "state": {
       "description_width": "initial"
      }
     },
     "60e314b4a9854c689c6a3072d814c404": {
      "model_module": "jupyter-matplotlib",
      "model_module_version": "^0.9.0",
      "model_name": "ToolbarModel",
      "state": {
       "layout": "IPY_MODEL_239edec03d8b4610af2be569949cc1f8",
       "toolitems": [
        [
         "Home",
         "Reset original view",
         "home",
         "home"
        ],
        [
         "Back",
         "Back to previous view",
         "arrow-left",
         "back"
        ],
        [
         "Forward",
         "Forward to next view",
         "arrow-right",
         "forward"
        ],
        [
         "Pan",
         "Left button pans, Right button zooms\nx/y fixes axis, CTRL fixes aspect",
         "arrows",
         "pan"
        ],
        [
         "Zoom",
         "Zoom to rectangle\nx/y fixes axis, CTRL fixes aspect",
         "square-o",
         "zoom"
        ],
        [
         "Download",
         "Download plot",
         "floppy-o",
         "save_figure"
        ]
       ]
      }
     },
     "628e87587979404b9f9491d5552d1494": {
      "model_module": "@jupyter-widgets/controls",
      "model_module_version": "1.5.0",
      "model_name": "IntRangeSliderModel",
      "state": {
       "_model_name": "IntRangeSliderModel",
       "_view_name": "IntRangeSliderView",
       "description": "Frames range:",
       "layout": "IPY_MODEL_63e230baf13440f19d5a4b99379d1997",
       "max": 1002,
       "style": "IPY_MODEL_e018559164744224a8ec2e1958c020a2",
       "value": [
        0,
        1002
       ]
      }
     },
     "6397b5de65784ff3b7d8c546c393b2e7": {
      "model_module": "jupyter-matplotlib",
      "model_module_version": "^0.9.0",
      "model_name": "MPLCanvasModel",
      "state": {
       "_cursor": "default",
       "_figure_label": "Figure 1",
       "_height": 550,
       "_width": 800,
       "layout": "IPY_MODEL_bf7b23bde6954a34a07d0d83869942c4",
       "toolbar": "IPY_MODEL_4b747855b0e042c88028bedad866133c",
       "toolbar_position": "left"
      }
     },
     "63e230baf13440f19d5a4b99379d1997": {
      "model_module": "@jupyter-widgets/base",
      "model_module_version": "1.2.0",
      "model_name": "LayoutModel",
      "state": {}
     },
     "65a8897fc3364db3be914f5a8f745297": {
      "model_module": "@jupyter-widgets/base",
      "model_module_version": "1.2.0",
      "model_name": "LayoutModel",
      "state": {}
     },
     "66991c4af2574267b68fcbb9bb3c726e": {
      "model_module": "@jupyter-widgets/controls",
      "model_module_version": "1.5.0",
      "model_name": "DescriptionStyleModel",
      "state": {
       "description_width": "initial"
      }
     },
     "66dd632f299a4181b0bcc93bd750eb74": {
      "model_module": "@jupyter-widgets/base",
      "model_module_version": "1.2.0",
      "model_name": "LayoutModel",
      "state": {}
     },
     "68b93075734146668b401e543ce6677d": {
      "model_module": "@jupyter-widgets/base",
      "model_module_version": "1.2.0",
      "model_name": "LayoutModel",
      "state": {}
     },
     "6c41d387b2bb458e841fb6fbd6eb1bcb": {
      "model_module": "@jupyter-widgets/base",
      "model_module_version": "1.2.0",
      "model_name": "LayoutModel",
      "state": {}
     },
     "6d3f7bb7723947409f5897bae2444cff": {
      "model_module": "@jupyter-widgets/base",
      "model_module_version": "1.2.0",
      "model_name": "LayoutModel",
      "state": {}
     },
     "6f75d6a5dd3c4a53855947622cb73aff": {
      "model_module": "@jupyter-widgets/controls",
      "model_module_version": "1.5.0",
      "model_name": "BoundedIntTextModel",
      "state": {
       "description": "Frames step size:",
       "layout": "IPY_MODEL_6c41d387b2bb458e841fb6fbd6eb1bcb",
       "max": 1001,
       "min": 1,
       "style": "IPY_MODEL_4ca99eaf971746cbb8b7c46341b8175c",
       "value": 1
      }
     },
     "7923200181ba4d798fd9dcdc51cf502d": {
      "model_module": "@jupyter-widgets/controls",
      "model_module_version": "1.5.0",
      "model_name": "DescriptionStyleModel",
      "state": {
       "description_width": "initial"
      }
     },
     "7a4b35d1e6174a4c9e3dd8781954de61": {
      "model_module": "@jupyter-widgets/controls",
      "model_module_version": "1.5.0",
      "model_name": "IntRangeSliderModel",
      "state": {
       "_model_name": "IntRangeSliderModel",
       "_view_name": "IntRangeSliderView",
       "description": "Frames range:",
       "layout": "IPY_MODEL_1e23dd78a6ca4f18b77f021e0a263ca5",
       "max": 1002,
       "style": "IPY_MODEL_91f86d769f6d42edaa35b9638b1555c8",
       "value": [
        0,
        1002
       ]
      }
     },
     "7f63b23f48134d9bbfc194be0f98809e": {
      "model_module": "@jupyter-widgets/base",
      "model_module_version": "1.2.0",
      "model_name": "LayoutModel",
      "state": {}
     },
     "8250dcfbc07c4446867b73386bcd81e3": {
      "model_module": "jupyter-matplotlib",
      "model_module_version": "^0.9.0",
      "model_name": "MPLCanvasModel",
      "state": {
       "_cursor": "default",
       "_figure_label": "Figure 3",
       "_height": 200,
       "_width": 800,
       "layout": "IPY_MODEL_b837d098429b4597b1f19e138fabdc11",
       "toolbar": "IPY_MODEL_d95d3b5b3a384a88aea322adf92e534c",
       "toolbar_position": "left"
      }
     },
     "831b0585cec5461bb9165c7e4391a16d": {
      "model_module": "@jupyter-widgets/output",
      "model_module_version": "1.0.0",
      "model_name": "OutputModel",
      "state": {
       "layout": "IPY_MODEL_b9311cb06a904cf8be6a171e70987e38",
       "outputs": [
        {
         "data": {
          "application/vnd.jupyter.widget-view+json": {
           "model_id": "6397b5de65784ff3b7d8c546c393b2e7",
           "version_major": 2,
           "version_minor": 0
          },
          "text/plain": "Canvas(toolbar=Toolbar(toolitems=[('Home', 'Reset original view', 'home', 'home'), ('Back', 'Back to previous …"
         },
         "metadata": {},
         "output_type": "display_data"
        }
       ]
      }
     },
     "83a0216a51384f2e8ce6e51a6e2fb3e7": {
      "model_module": "@jupyter-widgets/controls",
      "model_module_version": "1.5.0",
      "model_name": "DescriptionStyleModel",
      "state": {
       "description_width": "initial"
      }
     },
     "83d0aec01a6c4b3aba65f3385dcb03ff": {
      "model_module": "@jupyter-widgets/base",
      "model_module_version": "1.2.0",
      "model_name": "LayoutModel",
      "state": {}
     },
     "851ae7daab4f4281a1ab627ff8dc8e0f": {
      "model_module": "@jupyter-widgets/controls",
      "model_module_version": "1.5.0",
      "model_name": "VBoxModel",
      "state": {
       "_dom_classes": [
        "widget-interact"
       ],
       "children": [
        "IPY_MODEL_c221b0b89de74e72b998fc793df0b676",
        "IPY_MODEL_e993a9e7966646ac93f73c6f3bddb3cc",
        "IPY_MODEL_08b1695a8daa4ec9be8c32a6638c5b50",
        "IPY_MODEL_addb967ae5ae4b77a04cd8515f168a03",
        "IPY_MODEL_bc104cc175fb4a1baaefa2ffb9ea798c"
       ],
       "layout": "IPY_MODEL_bc134ae013b84e1aad1d85ece189138c"
      }
     },
     "8bea876c96c6421ba2c19b69ce7ce4bd": {
      "model_module": "@jupyter-widgets/controls",
      "model_module_version": "1.5.0",
      "model_name": "SelectModel",
      "state": {
       "_options_labels": [
        "H[4599,4602,4601,4608,4609,4600]",
        "H[4615,4623,4622,4613,4621,4614]",
        "HBA[4596]",
        "HBA[4619]",
        "HBD[4612]",
        "AR[4622,4615,4623,4613,4614,4621]",
        "HBA[4606]",
        "HBD[4598]",
        "HBA[4618]",
        "AR[4605,4607,4603,4606,4604]"
       ],
       "description": "Superfeature ID(s):",
       "index": 0,
       "layout": "IPY_MODEL_947916971f3f4772b7196eb1b42fed44",
       "style": "IPY_MODEL_20b2f4f9c28a4d068fde8eb4674cde0e"
      }
     },
     "8cbb991e50214750a9c85ab813a1e2be": {
      "model_module": "@jupyter-widgets/controls",
      "model_module_version": "1.5.0",
      "model_name": "ToggleButtonsModel",
      "state": {
       "_options_labels": [
        "line",
        "hist"
       ],
       "button_style": "",
       "description": "Plot style",
       "icons": [],
       "index": 0,
       "layout": "IPY_MODEL_83d0aec01a6c4b3aba65f3385dcb03ff",
       "style": "IPY_MODEL_4caf2b2c056a4eb9ab02f821a7ec8bb6",
       "tooltips": [
        "Series",
        "Histogram"
       ]
      }
     },
     "8d2e73e314174e0c93a241034879bde2": {
      "model_module": "@jupyter-widgets/base",
      "model_module_version": "1.2.0",
      "model_name": "LayoutModel",
      "state": {}
     },
     "90b0b9f769114e47931ac86b47fcc963": {
      "model_module": "@jupyter-widgets/base",
      "model_module_version": "1.2.0",
      "model_name": "LayoutModel",
      "state": {}
     },
     "91f86d769f6d42edaa35b9638b1555c8": {
      "model_module": "@jupyter-widgets/controls",
      "model_module_version": "1.5.0",
      "model_name": "SliderStyleModel",
      "state": {
       "description_width": "initial"
      }
     },
     "947916971f3f4772b7196eb1b42fed44": {
      "model_module": "@jupyter-widgets/base",
      "model_module_version": "1.2.0",
      "model_name": "LayoutModel",
      "state": {}
     },
     "9f32fb71fa1e4e869dae48a2abe9032e": {
      "model_module": "nglview-js-widgets",
      "model_module_version": "3.0.1",
      "model_name": "ColormakerRegistryModel",
      "state": {
       "_msg_ar": [],
       "_msg_q": [],
       "_ready": true,
       "layout": "IPY_MODEL_3274a84659f64b67b1e562ab1b612f9a"
      }
     },
     "a4bf940007054be28d7ea04d2f345951": {
      "model_module": "@jupyter-widgets/base",
      "model_module_version": "1.2.0",
      "model_name": "LayoutModel",
      "state": {}
     },
     "a58457fbea864231b633775886347882": {
      "model_module": "@jupyter-widgets/controls",
      "model_module_version": "1.5.0",
      "model_name": "BoundedIntTextModel",
      "state": {
       "description": "Frames step size:",
       "layout": "IPY_MODEL_65a8897fc3364db3be914f5a8f745297",
       "max": 1001,
       "min": 1,
       "style": "IPY_MODEL_e509948472ee4f4884998af63ec9dd00",
       "value": 1
      }
     },
     "a92d098ddfa94949894345db92da7984": {
      "model_module": "@jupyter-widgets/controls",
      "model_module_version": "1.5.0",
      "model_name": "DescriptionStyleModel",
      "state": {
       "description_width": ""
      }
     },
     "ace1af57f08046918665695beadbb5db": {
      "model_module": "@jupyter-widgets/output",
      "model_module_version": "1.0.0",
      "model_name": "OutputModel",
      "state": {
       "layout": "IPY_MODEL_0f0c42e2ddaa4cb8a70d285134b43ebc",
       "outputs": [
        {
         "data": {
          "application/vnd.jupyter.widget-view+json": {
           "model_id": "4040e1a1f858442eac3c96dd8648494b",
           "version_major": 2,
           "version_minor": 0
          },
          "text/plain": "Canvas(toolbar=Toolbar(toolitems=[('Home', 'Reset original view', 'home', 'home'), ('Back', 'Back to previous …"
         },
         "metadata": {},
         "output_type": "display_data"
        }
       ]
      }
     },
     "addb967ae5ae4b77a04cd8515f168a03": {
      "model_module": "@jupyter-widgets/controls",
      "model_module_version": "1.5.0",
      "model_name": "BoundedIntTextModel",
      "state": {
       "description": "Frames step size:",
       "layout": "IPY_MODEL_d889aae17f4d49909f448f972bb83f60",
       "max": 1001,
       "min": 1,
       "style": "IPY_MODEL_e2ee701a26594d6381c4ce77cf725b21",
       "value": 1
      }
     },
     "afbced29aaa6449f9819a4d0ee0d34a2": {
      "model_module": "@jupyter-widgets/base",
      "model_module_version": "1.2.0",
      "model_name": "LayoutModel",
      "state": {}
     },
     "b837d098429b4597b1f19e138fabdc11": {
      "model_module": "@jupyter-widgets/base",
      "model_module_version": "1.2.0",
      "model_name": "LayoutModel",
      "state": {}
     },
     "b9311cb06a904cf8be6a171e70987e38": {
      "model_module": "@jupyter-widgets/base",
      "model_module_version": "1.2.0",
      "model_name": "LayoutModel",
      "state": {}
     },
     "b9db00469b0b46cfad66b05db722158a": {
      "model_module": "@jupyter-widgets/base",
      "model_module_version": "1.2.0",
      "model_name": "LayoutModel",
      "state": {}
     },
     "bc104cc175fb4a1baaefa2ffb9ea798c": {
      "model_module": "@jupyter-widgets/output",
      "model_module_version": "1.0.0",
      "model_name": "OutputModel",
      "state": {
       "layout": "IPY_MODEL_5b28a8b2723248c3905e1297a0d5e8b3",
       "outputs": [
        {
         "data": {
          "application/vnd.jupyter.widget-view+json": {
           "model_id": "3d969fbb88144a16a63b4be079a455af",
           "version_major": 2,
           "version_minor": 0
          },
          "text/plain": "Canvas(toolbar=Toolbar(toolitems=[('Home', 'Reset original view', 'home', 'home'), ('Back', 'Back to previous …"
         },
         "metadata": {},
         "output_type": "display_data"
        }
       ]
      }
     },
     "bc134ae013b84e1aad1d85ece189138c": {
      "model_module": "@jupyter-widgets/base",
      "model_module_version": "1.2.0",
      "model_name": "LayoutModel",
      "state": {}
     },
     "be7229250bd546aeb093ff91b28d48cf": {
      "model_module": "@jupyter-widgets/controls",
      "model_module_version": "1.5.0",
      "model_name": "DescriptionStyleModel",
      "state": {
       "description_width": "initial"
      }
     },
     "bf7b23bde6954a34a07d0d83869942c4": {
      "model_module": "@jupyter-widgets/base",
      "model_module_version": "1.2.0",
      "model_name": "LayoutModel",
      "state": {}
     },
     "c0d10da1f15e492aa01f0de4f84a6efd": {
      "model_module": "@jupyter-widgets/base",
      "model_module_version": "1.2.0",
      "model_name": "LayoutModel",
      "state": {}
     },
     "c221b0b89de74e72b998fc793df0b676": {
      "model_module": "@jupyter-widgets/controls",
      "model_module_version": "1.5.0",
      "model_name": "SelectMultipleModel",
      "state": {
       "_options_labels": [
        "all",
        "H[4599,4602,4601,4608,4609,4600]",
        "H[4615,4623,4622,4613,4621,4614]",
        "HBA[4596]",
        "HBA[4619]",
        "HBD[4612]",
        "AR[4622,4615,4623,4613,4614,4621]",
        "HBA[4606]",
        "HBD[4598]",
        "HBA[4618]",
        "AR[4605,4607,4603,4606,4604]"
       ],
       "description": "Superfeature ID(s):",
       "index": [
        0
       ],
       "layout": "IPY_MODEL_68b93075734146668b401e543ce6677d",
       "rows": 5,
       "style": "IPY_MODEL_6015bb840a4d4d04aa6f1dc78891b052"
      }
     },
     "c3d022ad98e348ca94dd9dcdaba1fdab": {
      "model_module": "@jupyter-widgets/controls",
      "model_module_version": "1.5.0",
      "model_name": "IntRangeSliderModel",
      "state": {
       "_model_name": "IntRangeSliderModel",
       "_view_name": "IntRangeSliderView",
       "description": "Frames range:",
       "layout": "IPY_MODEL_8d2e73e314174e0c93a241034879bde2",
       "max": 1002,
       "style": "IPY_MODEL_021a1b7c90794a30aa3e7ceb89c1e862",
       "value": [
        0,
        1002
       ]
      }
     },
     "c65f94ba19e54b60b0b1c877808b1b92": {
      "model_module": "@jupyter-widgets/base",
      "model_module_version": "1.2.0",
      "model_name": "LayoutModel",
      "state": {}
     },
     "c7b397c796ff412da5b9aeedb3475c98": {
      "model_module": "@jupyter-widgets/controls",
      "model_module_version": "1.5.0",
      "model_name": "DescriptionStyleModel",
      "state": {
       "description_width": ""
      }
     },
     "c8d128a3f7e549cf82ea108810d18803": {
      "model_module": "@jupyter-widgets/controls",
      "model_module_version": "1.5.0",
      "model_name": "DescriptionStyleModel",
      "state": {
       "description_width": "initial"
      }
     },
     "ca2a69de956d4cc3b860109bd8853272": {
      "model_module": "@jupyter-widgets/controls",
      "model_module_version": "1.5.0",
      "model_name": "DescriptionStyleModel",
      "state": {
       "description_width": "initial"
      }
     },
     "cb41c995407d440fa23a2459ed4ebe99": {
      "model_module": "@jupyter-widgets/controls",
      "model_module_version": "1.5.0",
      "model_name": "SliderStyleModel",
      "state": {
       "description_width": "initial"
      }
     },
     "d008b956c4544a1bb955354db1976448": {
      "model_module": "@jupyter-widgets/base",
      "model_module_version": "1.2.0",
      "model_name": "LayoutModel",
      "state": {}
     },
     "d6e4e7c6cbe1450aa5f94fea918a5c52": {
      "model_module": "@jupyter-widgets/controls",
      "model_module_version": "1.5.0",
      "model_name": "DescriptionStyleModel",
      "state": {
       "description_width": "initial"
      }
     },
     "d889aae17f4d49909f448f972bb83f60": {
      "model_module": "@jupyter-widgets/base",
      "model_module_version": "1.2.0",
      "model_name": "LayoutModel",
      "state": {}
     },
     "d95d3b5b3a384a88aea322adf92e534c": {
      "model_module": "jupyter-matplotlib",
      "model_module_version": "^0.9.0",
      "model_name": "ToolbarModel",
      "state": {
       "layout": "IPY_MODEL_d98efc66d4a2406dbc493fcf6cc18325",
       "toolitems": [
        [
         "Home",
         "Reset original view",
         "home",
         "home"
        ],
        [
         "Back",
         "Back to previous view",
         "arrow-left",
         "back"
        ],
        [
         "Forward",
         "Forward to next view",
         "arrow-right",
         "forward"
        ],
        [
         "Pan",
         "Left button pans, Right button zooms\nx/y fixes axis, CTRL fixes aspect",
         "arrows",
         "pan"
        ],
        [
         "Zoom",
         "Zoom to rectangle\nx/y fixes axis, CTRL fixes aspect",
         "square-o",
         "zoom"
        ],
        [
         "Download",
         "Download plot",
         "floppy-o",
         "save_figure"
        ]
       ]
      }
     },
     "d98efc66d4a2406dbc493fcf6cc18325": {
      "model_module": "@jupyter-widgets/base",
      "model_module_version": "1.2.0",
      "model_name": "LayoutModel",
      "state": {}
     },
     "df12fd52ec23437b85daa1a2e41067ee": {
      "model_module": "@jupyter-widgets/controls",
      "model_module_version": "1.5.0",
      "model_name": "SelectMultipleModel",
      "state": {
       "_options_labels": [
        "H[4599,4602,4601,4608,4609,4600]",
        "H[4615,4623,4622,4613,4621,4614]",
        "HBA[4596]",
        "HBA[4619]",
        "HBD[4612]",
        "AR[4622,4615,4623,4613,4614,4621]",
        "HBA[4606]",
        "HBD[4598]",
        "HBA[4618]",
        "AR[4605,4607,4603,4606,4604]"
       ],
       "description": "Superfeature ID(s):",
       "index": [
        0
       ],
       "layout": "IPY_MODEL_ff89c277327b48f1a52716c7e161d3f5",
       "rows": 5,
       "style": "IPY_MODEL_be7229250bd546aeb093ff91b28d48cf"
      }
     },
     "e018559164744224a8ec2e1958c020a2": {
      "model_module": "@jupyter-widgets/controls",
      "model_module_version": "1.5.0",
      "model_name": "SliderStyleModel",
      "state": {
       "description_width": "initial"
      }
     },
     "e058f685af8441a983fabf04f665db40": {
      "model_module": "jupyter-matplotlib",
      "model_module_version": "^0.9.0",
      "model_name": "ToolbarModel",
      "state": {
       "layout": "IPY_MODEL_b9db00469b0b46cfad66b05db722158a",
       "toolitems": [
        [
         "Home",
         "Reset original view",
         "home",
         "home"
        ],
        [
         "Back",
         "Back to previous view",
         "arrow-left",
         "back"
        ],
        [
         "Forward",
         "Forward to next view",
         "arrow-right",
         "forward"
        ],
        [
         "Pan",
         "Left button pans, Right button zooms\nx/y fixes axis, CTRL fixes aspect",
         "arrows",
         "pan"
        ],
        [
         "Zoom",
         "Zoom to rectangle\nx/y fixes axis, CTRL fixes aspect",
         "square-o",
         "zoom"
        ],
        [
         "Download",
         "Download plot",
         "floppy-o",
         "save_figure"
        ]
       ]
      }
     },
     "e2ee701a26594d6381c4ce77cf725b21": {
      "model_module": "@jupyter-widgets/controls",
      "model_module_version": "1.5.0",
      "model_name": "DescriptionStyleModel",
      "state": {
       "description_width": "initial"
      }
     },
     "e509948472ee4f4884998af63ec9dd00": {
      "model_module": "@jupyter-widgets/controls",
      "model_module_version": "1.5.0",
      "model_name": "DescriptionStyleModel",
      "state": {
       "description_width": "initial"
      }
     },
     "e966ada27654402cb0ecd40bcf8dc4d4": {
      "model_module": "@jupyter-widgets/controls",
      "model_module_version": "1.5.0",
      "model_name": "BoundedFloatTextModel",
      "state": {
       "description": "Occurrence minimum [%]:",
       "layout": "IPY_MODEL_1b6aa3fdb2af4c18a65f395df60a6029",
       "step": 1,
       "style": "IPY_MODEL_c8d128a3f7e549cf82ea108810d18803"
      }
     },
     "e993a9e7966646ac93f73c6f3bddb3cc": {
      "model_module": "@jupyter-widgets/controls",
      "model_module_version": "1.5.0",
      "model_name": "CheckboxModel",
      "state": {
       "description": "Color by feature type",
       "disabled": false,
       "layout": "IPY_MODEL_ef6c482a22c74b2a842b337801225f58",
       "style": "IPY_MODEL_c7b397c796ff412da5b9aeedb3475c98",
       "value": true
      }
     },
     "ea9671e661de4dd5af70ecf131c26e6a": {
      "model_module": "@jupyter-widgets/output",
      "model_module_version": "1.0.0",
      "model_name": "OutputModel",
      "state": {
       "layout": "IPY_MODEL_6d3f7bb7723947409f5897bae2444cff",
       "outputs": [
        {
         "data": {
          "application/vnd.jupyter.widget-view+json": {
           "model_id": "8250dcfbc07c4446867b73386bcd81e3",
           "version_major": 2,
           "version_minor": 0
          },
          "text/plain": "Canvas(toolbar=Toolbar(toolitems=[('Home', 'Reset original view', 'home', 'home'), ('Back', 'Back to previous …"
         },
         "metadata": {},
         "output_type": "display_data"
        }
       ]
      }
     },
     "ebf8b1c8d44c4036b882048464fc5ace": {
      "model_module": "@jupyter-widgets/base",
      "model_module_version": "1.2.0",
      "model_name": "LayoutModel",
      "state": {}
     },
     "ec91313511754934aadd996e059ef89c": {
      "model_module": "@jupyter-widgets/base",
      "model_module_version": "1.2.0",
      "model_name": "LayoutModel",
      "state": {}
     },
     "eddb4d0526f54292a1213c5e7de07ced": {
      "model_module": "@jupyter-widgets/output",
      "model_module_version": "1.0.0",
      "model_name": "OutputModel",
      "state": {
       "layout": "IPY_MODEL_afbced29aaa6449f9819a4d0ee0d34a2",
       "outputs": [
        {
         "data": {
          "application/vnd.jupyter.widget-view+json": {
           "model_id": "27902e0740154dbebdb0cdfd07d4c421",
           "version_major": 2,
           "version_minor": 0
          },
          "text/plain": "Canvas(toolbar=Toolbar(toolitems=[('Home', 'Reset original view', 'home', 'home'), ('Back', 'Back to previous …"
         },
         "metadata": {},
         "output_type": "display_data"
        }
       ]
      }
     },
     "ef6c482a22c74b2a842b337801225f58": {
      "model_module": "@jupyter-widgets/base",
      "model_module_version": "1.2.0",
      "model_name": "LayoutModel",
      "state": {}
     },
     "fcd3ed661088411b8f89a7268e77aba7": {
      "model_module": "@jupyter-widgets/controls",
      "model_module_version": "1.5.0",
      "model_name": "CheckboxModel",
      "state": {
       "description": "Annotate heatmap cells",
       "disabled": false,
       "layout": "IPY_MODEL_c65f94ba19e54b60b0b1c877808b1b92",
       "style": "IPY_MODEL_a92d098ddfa94949894345db92da7984",
       "value": false
      }
     },
     "ff89c277327b48f1a52716c7e161d3f5": {
      "model_module": "@jupyter-widgets/base",
      "model_module_version": "1.2.0",
      "model_name": "LayoutModel",
      "state": {}
     }
    },
    "version_major": 2,
    "version_minor": 0
   }
  }
 },
 "nbformat": 4,
 "nbformat_minor": 4
}
