{
 "cells": [
  {
   "cell_type": "markdown",
   "metadata": {},
   "source": [
    "# Visualize dynophores: Statistics\n",
    "\n",
    "In this notebook, we will show how to use the `dynophores` library for static and interactive plotting."
   ]
  },
  {
   "cell_type": "code",
   "execution_count": 1,
   "metadata": {
    "tags": []
   },
   "outputs": [],
   "source": [
    "%load_ext autoreload\n",
    "%autoreload 2"
   ]
  },
  {
   "cell_type": "code",
   "execution_count": 2,
   "metadata": {},
   "outputs": [],
   "source": [
    "%matplotlib widget"
   ]
  },
  {
   "cell_type": "code",
   "execution_count": 3,
   "metadata": {},
   "outputs": [
    {
     "data": {
      "application/vnd.jupyter.widget-view+json": {
       "model_id": "2cbefe25c07949989157f719a82f25e0",
       "version_major": 2,
       "version_minor": 0
      },
      "text/plain": []
     },
     "metadata": {},
     "output_type": "display_data"
    }
   ],
   "source": [
    "from pathlib import Path\n",
    "\n",
    "from dynophores import Dynophore\n",
    "from dynophores import plot"
   ]
  },
  {
   "cell_type": "markdown",
   "metadata": {},
   "source": [
    "## Set path to `DynophoreApp` output data folder"
   ]
  },
  {
   "cell_type": "code",
   "execution_count": 4,
   "metadata": {},
   "outputs": [],
   "source": [
    "DATA = Path(\"../../dynophores/tests/data\")\n",
    "dyno_path = DATA / \"out\""
   ]
  },
  {
   "cell_type": "markdown",
   "metadata": {},
   "source": [
    "## Load data as `Dynophore` object"
   ]
  },
  {
   "cell_type": "code",
   "execution_count": 5,
   "metadata": {},
   "outputs": [],
   "source": [
    "dynophore = Dynophore.from_dir(dyno_path)"
   ]
  },
  {
   "cell_type": "markdown",
   "metadata": {},
   "source": [
    "## Statistics"
   ]
  },
  {
   "cell_type": "markdown",
   "metadata": {},
   "source": [
    "### Plot interactions overview (heatmap)"
   ]
  },
  {
   "cell_type": "code",
   "execution_count": 6,
   "metadata": {},
   "outputs": [
    {
     "data": {
      "application/vnd.jupyter.widget-view+json": {
       "model_id": "e8dff7fefa444590ba2f940efdd2c4e7",
       "version_major": 2,
       "version_minor": 0
      },
      "text/plain": [
       "interactive(children=(SelectMultiple(description='Superfeature ID(s):', index=(0,), options=('all', 'H[4599,46…"
      ]
     },
     "metadata": {},
     "output_type": "display_data"
    }
   ],
   "source": [
    "plot.interactive.superfeatures_vs_envpartners(dynophore)"
   ]
  },
  {
   "cell_type": "markdown",
   "metadata": {},
   "source": [
    "### Plot superfeature occurrences (time series)"
   ]
  },
  {
   "cell_type": "code",
   "execution_count": 7,
   "metadata": {},
   "outputs": [
    {
     "data": {
      "application/vnd.jupyter.widget-view+json": {
       "model_id": "402d3956c0dc415fabfeb43a6e67ce42",
       "version_major": 2,
       "version_minor": 0
      },
      "text/plain": [
       "interactive(children=(SelectMultiple(description='Superfeature ID(s):', index=(0,), options=('all', 'H[4599,46…"
      ]
     },
     "metadata": {},
     "output_type": "display_data"
    }
   ],
   "source": [
    "plot.interactive.superfeatures_occurrences(dynophore)"
   ]
  },
  {
   "cell_type": "markdown",
   "metadata": {},
   "source": [
    "### Plot interactions for example superfeature (time series)"
   ]
  },
  {
   "cell_type": "markdown",
   "metadata": {},
   "source": [
    "#### Interaction occurrence"
   ]
  },
  {
   "cell_type": "code",
   "execution_count": 8,
   "metadata": {},
   "outputs": [
    {
     "data": {
      "application/vnd.jupyter.widget-view+json": {
       "model_id": "a8e38bbf197643be99b6829002f6119b",
       "version_major": 2,
       "version_minor": 0
      },
      "text/plain": [
       "interactive(children=(SelectMultiple(description='Superfeature ID(s):', index=(0,), options=('H[4599,4602,4601…"
      ]
     },
     "metadata": {},
     "output_type": "display_data"
    }
   ],
   "source": [
    "plot.interactive.envpartners_occurrences(dynophore)"
   ]
  },
  {
   "cell_type": "markdown",
   "metadata": {},
   "source": [
    "#### Interaction distances (time series and histogram)"
   ]
  },
  {
   "cell_type": "code",
   "execution_count": 9,
   "metadata": {},
   "outputs": [
    {
     "data": {
      "application/vnd.jupyter.widget-view+json": {
       "model_id": "1a4e38484c944d328489783bfd92311f",
       "version_major": 2,
       "version_minor": 0
      },
      "text/plain": [
       "interactive(children=(SelectMultiple(description='Superfeature ID(s):', index=(0,), options=('H[4599,4602,4601…"
      ]
     },
     "metadata": {},
     "output_type": "display_data"
    }
   ],
   "source": [
    "plot.interactive.envpartners_distances(dynophore)"
   ]
  },
  {
   "cell_type": "markdown",
   "metadata": {},
   "source": [
    "#### Interaction profile (all-in-one)"
   ]
  },
  {
   "cell_type": "code",
   "execution_count": 10,
   "metadata": {},
   "outputs": [
    {
     "data": {
      "application/vnd.jupyter.widget-view+json": {
       "model_id": "fd78f1c203344e1bb5980c2267c22eb0",
       "version_major": 2,
       "version_minor": 0
      },
      "text/plain": [
       "interactive(children=(Select(description='Superfeature ID(s):', options=('H[4599,4602,4601,4608,4609,4600]', '…"
      ]
     },
     "metadata": {},
     "output_type": "display_data"
    }
   ],
   "source": [
    "plot.interactive.envpartners_all_in_one(dynophore)"
   ]
  }
 ],
 "metadata": {
  "kernelspec": {
   "display_name": "Python 3 (ipykernel)",
   "language": "python",
   "name": "python3"
  },
  "language_info": {
   "codemirror_mode": {
    "name": "ipython",
    "version": 3
   },
   "file_extension": ".py",
   "mimetype": "text/x-python",
   "name": "python",
   "nbconvert_exporter": "python",
   "pygments_lexer": "ipython3",
   "version": "3.9.6"
  },
  "widgets": {
   "application/vnd.jupyter.widget-state+json": {
    "state": {
     "01c5a96eb7444ff2ae7d33765e2ed1d4": {
      "model_module": "@jupyter-widgets/base",
      "model_module_version": "1.2.0",
      "model_name": "LayoutModel",
      "state": {}
     },
     "04502fc013d94cad85d9ff67620d0966": {
      "model_module": "@jupyter-widgets/base",
      "model_module_version": "1.2.0",
      "model_name": "LayoutModel",
      "state": {}
     },
     "08622e044d8744b1982862ad582d70fa": {
      "model_module": "@jupyter-widgets/base",
      "model_module_version": "1.2.0",
      "model_name": "LayoutModel",
      "state": {}
     },
     "0aec974b20004bc2afd454890aab5ffb": {
      "model_module": "@jupyter-widgets/controls",
      "model_module_version": "1.5.0",
      "model_name": "SelectMultipleModel",
      "state": {
       "_options_labels": [
        "H[4599,4602,4601,4608,4609,4600]",
        "H[4615,4623,4622,4613,4621,4614]",
        "HBA[4596]",
        "HBA[4619]",
        "HBD[4612]",
        "AR[4622,4615,4623,4613,4614,4621]",
        "HBA[4606]",
        "HBD[4598]",
        "HBA[4618]",
        "AR[4605,4607,4603,4606,4604]"
       ],
       "description": "Superfeature ID(s):",
       "index": [
        0
       ],
       "layout": "IPY_MODEL_04502fc013d94cad85d9ff67620d0966",
       "rows": 5,
       "style": "IPY_MODEL_89eed267ed5e45a38e3bedf93e914a9b"
      }
     },
     "11d56b692bc34be8bbfebe0e6cb7b703": {
      "model_module": "@jupyter-widgets/controls",
      "model_module_version": "1.5.0",
      "model_name": "DescriptionStyleModel",
      "state": {
       "description_width": "initial"
      }
     },
     "1325f8aa41f845eeaa51d8959a988515": {
      "model_module": "jupyter-matplotlib",
      "model_module_version": "^0.9.0",
      "model_name": "MPLCanvasModel",
      "state": {
       "_cursor": "default",
       "_figure_label": "Figure 4",
       "_height": 400,
       "_width": 800,
       "layout": "IPY_MODEL_e28feb87764945ad99bdcae19081fcf2",
       "toolbar": "IPY_MODEL_9f5c1aae8b5c4318953d7e91c884978f",
       "toolbar_position": "left"
      }
     },
     "1393f05c196a42d68d05531a619aeba1": {
      "model_module": "@jupyter-widgets/base",
      "model_module_version": "1.2.0",
      "model_name": "LayoutModel",
      "state": {}
     },
     "15ae13644d3a495c830156418d96d173": {
      "model_module": "@jupyter-widgets/controls",
      "model_module_version": "1.5.0",
      "model_name": "SliderStyleModel",
      "state": {
       "description_width": "initial"
      }
     },
     "164d2f7cf9624ca1a7f28cc66147c7fe": {
      "model_module": "@jupyter-widgets/controls",
      "model_module_version": "1.5.0",
      "model_name": "BoundedFloatTextModel",
      "state": {
       "description": "Occurrence minimum [%]:",
       "layout": "IPY_MODEL_7df902c67eee4f96a5f82834cd916deb",
       "step": 1,
       "style": "IPY_MODEL_2a032f6449a74acd9894e5faa74de6a2"
      }
     },
     "1775fbad355d41ed8a54eec0f5c6e5f2": {
      "model_module": "@jupyter-widgets/base",
      "model_module_version": "1.2.0",
      "model_name": "LayoutModel",
      "state": {}
     },
     "19eaeb5829d2494eaa6a2e05d0edac51": {
      "model_module": "jupyter-matplotlib",
      "model_module_version": "^0.9.0",
      "model_name": "ToolbarModel",
      "state": {
       "layout": "IPY_MODEL_ad308cb83edd47e59076ad142a8d2a77",
       "toolitems": [
        [
         "Home",
         "Reset original view",
         "home",
         "home"
        ],
        [
         "Back",
         "Back to previous view",
         "arrow-left",
         "back"
        ],
        [
         "Forward",
         "Forward to next view",
         "arrow-right",
         "forward"
        ],
        [
         "Pan",
         "Left button pans, Right button zooms\nx/y fixes axis, CTRL fixes aspect",
         "arrows",
         "pan"
        ],
        [
         "Zoom",
         "Zoom to rectangle\nx/y fixes axis, CTRL fixes aspect",
         "square-o",
         "zoom"
        ],
        [
         "Download",
         "Download plot",
         "floppy-o",
         "save_figure"
        ]
       ]
      }
     },
     "1a4e38484c944d328489783bfd92311f": {
      "model_module": "@jupyter-widgets/controls",
      "model_module_version": "1.5.0",
      "model_name": "VBoxModel",
      "state": {
       "_dom_classes": [
        "widget-interact"
       ],
       "children": [
        "IPY_MODEL_0aec974b20004bc2afd454890aab5ffb",
        "IPY_MODEL_5d0de1d329b9480e90a0ac463082e89a",
        "IPY_MODEL_b3d4fb287c42404bb454ac74bbc7f171",
        "IPY_MODEL_38503811068a467d96eaa5abbc527127",
        "IPY_MODEL_164d2f7cf9624ca1a7f28cc66147c7fe",
        "IPY_MODEL_1a9d7c9d9e0e49f19262a118c9a0b5d9"
       ],
       "layout": "IPY_MODEL_e813923c89584a2eb5b2032a4f29c9f3"
      }
     },
     "1a9d7c9d9e0e49f19262a118c9a0b5d9": {
      "model_module": "@jupyter-widgets/output",
      "model_module_version": "1.0.0",
      "model_name": "OutputModel",
      "state": {
       "layout": "IPY_MODEL_ca838064603a48cfb61927fc3d7ad839",
       "outputs": [
        {
         "data": {
          "application/vnd.jupyter.widget-view+json": {
           "model_id": "1325f8aa41f845eeaa51d8959a988515",
           "version_major": 2,
           "version_minor": 0
          },
          "text/plain": "Canvas(toolbar=Toolbar(toolitems=[('Home', 'Reset original view', 'home', 'home'), ('Back', 'Back to previous …"
         },
         "metadata": {},
         "output_type": "display_data"
        }
       ]
      }
     },
     "1c1e495530ab4c6e810a8f9db8afa079": {
      "model_module": "@jupyter-widgets/output",
      "model_module_version": "1.0.0",
      "model_name": "OutputModel",
      "state": {
       "layout": "IPY_MODEL_3612322b20a3413d981cfc89c08ea905",
       "outputs": [
        {
         "data": {
          "application/vnd.jupyter.widget-view+json": {
           "model_id": "2e2968b6adef49bd88cf5b7ebf46cf7e",
           "version_major": 2,
           "version_minor": 0
          },
          "text/plain": "Canvas(toolbar=Toolbar(toolitems=[('Home', 'Reset original view', 'home', 'home'), ('Back', 'Back to previous …"
         },
         "metadata": {},
         "output_type": "display_data"
        }
       ]
      }
     },
     "1f1c256b5ff549d79394ac18e714061e": {
      "model_module": "@jupyter-widgets/base",
      "model_module_version": "1.2.0",
      "model_name": "LayoutModel",
      "state": {}
     },
     "1f75711528174440b5018472fcae2634": {
      "model_module": "@jupyter-widgets/base",
      "model_module_version": "1.2.0",
      "model_name": "LayoutModel",
      "state": {}
     },
     "23c0aa22b394429588374243b77bb82e": {
      "model_module": "jupyter-matplotlib",
      "model_module_version": "^0.9.0",
      "model_name": "ToolbarModel",
      "state": {
       "layout": "IPY_MODEL_2e984317f6f846b2a75a27c928bd5e78",
       "toolitems": [
        [
         "Home",
         "Reset original view",
         "home",
         "home"
        ],
        [
         "Back",
         "Back to previous view",
         "arrow-left",
         "back"
        ],
        [
         "Forward",
         "Forward to next view",
         "arrow-right",
         "forward"
        ],
        [
         "Pan",
         "Left button pans, Right button zooms\nx/y fixes axis, CTRL fixes aspect",
         "arrows",
         "pan"
        ],
        [
         "Zoom",
         "Zoom to rectangle\nx/y fixes axis, CTRL fixes aspect",
         "square-o",
         "zoom"
        ],
        [
         "Download",
         "Download plot",
         "floppy-o",
         "save_figure"
        ]
       ]
      }
     },
     "257bc0df7eeb474c9b83e313d1bedb73": {
      "model_module": "@jupyter-widgets/base",
      "model_module_version": "1.2.0",
      "model_name": "LayoutModel",
      "state": {}
     },
     "2777bfe2060d4a688c7c982fe78ce6da": {
      "model_module": "@jupyter-widgets/controls",
      "model_module_version": "1.5.0",
      "model_name": "DescriptionStyleModel",
      "state": {
       "description_width": "initial"
      }
     },
     "2a032f6449a74acd9894e5faa74de6a2": {
      "model_module": "@jupyter-widgets/controls",
      "model_module_version": "1.5.0",
      "model_name": "DescriptionStyleModel",
      "state": {
       "description_width": "initial"
      }
     },
     "2ac1413a5b39498eabd5de425735a504": {
      "model_module": "@jupyter-widgets/output",
      "model_module_version": "1.0.0",
      "model_name": "OutputModel",
      "state": {
       "layout": "IPY_MODEL_a466eead32a04f38aaec720d56346d8c",
       "outputs": [
        {
         "data": {
          "application/vnd.jupyter.widget-view+json": {
           "model_id": "e8439341de514d62bde1021c64fe0e4f",
           "version_major": 2,
           "version_minor": 0
          },
          "text/plain": "Canvas(toolbar=Toolbar(toolitems=[('Home', 'Reset original view', 'home', 'home'), ('Back', 'Back to previous …"
         },
         "metadata": {},
         "output_type": "display_data"
        }
       ]
      }
     },
     "2cbefe25c07949989157f719a82f25e0": {
      "model_module": "nglview-js-widgets",
      "model_module_version": "3.0.1",
      "model_name": "ColormakerRegistryModel",
      "state": {
       "_msg_ar": [],
       "_msg_q": [],
       "_ready": true,
       "layout": "IPY_MODEL_58964b7c41b2410ea67da69c8f48f95d"
      }
     },
     "2e2968b6adef49bd88cf5b7ebf46cf7e": {
      "model_module": "jupyter-matplotlib",
      "model_module_version": "^0.9.0",
      "model_name": "MPLCanvasModel",
      "state": {
       "_cursor": "default",
       "_figure_label": "Figure 1",
       "_height": 550,
       "_width": 800,
       "layout": "IPY_MODEL_cbbbbd446eee438a8821d4e9c81b34c1",
       "toolbar": "IPY_MODEL_19eaeb5829d2494eaa6a2e05d0edac51",
       "toolbar_position": "left"
      }
     },
     "2e984317f6f846b2a75a27c928bd5e78": {
      "model_module": "@jupyter-widgets/base",
      "model_module_version": "1.2.0",
      "model_name": "LayoutModel",
      "state": {}
     },
     "2fa5fe043e2f4d07a4692fc97e7c4592": {
      "model_module": "@jupyter-widgets/controls",
      "model_module_version": "1.5.0",
      "model_name": "DescriptionStyleModel",
      "state": {
       "description_width": "initial"
      }
     },
     "35de21a102484d178e48d4b05661c1b5": {
      "model_module": "jupyter-matplotlib",
      "model_module_version": "^0.9.0",
      "model_name": "ToolbarModel",
      "state": {
       "layout": "IPY_MODEL_53eb367c7b034a49aef3d6bea23c640c",
       "toolitems": [
        [
         "Home",
         "Reset original view",
         "home",
         "home"
        ],
        [
         "Back",
         "Back to previous view",
         "arrow-left",
         "back"
        ],
        [
         "Forward",
         "Forward to next view",
         "arrow-right",
         "forward"
        ],
        [
         "Pan",
         "Left button pans, Right button zooms\nx/y fixes axis, CTRL fixes aspect",
         "arrows",
         "pan"
        ],
        [
         "Zoom",
         "Zoom to rectangle\nx/y fixes axis, CTRL fixes aspect",
         "square-o",
         "zoom"
        ],
        [
         "Download",
         "Download plot",
         "floppy-o",
         "save_figure"
        ]
       ]
      }
     },
     "3612322b20a3413d981cfc89c08ea905": {
      "model_module": "@jupyter-widgets/base",
      "model_module_version": "1.2.0",
      "model_name": "LayoutModel",
      "state": {}
     },
     "37478f1839a04d0d90c636932710c5b2": {
      "model_module": "@jupyter-widgets/base",
      "model_module_version": "1.2.0",
      "model_name": "LayoutModel",
      "state": {}
     },
     "38503811068a467d96eaa5abbc527127": {
      "model_module": "@jupyter-widgets/controls",
      "model_module_version": "1.5.0",
      "model_name": "BoundedIntTextModel",
      "state": {
       "description": "Frames step size:",
       "layout": "IPY_MODEL_7fd68250f41d4a1588d772ce3be6e837",
       "max": 1001,
       "min": 1,
       "style": "IPY_MODEL_2fa5fe043e2f4d07a4692fc97e7c4592",
       "value": 1
      }
     },
     "402d3956c0dc415fabfeb43a6e67ce42": {
      "model_module": "@jupyter-widgets/controls",
      "model_module_version": "1.5.0",
      "model_name": "VBoxModel",
      "state": {
       "_dom_classes": [
        "widget-interact"
       ],
       "children": [
        "IPY_MODEL_db9c33a3ca8f418a9238bbba7d3264c3",
        "IPY_MODEL_c920deb25e1f4953ad18ddf557c1187e",
        "IPY_MODEL_d1eafeee909f4a3fa766444b4486f5ed",
        "IPY_MODEL_ef1cd413eb8041e495eb92df5a095792",
        "IPY_MODEL_cb661f045ce04e26b813efbdf4d453a3"
       ],
       "layout": "IPY_MODEL_08622e044d8744b1982862ad582d70fa"
      }
     },
     "424b50492fa843b19b8aa5595a31cc7a": {
      "model_module": "@jupyter-widgets/base",
      "model_module_version": "1.2.0",
      "model_name": "LayoutModel",
      "state": {}
     },
     "4ceb64053be940f2833d649dba0743f6": {
      "model_module": "@jupyter-widgets/controls",
      "model_module_version": "1.5.0",
      "model_name": "BoundedFloatTextModel",
      "state": {
       "description": "Occurrence minimum [%]:",
       "layout": "IPY_MODEL_a3c036d95b2345deaffea58e2631426f",
       "step": 1,
       "style": "IPY_MODEL_a2e3a62dc44643de8deb2f5da66a42b6"
      }
     },
     "53eb367c7b034a49aef3d6bea23c640c": {
      "model_module": "@jupyter-widgets/base",
      "model_module_version": "1.2.0",
      "model_name": "LayoutModel",
      "state": {}
     },
     "5634d130c35e40e183bbcac285e3bc0c": {
      "model_module": "@jupyter-widgets/controls",
      "model_module_version": "1.5.0",
      "model_name": "DescriptionStyleModel",
      "state": {
       "description_width": "initial"
      }
     },
     "567d0f49166645719182f6f2f4a254b3": {
      "model_module": "jupyter-matplotlib",
      "model_module_version": "^0.9.0",
      "model_name": "ToolbarModel",
      "state": {
       "layout": "IPY_MODEL_69ca4024cc9b415a809b06ff6b08d787",
       "toolitems": [
        [
         "Home",
         "Reset original view",
         "home",
         "home"
        ],
        [
         "Back",
         "Back to previous view",
         "arrow-left",
         "back"
        ],
        [
         "Forward",
         "Forward to next view",
         "arrow-right",
         "forward"
        ],
        [
         "Pan",
         "Left button pans, Right button zooms\nx/y fixes axis, CTRL fixes aspect",
         "arrows",
         "pan"
        ],
        [
         "Zoom",
         "Zoom to rectangle\nx/y fixes axis, CTRL fixes aspect",
         "square-o",
         "zoom"
        ],
        [
         "Download",
         "Download plot",
         "floppy-o",
         "save_figure"
        ]
       ]
      }
     },
     "58964b7c41b2410ea67da69c8f48f95d": {
      "model_module": "@jupyter-widgets/base",
      "model_module_version": "1.2.0",
      "model_name": "LayoutModel",
      "state": {}
     },
     "5ae880ca863647e48f1dc97ee0a8e23c": {
      "model_module": "@jupyter-widgets/controls",
      "model_module_version": "1.5.0",
      "model_name": "ToggleButtonsStyleModel",
      "state": {
       "button_width": "",
       "description_width": ""
      }
     },
     "5d0de1d329b9480e90a0ac463082e89a": {
      "model_module": "@jupyter-widgets/controls",
      "model_module_version": "1.5.0",
      "model_name": "ToggleButtonsModel",
      "state": {
       "_options_labels": [
        "line",
        "hist"
       ],
       "button_style": "",
       "description": "Plot style",
       "icons": [],
       "index": 0,
       "layout": "IPY_MODEL_01c5a96eb7444ff2ae7d33765e2ed1d4",
       "style": "IPY_MODEL_5ae880ca863647e48f1dc97ee0a8e23c",
       "tooltips": [
        "Series",
        "Histogram"
       ]
      }
     },
     "62188f9f815e4ee9b48ba591a791db13": {
      "model_module": "@jupyter-widgets/controls",
      "model_module_version": "1.5.0",
      "model_name": "SliderStyleModel",
      "state": {
       "description_width": "initial"
      }
     },
     "67457f53d7cf489b9104eababf70edf9": {
      "model_module": "@jupyter-widgets/controls",
      "model_module_version": "1.5.0",
      "model_name": "DescriptionStyleModel",
      "state": {
       "description_width": "initial"
      }
     },
     "69ca4024cc9b415a809b06ff6b08d787": {
      "model_module": "@jupyter-widgets/base",
      "model_module_version": "1.2.0",
      "model_name": "LayoutModel",
      "state": {}
     },
     "69da40deca0a42279ec7c6cea2d3d712": {
      "model_module": "@jupyter-widgets/base",
      "model_module_version": "1.2.0",
      "model_name": "LayoutModel",
      "state": {}
     },
     "6a3e51f058ec4af294490f83e24e9a4a": {
      "model_module": "@jupyter-widgets/controls",
      "model_module_version": "1.5.0",
      "model_name": "DescriptionStyleModel",
      "state": {
       "description_width": "initial"
      }
     },
     "6dde2e06a4414dff98989215af446178": {
      "model_module": "@jupyter-widgets/controls",
      "model_module_version": "1.5.0",
      "model_name": "CheckboxModel",
      "state": {
       "description": "Annotate heatmap cells",
       "disabled": false,
       "layout": "IPY_MODEL_1775fbad355d41ed8a54eec0f5c6e5f2",
       "style": "IPY_MODEL_85cde0c97cac4dbc80b1b5f06db4967d",
       "value": false
      }
     },
     "6eadd81deea9424a8109b278a43b818c": {
      "model_module": "@jupyter-widgets/base",
      "model_module_version": "1.2.0",
      "model_name": "LayoutModel",
      "state": {}
     },
     "7a07813959d548d2a75ed95f833eca7a": {
      "model_module": "jupyter-matplotlib",
      "model_module_version": "^0.9.0",
      "model_name": "MPLCanvasModel",
      "state": {
       "_cursor": "default",
       "_figure_label": "Figure 2",
       "_height": 550,
       "_width": 800,
       "layout": "IPY_MODEL_fa7457c4044b4b23971615005898695e",
       "toolbar": "IPY_MODEL_567d0f49166645719182f6f2f4a254b3",
       "toolbar_position": "left"
      }
     },
     "7df902c67eee4f96a5f82834cd916deb": {
      "model_module": "@jupyter-widgets/base",
      "model_module_version": "1.2.0",
      "model_name": "LayoutModel",
      "state": {}
     },
     "7f2508e67bc5455ca58da2cdc8f70cb9": {
      "model_module": "@jupyter-widgets/output",
      "model_module_version": "1.0.0",
      "model_name": "OutputModel",
      "state": {
       "layout": "IPY_MODEL_257bc0df7eeb474c9b83e313d1bedb73",
       "outputs": [
        {
         "data": {
          "application/vnd.jupyter.widget-view+json": {
           "model_id": "f27bc10e5a684df88805fc78f8cf9ac0",
           "version_major": 2,
           "version_minor": 0
          },
          "text/plain": "Canvas(toolbar=Toolbar(toolitems=[('Home', 'Reset original view', 'home', 'home'), ('Back', 'Back to previous …"
         },
         "metadata": {},
         "output_type": "display_data"
        }
       ]
      }
     },
     "7fd68250f41d4a1588d772ce3be6e837": {
      "model_module": "@jupyter-widgets/base",
      "model_module_version": "1.2.0",
      "model_name": "LayoutModel",
      "state": {}
     },
     "803b39633fca4178adf6827ab1979520": {
      "model_module": "@jupyter-widgets/base",
      "model_module_version": "1.2.0",
      "model_name": "LayoutModel",
      "state": {}
     },
     "810fcbdffdd6473dbaac86824a61a8a0": {
      "model_module": "@jupyter-widgets/controls",
      "model_module_version": "1.5.0",
      "model_name": "SelectMultipleModel",
      "state": {
       "_options_labels": [
        "H[4599,4602,4601,4608,4609,4600]",
        "H[4615,4623,4622,4613,4621,4614]",
        "HBA[4596]",
        "HBA[4619]",
        "HBD[4612]",
        "AR[4622,4615,4623,4613,4614,4621]",
        "HBA[4606]",
        "HBD[4598]",
        "HBA[4618]",
        "AR[4605,4607,4603,4606,4604]"
       ],
       "description": "Superfeature ID(s):",
       "index": [
        0
       ],
       "layout": "IPY_MODEL_de2f0a5208c0444386469d8c6788413e",
       "rows": 5,
       "style": "IPY_MODEL_85a84bc31c1a4ca7b3cd4360a1024fad"
      }
     },
     "83361f8ddde541c4994165e3a8ed29cc": {
      "model_module": "@jupyter-widgets/base",
      "model_module_version": "1.2.0",
      "model_name": "LayoutModel",
      "state": {}
     },
     "85a84bc31c1a4ca7b3cd4360a1024fad": {
      "model_module": "@jupyter-widgets/controls",
      "model_module_version": "1.5.0",
      "model_name": "DescriptionStyleModel",
      "state": {
       "description_width": "initial"
      }
     },
     "85cde0c97cac4dbc80b1b5f06db4967d": {
      "model_module": "@jupyter-widgets/controls",
      "model_module_version": "1.5.0",
      "model_name": "DescriptionStyleModel",
      "state": {
       "description_width": ""
      }
     },
     "879db1c4896e4a94a46628c33cc4a765": {
      "model_module": "@jupyter-widgets/controls",
      "model_module_version": "1.5.0",
      "model_name": "DescriptionStyleModel",
      "state": {
       "description_width": "initial"
      }
     },
     "89eed267ed5e45a38e3bedf93e914a9b": {
      "model_module": "@jupyter-widgets/controls",
      "model_module_version": "1.5.0",
      "model_name": "DescriptionStyleModel",
      "state": {
       "description_width": "initial"
      }
     },
     "8f51c4662a004e23a401499ab2503352": {
      "model_module": "@jupyter-widgets/base",
      "model_module_version": "1.2.0",
      "model_name": "LayoutModel",
      "state": {}
     },
     "9d023c26692b474a97591086ecf5698f": {
      "model_module": "@jupyter-widgets/base",
      "model_module_version": "1.2.0",
      "model_name": "LayoutModel",
      "state": {}
     },
     "9f5c1aae8b5c4318953d7e91c884978f": {
      "model_module": "jupyter-matplotlib",
      "model_module_version": "^0.9.0",
      "model_name": "ToolbarModel",
      "state": {
       "layout": "IPY_MODEL_1393f05c196a42d68d05531a619aeba1",
       "toolitems": [
        [
         "Home",
         "Reset original view",
         "home",
         "home"
        ],
        [
         "Back",
         "Back to previous view",
         "arrow-left",
         "back"
        ],
        [
         "Forward",
         "Forward to next view",
         "arrow-right",
         "forward"
        ],
        [
         "Pan",
         "Left button pans, Right button zooms\nx/y fixes axis, CTRL fixes aspect",
         "arrows",
         "pan"
        ],
        [
         "Zoom",
         "Zoom to rectangle\nx/y fixes axis, CTRL fixes aspect",
         "square-o",
         "zoom"
        ],
        [
         "Download",
         "Download plot",
         "floppy-o",
         "save_figure"
        ]
       ]
      }
     },
     "a1dc76877ffe4ad79ce07f1b1c552166": {
      "model_module": "@jupyter-widgets/controls",
      "model_module_version": "1.5.0",
      "model_name": "IntRangeSliderModel",
      "state": {
       "_model_name": "IntRangeSliderModel",
       "_view_name": "IntRangeSliderView",
       "description": "Frames range:",
       "layout": "IPY_MODEL_1f1c256b5ff549d79394ac18e714061e",
       "max": 1002,
       "style": "IPY_MODEL_15ae13644d3a495c830156418d96d173",
       "value": [
        0,
        1002
       ]
      }
     },
     "a2e3a62dc44643de8deb2f5da66a42b6": {
      "model_module": "@jupyter-widgets/controls",
      "model_module_version": "1.5.0",
      "model_name": "DescriptionStyleModel",
      "state": {
       "description_width": "initial"
      }
     },
     "a3c036d95b2345deaffea58e2631426f": {
      "model_module": "@jupyter-widgets/base",
      "model_module_version": "1.2.0",
      "model_name": "LayoutModel",
      "state": {}
     },
     "a466eead32a04f38aaec720d56346d8c": {
      "model_module": "@jupyter-widgets/base",
      "model_module_version": "1.2.0",
      "model_name": "LayoutModel",
      "state": {}
     },
     "a8e38bbf197643be99b6829002f6119b": {
      "model_module": "@jupyter-widgets/controls",
      "model_module_version": "1.5.0",
      "model_name": "VBoxModel",
      "state": {
       "_dom_classes": [
        "widget-interact"
       ],
       "children": [
        "IPY_MODEL_810fcbdffdd6473dbaac86824a61a8a0",
        "IPY_MODEL_a1dc76877ffe4ad79ce07f1b1c552166",
        "IPY_MODEL_f0f2db04e75948f785da407cfe206ce6",
        "IPY_MODEL_4ceb64053be940f2833d649dba0743f6",
        "IPY_MODEL_7f2508e67bc5455ca58da2cdc8f70cb9"
       ],
       "layout": "IPY_MODEL_424b50492fa843b19b8aa5595a31cc7a"
      }
     },
     "ad29ef318378489e8ecd4ac1922a6d2c": {
      "model_module": "@jupyter-widgets/controls",
      "model_module_version": "1.5.0",
      "model_name": "SliderStyleModel",
      "state": {
       "description_width": "initial"
      }
     },
     "ad308cb83edd47e59076ad142a8d2a77": {
      "model_module": "@jupyter-widgets/base",
      "model_module_version": "1.2.0",
      "model_name": "LayoutModel",
      "state": {}
     },
     "b043745bb0674e9f881bc088617f7c6d": {
      "model_module": "@jupyter-widgets/base",
      "model_module_version": "1.2.0",
      "model_name": "LayoutModel",
      "state": {}
     },
     "b3d4fb287c42404bb454ac74bbc7f171": {
      "model_module": "@jupyter-widgets/controls",
      "model_module_version": "1.5.0",
      "model_name": "IntRangeSliderModel",
      "state": {
       "_model_name": "IntRangeSliderModel",
       "_view_name": "IntRangeSliderView",
       "description": "Frames range:",
       "layout": "IPY_MODEL_c428d1622c5349c8920c388722c27bd8",
       "max": 1002,
       "style": "IPY_MODEL_f3c1962a0ff848279271f0ea90602786",
       "value": [
        0,
        1002
       ]
      }
     },
     "b5a0190cd60743dd9064ef3b2fa6f1cc": {
      "model_module": "@jupyter-widgets/controls",
      "model_module_version": "1.5.0",
      "model_name": "DescriptionStyleModel",
      "state": {
       "description_width": ""
      }
     },
     "b89915eb80564ea2909189fa9db0ccdc": {
      "model_module": "@jupyter-widgets/base",
      "model_module_version": "1.2.0",
      "model_name": "LayoutModel",
      "state": {}
     },
     "bdff8a42a8e94c8e8e04d60077f7c58c": {
      "model_module": "@jupyter-widgets/base",
      "model_module_version": "1.2.0",
      "model_name": "LayoutModel",
      "state": {}
     },
     "be25bc6f8bc64db890acb99becbe80b7": {
      "model_module": "@jupyter-widgets/controls",
      "model_module_version": "1.5.0",
      "model_name": "SelectMultipleModel",
      "state": {
       "_options_labels": [
        "all",
        "H[4599,4602,4601,4608,4609,4600]",
        "H[4615,4623,4622,4613,4621,4614]",
        "HBA[4596]",
        "HBA[4619]",
        "HBD[4612]",
        "AR[4622,4615,4623,4613,4614,4621]",
        "HBA[4606]",
        "HBD[4598]",
        "HBA[4618]",
        "AR[4605,4607,4603,4606,4604]"
       ],
       "description": "Superfeature ID(s):",
       "index": [
        0
       ],
       "layout": "IPY_MODEL_69da40deca0a42279ec7c6cea2d3d712",
       "rows": 5,
       "style": "IPY_MODEL_67457f53d7cf489b9104eababf70edf9"
      }
     },
     "c428d1622c5349c8920c388722c27bd8": {
      "model_module": "@jupyter-widgets/base",
      "model_module_version": "1.2.0",
      "model_name": "LayoutModel",
      "state": {}
     },
     "c8aae0684d91415eabc45702d0926b6f": {
      "model_module": "@jupyter-widgets/controls",
      "model_module_version": "1.5.0",
      "model_name": "SelectModel",
      "state": {
       "_options_labels": [
        "H[4599,4602,4601,4608,4609,4600]",
        "H[4615,4623,4622,4613,4621,4614]",
        "HBA[4596]",
        "HBA[4619]",
        "HBD[4612]",
        "AR[4622,4615,4623,4613,4614,4621]",
        "HBA[4606]",
        "HBD[4598]",
        "HBA[4618]",
        "AR[4605,4607,4603,4606,4604]"
       ],
       "description": "Superfeature ID(s):",
       "index": 0,
       "layout": "IPY_MODEL_8f51c4662a004e23a401499ab2503352",
       "style": "IPY_MODEL_fde7916ef22d4c2a91b4e250d44482b4"
      }
     },
     "c920deb25e1f4953ad18ddf557c1187e": {
      "model_module": "@jupyter-widgets/controls",
      "model_module_version": "1.5.0",
      "model_name": "CheckboxModel",
      "state": {
       "description": "Color by feature type",
       "disabled": false,
       "layout": "IPY_MODEL_d8499ac02b494b53b1d06e47408b969b",
       "style": "IPY_MODEL_b5a0190cd60743dd9064ef3b2fa6f1cc",
       "value": true
      }
     },
     "ca838064603a48cfb61927fc3d7ad839": {
      "model_module": "@jupyter-widgets/base",
      "model_module_version": "1.2.0",
      "model_name": "LayoutModel",
      "state": {}
     },
     "cb53a74e01ed4bd8b033472e012f87d0": {
      "model_module": "@jupyter-widgets/base",
      "model_module_version": "1.2.0",
      "model_name": "LayoutModel",
      "state": {}
     },
     "cb661f045ce04e26b813efbdf4d453a3": {
      "model_module": "@jupyter-widgets/output",
      "model_module_version": "1.0.0",
      "model_name": "OutputModel",
      "state": {
       "layout": "IPY_MODEL_fb51ef1dd51b4a06a59e591c94852d05",
       "outputs": [
        {
         "data": {
          "application/vnd.jupyter.widget-view+json": {
           "model_id": "7a07813959d548d2a75ed95f833eca7a",
           "version_major": 2,
           "version_minor": 0
          },
          "text/plain": "Canvas(toolbar=Toolbar(toolitems=[('Home', 'Reset original view', 'home', 'home'), ('Back', 'Back to previous …"
         },
         "metadata": {},
         "output_type": "display_data"
        }
       ]
      }
     },
     "cbbbbd446eee438a8821d4e9c81b34c1": {
      "model_module": "@jupyter-widgets/base",
      "model_module_version": "1.2.0",
      "model_name": "LayoutModel",
      "state": {}
     },
     "d0e2f5417f3c4612800baae37258a826": {
      "model_module": "@jupyter-widgets/controls",
      "model_module_version": "1.5.0",
      "model_name": "BoundedFloatTextModel",
      "state": {
       "description": "Occurrence minimum [%]:",
       "layout": "IPY_MODEL_6eadd81deea9424a8109b278a43b818c",
       "step": 1,
       "style": "IPY_MODEL_6a3e51f058ec4af294490f83e24e9a4a"
      }
     },
     "d1eafeee909f4a3fa766444b4486f5ed": {
      "model_module": "@jupyter-widgets/controls",
      "model_module_version": "1.5.0",
      "model_name": "IntRangeSliderModel",
      "state": {
       "_model_name": "IntRangeSliderModel",
       "_view_name": "IntRangeSliderView",
       "description": "Frames range:",
       "layout": "IPY_MODEL_83361f8ddde541c4994165e3a8ed29cc",
       "max": 1002,
       "style": "IPY_MODEL_ad29ef318378489e8ecd4ac1922a6d2c",
       "value": [
        0,
        1002
       ]
      }
     },
     "d8499ac02b494b53b1d06e47408b969b": {
      "model_module": "@jupyter-widgets/base",
      "model_module_version": "1.2.0",
      "model_name": "LayoutModel",
      "state": {}
     },
     "db9c33a3ca8f418a9238bbba7d3264c3": {
      "model_module": "@jupyter-widgets/controls",
      "model_module_version": "1.5.0",
      "model_name": "SelectMultipleModel",
      "state": {
       "_options_labels": [
        "all",
        "H[4599,4602,4601,4608,4609,4600]",
        "H[4615,4623,4622,4613,4621,4614]",
        "HBA[4596]",
        "HBA[4619]",
        "HBD[4612]",
        "AR[4622,4615,4623,4613,4614,4621]",
        "HBA[4606]",
        "HBD[4598]",
        "HBA[4618]",
        "AR[4605,4607,4603,4606,4604]"
       ],
       "description": "Superfeature ID(s):",
       "index": [
        0
       ],
       "layout": "IPY_MODEL_9d023c26692b474a97591086ecf5698f",
       "rows": 5,
       "style": "IPY_MODEL_5634d130c35e40e183bbcac285e3bc0c"
      }
     },
     "de2f0a5208c0444386469d8c6788413e": {
      "model_module": "@jupyter-widgets/base",
      "model_module_version": "1.2.0",
      "model_name": "LayoutModel",
      "state": {}
     },
     "dfd9c1bc133147f785e575718bb6d898": {
      "model_module": "@jupyter-widgets/base",
      "model_module_version": "1.2.0",
      "model_name": "LayoutModel",
      "state": {}
     },
     "e0edc5914913497189fa5f78b6afb599": {
      "model_module": "@jupyter-widgets/controls",
      "model_module_version": "1.5.0",
      "model_name": "IntRangeSliderModel",
      "state": {
       "_model_name": "IntRangeSliderModel",
       "_view_name": "IntRangeSliderView",
       "description": "Frames range:",
       "layout": "IPY_MODEL_1f75711528174440b5018472fcae2634",
       "max": 1002,
       "style": "IPY_MODEL_62188f9f815e4ee9b48ba591a791db13",
       "value": [
        0,
        1002
       ]
      }
     },
     "e28feb87764945ad99bdcae19081fcf2": {
      "model_module": "@jupyter-widgets/base",
      "model_module_version": "1.2.0",
      "model_name": "LayoutModel",
      "state": {}
     },
     "e813923c89584a2eb5b2032a4f29c9f3": {
      "model_module": "@jupyter-widgets/base",
      "model_module_version": "1.2.0",
      "model_name": "LayoutModel",
      "state": {}
     },
     "e8439341de514d62bde1021c64fe0e4f": {
      "model_module": "jupyter-matplotlib",
      "model_module_version": "^0.9.0",
      "model_name": "MPLCanvasModel",
      "state": {
       "_cursor": "default",
       "_figure_label": "Figure 5",
       "_height": 500,
       "_width": 800,
       "layout": "IPY_MODEL_b89915eb80564ea2909189fa9db0ccdc",
       "toolbar": "IPY_MODEL_23c0aa22b394429588374243b77bb82e",
       "toolbar_position": "left"
      }
     },
     "e8dff7fefa444590ba2f940efdd2c4e7": {
      "model_module": "@jupyter-widgets/controls",
      "model_module_version": "1.5.0",
      "model_name": "VBoxModel",
      "state": {
       "_dom_classes": [
        "widget-interact"
       ],
       "children": [
        "IPY_MODEL_be25bc6f8bc64db890acb99becbe80b7",
        "IPY_MODEL_6dde2e06a4414dff98989215af446178",
        "IPY_MODEL_1c1e495530ab4c6e810a8f9db8afa079"
       ],
       "layout": "IPY_MODEL_bdff8a42a8e94c8e8e04d60077f7c58c"
      }
     },
     "ed2024d7c6124cd3a9c63fbba67be15d": {
      "model_module": "@jupyter-widgets/controls",
      "model_module_version": "1.5.0",
      "model_name": "BoundedIntTextModel",
      "state": {
       "description": "Frames step size:",
       "layout": "IPY_MODEL_803b39633fca4178adf6827ab1979520",
       "max": 1001,
       "min": 1,
       "style": "IPY_MODEL_879db1c4896e4a94a46628c33cc4a765",
       "value": 1
      }
     },
     "ef1cd413eb8041e495eb92df5a095792": {
      "model_module": "@jupyter-widgets/controls",
      "model_module_version": "1.5.0",
      "model_name": "BoundedIntTextModel",
      "state": {
       "description": "Frames step size:",
       "layout": "IPY_MODEL_dfd9c1bc133147f785e575718bb6d898",
       "max": 1001,
       "min": 1,
       "style": "IPY_MODEL_2777bfe2060d4a688c7c982fe78ce6da",
       "value": 1
      }
     },
     "f0f2db04e75948f785da407cfe206ce6": {
      "model_module": "@jupyter-widgets/controls",
      "model_module_version": "1.5.0",
      "model_name": "BoundedIntTextModel",
      "state": {
       "description": "Frames step size:",
       "layout": "IPY_MODEL_cb53a74e01ed4bd8b033472e012f87d0",
       "max": 1001,
       "min": 1,
       "style": "IPY_MODEL_11d56b692bc34be8bbfebe0e6cb7b703",
       "value": 1
      }
     },
     "f27bc10e5a684df88805fc78f8cf9ac0": {
      "model_module": "jupyter-matplotlib",
      "model_module_version": "^0.9.0",
      "model_name": "MPLCanvasModel",
      "state": {
       "_cursor": "default",
       "_figure_label": "Figure 3",
       "_height": 200,
       "_width": 800,
       "layout": "IPY_MODEL_b043745bb0674e9f881bc088617f7c6d",
       "toolbar": "IPY_MODEL_35de21a102484d178e48d4b05661c1b5",
       "toolbar_position": "left"
      }
     },
     "f3c1962a0ff848279271f0ea90602786": {
      "model_module": "@jupyter-widgets/controls",
      "model_module_version": "1.5.0",
      "model_name": "SliderStyleModel",
      "state": {
       "description_width": "initial"
      }
     },
     "fa7457c4044b4b23971615005898695e": {
      "model_module": "@jupyter-widgets/base",
      "model_module_version": "1.2.0",
      "model_name": "LayoutModel",
      "state": {}
     },
     "fb51ef1dd51b4a06a59e591c94852d05": {
      "model_module": "@jupyter-widgets/base",
      "model_module_version": "1.2.0",
      "model_name": "LayoutModel",
      "state": {}
     },
     "fd78f1c203344e1bb5980c2267c22eb0": {
      "model_module": "@jupyter-widgets/controls",
      "model_module_version": "1.5.0",
      "model_name": "VBoxModel",
      "state": {
       "_dom_classes": [
        "widget-interact"
       ],
       "children": [
        "IPY_MODEL_c8aae0684d91415eabc45702d0926b6f",
        "IPY_MODEL_e0edc5914913497189fa5f78b6afb599",
        "IPY_MODEL_ed2024d7c6124cd3a9c63fbba67be15d",
        "IPY_MODEL_d0e2f5417f3c4612800baae37258a826",
        "IPY_MODEL_2ac1413a5b39498eabd5de425735a504"
       ],
       "layout": "IPY_MODEL_37478f1839a04d0d90c636932710c5b2"
      }
     },
     "fde7916ef22d4c2a91b4e250d44482b4": {
      "model_module": "@jupyter-widgets/controls",
      "model_module_version": "1.5.0",
      "model_name": "DescriptionStyleModel",
      "state": {
       "description_width": "initial"
      }
     }
    },
    "version_major": 2,
    "version_minor": 0
   }
  }
 },
 "nbformat": 4,
 "nbformat_minor": 4
}
