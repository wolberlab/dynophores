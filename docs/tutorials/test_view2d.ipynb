{
 "cells": [
  {
   "cell_type": "code",
   "execution_count": 1,
   "id": "8d4bdbe3-5f73-4636-bb38-1efff560c07f",
   "metadata": {},
   "outputs": [],
   "source": [
    "from pathlib import Path\n",
    "import json\n",
    "\n",
    "from rdkit import Chem"
   ]
  },
  {
   "cell_type": "code",
   "execution_count": 2,
   "id": "27a77687-616a-4d41-b0aa-301b9d12c445",
   "metadata": {},
   "outputs": [],
   "source": [
    "json_path = \"/home/dominique/Documents/GitHub/dynophores/dynophores/tests/data/out/1KE7_dynophore.json\"\n",
    "json_path = Path(json_path)"
   ]
  },
  {
   "cell_type": "code",
   "execution_count": 3,
   "id": "16497f9d-b3d4-4f6d-b87c-8406cb024204",
   "metadata": {},
   "outputs": [],
   "source": [
    "with open(json_path, \"r\") as f:\n",
    "    json_string = f.read()\n",
    "    dynophore_dict = json.loads(json_string)"
   ]
  },
  {
   "cell_type": "code",
   "execution_count": 4,
   "id": "f4f93d7a-83d8-4606-9663-a3a15aed3957",
   "metadata": {},
   "outputs": [
    {
     "name": "stdout",
     "output_type": "stream",
     "text": [
      "[A] LS3299\n",
      "XX    ILIB05192103283D\n",
      "\n",
      " 43 47  0  0  1  0              1 V2000\n",
      "  -18.3723   -7.7424    2.7036 S   0  0  0  0  0\n",
      "   -8.5999   -3.7960    4.4876 O   0  0  0  0  0\n",
      "  -18.2548   -7.1867    4.0673 O   0  0  0  0  0\n",
      "  -19.6890   -8.3037    2.3101 O   0  0  0  0  0\n",
      "  -15.3193   -1.2604    0.5190 O   0  0  0  0  0\n",
      "   -7.6312   -5.5833    3.4323 N   0  0  0  0  0\n",
      "  -13.7348   -1.0114    2.1967 N   0  0  0  0  0\n",
      "  -13.2568   -5.1080   -0.1006 N   0  0  0  0  0\n",
      "   -7.6651   -4.8149    4.5122 C   0  0  0  0  0\n",
      "   -9.2596   -4.0424    3.3174 C   0  0  0  0  0\n",
      "  -14.3228   -1.6606    1.1139 C   0  0  0  0  0\n",
      "  -12.7117   -1.6690    2.5275 C   0  0  0  0  0\n",
      "   -8.6374   -5.0555    2.6431 C   0  0  0  0  0\n",
      "  -14.1673   -5.9607    0.5227 C   0  0  0  0  0\n",
      "  -10.4873   -3.3592    2.9742 C   0  0  0  0  0\n",
      "  -12.4851   -2.7755    1.7097 C   0  0  0  0  0\n",
      "  -16.4217   -6.6007    1.2121 C   0  0  0  0  0\n",
      "  -16.0078   -7.9031    1.7145 C   0  0  0  0  0\n",
      "  -11.8646   -1.4214    3.6653 C   0  0  0  0  0\n",
      "  -15.5416   -5.6723    0.6601 C   0  0  0  0  0\n",
      "  -13.6845   -7.2329    1.0702 C   0  0  0  0  0\n",
      "  -11.3177   -3.5540    1.8885 C   0  0  0  0  0\n",
      "  -10.7775   -2.2144    3.8945 C   0  0  0  0  0\n",
      "  -14.6246   -8.1157    1.6444 C   0  0  0  0  0\n",
      "  -13.4533   -2.7886    0.8188 C   0  0  0  0  0\n",
      "  -17.9108   -6.3736    1.4859 C   0  0  0  0  0\n",
      "  -16.9720   -8.7895    2.3750 C   0  0  0  0  0\n",
      "  -13.6532   -3.7484   -0.3219 C   0  0  0  0  0\n",
      "  -14.1491   -0.1671    2.5650 H   0  0  0  0  0\n",
      "  -12.3505   -5.4548   -0.3807 H   0  0  0  0  0\n",
      "   -7.0435   -4.9370    5.3495 H   0  0  0  0  0\n",
      "   -8.8134   -5.4475    1.6850 H   0  0  0  0  0\n",
      "  -12.0829   -0.6301    4.3200 H   0  0  0  0  0\n",
      "  -15.9176   -4.7444    0.3438 H   0  0  0  0  0\n",
      "  -12.6620   -7.4678    1.0291 H   0  0  0  0  0\n",
      "  -11.0873   -4.2910    1.1769 H   0  0  0  0  0\n",
      "  -10.1461   -2.0245    4.7117 H   0  0  0  0  0\n",
      "  -14.2077   -8.9941    2.0407 H   0  0  0  0  0\n",
      "  -18.4904   -6.4693    0.6156 H   0  0  0  0  0\n",
      "  -18.0922   -5.4378    1.9261 H   0  0  0  0  0\n",
      "  -16.6007   -9.1715    3.2798 H   0  0  0  0  0\n",
      "  -17.2667   -9.5836    1.7545 H   0  0  0  0  0\n",
      "  -14.0610   -3.4643   -1.2468 H   0  0  0  0  0\n",
      "  1  3  2  0  0  0\n",
      "  1  4  2  0  0  0\n",
      "  1 26  1  0  0  0\n",
      "  1 27  1  0  0  0\n",
      "  2  9  1  0  0  0\n",
      "  2 10  1  0  0  0\n",
      "  5 11  2  0  0  0\n",
      "  6  9  2  0  0  0\n",
      "  6 13  1  0  0  0\n",
      "  7 11  1  0  0  0\n",
      "  7 12  1  0  0  0\n",
      "  7 29  1  0  0  0\n",
      "  8 14  1  0  0  0\n",
      "  8 28  1  0  0  0\n",
      "  8 30  1  0  0  0\n",
      "  9 31  1  0  0  0\n",
      " 10 13  2  0  0  0\n",
      " 10 15  1  0  0  0\n",
      " 11 25  1  0  0  0\n",
      " 12 16  1  0  0  0\n",
      " 12 19  2  0  0  0\n",
      " 13 32  1  0  0  0\n",
      " 14 20  2  0  0  0\n",
      " 14 21  1  0  0  0\n",
      " 15 22  1  0  0  0\n",
      " 15 23  2  0  0  0\n",
      " 16 22  2  0  0  0\n",
      " 16 25  1  0  0  0\n",
      " 17 18  2  0  0  0\n",
      " 17 20  1  0  0  0\n",
      " 17 26  1  0  0  0\n",
      " 18 24  1  0  0  0\n",
      " 18 27  1  0  0  0\n",
      " 19 23  1  0  0  0\n",
      " 19 33  1  0  0  0\n",
      " 20 34  1  0  0  0\n",
      " 21 24  2  0  0  0\n",
      " 21 35  1  0  0  0\n",
      " 22 36  1  0  0  0\n",
      " 23 37  1  0  0  0\n",
      " 24 38  1  0  0  0\n",
      " 25 28  2  0  0  0\n",
      " 26 39  1  0  0  0\n",
      " 26 40  1  0  0  0\n",
      " 27 41  1  0  0  0\n",
      " 27 42  1  0  0  0\n",
      " 28 43  1  0  0  0\n",
      "M  END\n",
      "\n"
     ]
    }
   ],
   "source": [
    "print(dynophore_dict[\"ligand_mdl_mol_buffer\"])"
   ]
  },
  {
   "cell_type": "code",
   "execution_count": 5,
   "id": "98117237-3153-4b5a-97ff-1b8b1a7dbc64",
   "metadata": {},
   "outputs": [
    {
     "data": {
      "image/png": "[encoded data removed]",
      "text/plain": [
       "<rdkit.Chem.rdchem.Mol at 0x7fcafd4a6fa0>"
      ]
     },
     "execution_count": 5,
     "metadata": {},
     "output_type": "execute_result"
    }
   ],
   "source": [
    "mol = Chem.rdmolfiles.MolFromMolBlock(dynophore_dict[\"ligand_mdl_mol_buffer\"])\n",
    "mol"
   ]
  },
  {
   "cell_type": "code",
   "execution_count": null,
   "id": "67561550-11c4-48c4-b8d8-c8a594f6471f",
   "metadata": {},
   "outputs": [],
   "source": []
  }
 ],
 "metadata": {
  "kernelspec": {
   "display_name": "Python 3",
   "language": "python",
   "name": "python3"
  },
  "language_info": {
   "codemirror_mode": {
    "name": "ipython",
    "version": 3
   },
   "file_extension": ".py",
   "mimetype": "text/x-python",
   "name": "python",
   "nbconvert_exporter": "python",
   "pygments_lexer": "ipython3",
   "version": "3.9.4"
  },
  "widgets": {
   "application/vnd.jupyter.widget-state+json": {
    "state": {},
    "version_major": 2,
    "version_minor": 0
   }
  }
 },
 "nbformat": 4,
 "nbformat_minor": 5
}
