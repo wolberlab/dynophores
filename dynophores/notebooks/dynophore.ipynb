{
 "cells": [
  {
   "cell_type": "markdown",
   "metadata": {},
   "source": [
    "# Dynophore notebook"
   ]
  },
  {
   "cell_type": "markdown",
   "metadata": {},
   "source": [
    "## Introduction"
   ]
  },
  {
   "cell_type": "markdown",
   "metadata": {},
   "source": [
    "### What is a dynophore?\n",
    "\n",
    "* A **dynophore** is a collection of so-called superfeatures. \n",
    "* A **superfeature** is defined as a pharmacophore feature on the ligand side &mdash; defined by a feature type and one or more ligand atoms &mdash; that occurs at least once during an MD simulation. Example: HBA[4618] (feature type, ligand atom numbers)\n",
    "* A superfeature has a **point cloud**, where each point corresponds to the centroid of feature during one frame of the trajectory.\n",
    "* A superfeature can have one or more interaction partner(s) on the macromolecule side. These interaction partners are called **environmental partners**. Example: GLN-131-A[2057] (residue name, residue number, chain, atom serial numbers)."
   ]
  },
  {
   "cell_type": "markdown",
   "metadata": {},
   "source": [
    "### How to work with a dynophore?\n",
    "\n",
    "* **Dynophore raw data** can be analyzed conveniently right here in this notebook by working with the `Dynophore` class.\n",
    "* **Dynophore 2D view** shows all superfeatures on a 2D view of the structure-bound ligand using `rdkit`.\n",
    "* **Dynophore 3D view** maps each superfeature's point cloud in 3D using `nglview`, allowing for an easy visual inspection of the dynamic macromolecule-ligand interactions. Point clouds are rendered alongside the complex structure's topology and (optionally) the trajectory underlying the dynophore.\n",
    "* **Dynophore statistics** cover the occurrence of superfeatures and their environmental partners as well as distances between them."
   ]
  },
  {
   "cell_type": "code",
   "execution_count": null,
   "metadata": {},
   "outputs": [],
   "source": [
    "%load_ext autoreload\n",
    "%autoreload 2"
   ]
  },
  {
   "cell_type": "code",
   "execution_count": null,
   "metadata": {},
   "outputs": [],
   "source": [
    "%matplotlib widget"
   ]
  },
  {
   "cell_type": "code",
   "execution_count": null,
   "metadata": {},
   "outputs": [],
   "source": [
    "from pathlib import Path\n",
    "\n",
    "import nglview as nv\n",
    "\n",
    "# Import Dynophore class - contains all dynophore data\n",
    "import dynophores as dyno"
   ]
  },
  {
   "cell_type": "markdown",
   "metadata": {},
   "source": [
    "## Set data paths"
   ]
  },
  {
   "cell_type": "code",
   "execution_count": null,
   "metadata": {},
   "outputs": [],
   "source": [
    "dyno_path = Path(\"../tests/data/out\")\n",
    "pdb_path = Path(\"../tests/data/in/startframe.pdb\")\n",
    "dcd_path = Path(\"../tests/data/in/trajectory.dcd\")"
   ]
  },
  {
   "cell_type": "markdown",
   "metadata": {},
   "source": [
    "__Note__: You can set `dcd_path = None` in case you do not want to view the trajectory."
   ]
  },
  {
   "cell_type": "markdown",
   "metadata": {},
   "source": [
    "## Load data as `Dynophore` object\n",
    "\n",
    "You can load the dynophore data as `Dynophore` object. We will need this object below for visualization purposes but you can also use the raw data for your own customized analyses.\n",
    "\n",
    "__Note__: Check out [this tutorial](https://dynophores.readthedocs.io/en/latest/tutorials/explore_data.html) on the dynophore's data structure."
   ]
  },
  {
   "cell_type": "code",
   "execution_count": null,
   "metadata": {},
   "outputs": [],
   "source": [
    "dynophore = dyno.Dynophore.from_dir(dyno_path)"
   ]
  },
  {
   "cell_type": "markdown",
   "metadata": {},
   "source": [
    "## 2D view\n",
    "\n",
    "Investigate the dynophore's superfeatures in 2D; display the atom serial numbers (those will show up in the superfeatures' identifiers in the plots below)."
   ]
  },
  {
   "cell_type": "code",
   "execution_count": null,
   "metadata": {},
   "outputs": [],
   "source": [
    "dyno.view2d.interactive.show(dynophore)"
   ]
  },
  {
   "cell_type": "markdown",
   "metadata": {},
   "source": [
    "## 3D view\n",
    "\n",
    "Investigate the dynophore in 3D - you have different options that you can change in the method signature below:\n",
    "\n",
    "* `pdb_path` and `dcd_path` have been defined at the beginning of this notebook; these are the file paths to your complex structure's topology and trajectory (if you do not want to load the trajectory, set `dcd_path=None`).\n",
    "* `visualization_type`: `spheres` or `points`\n",
    "  * [Default] Show each frames features as small spheres with `visualization_type=spheres`.\n",
    "  * [Work-In-Progress] Render the dynophore cloud as more burred and connected points using `visualization_type=points` (still has some NGL rendering issues that we cannot fix on our end, see [NGL GitHub issue](https://github.com/nglviewer/ngl/issues/868))\n",
    "* `color_cloud_by_frame`: `False` or `True`\n",
    "  * [Default] Color cloud by superfeature type. Example: The points belonging to a HBA-based superfeature will all be colored red.\n",
    "  * Color cloud by superfeature type *and* frame index. Example: The points belonging to a HBA-based superfeauture will be colored from red (first frame) to light red (last frame).\n",
    "* `macromolecule_color`: Set a color for the macromolecule; defaults to blue.\n",
    "* `frame_range`: Show a selected frame range only, e.g. `frame_range=[100, 1000]`. By default, all frames are shown with `frame_range=None`.\n",
    "\n",
    "Interact directly with the 3D visualization using the NGL GUI:\n",
    "\n",
    "* Toogle on/off macromolecule > *cartoon*\n",
    "* Toogle on/off ligand > *hyperball*\n",
    "* Toogle on/off pocket residue side chains > *licorice*\n",
    "* Toogle on/off superfeatures > superfeature identifier e.g. *HBA[4618]*\n",
    "* Run trajectory if loaded"
   ]
  },
  {
   "cell_type": "code",
   "execution_count": null,
   "metadata": {},
   "outputs": [],
   "source": [
    "view = dyno.view3d.show(\n",
    "    dynophore,\n",
    "    pdb_path=pdb_path,\n",
    "    dcd_path=dcd_path,\n",
    "    visualization_type=\"spheres\",\n",
    "    color_cloud_by_frame=False,\n",
    "    macromolecule_color=\"#005780\",\n",
    "    frame_range=None,\n",
    ")\n",
    "view.display(gui=True, style=\"ngl\")"
   ]
  },
  {
   "cell_type": "markdown",
   "metadata": {},
   "source": [
    "In case a trajectory is loaded, use the `TrajectoryPlayer` for more visualization options:"
   ]
  },
  {
   "cell_type": "code",
   "execution_count": null,
   "metadata": {},
   "outputs": [],
   "source": [
    "nv.player.TrajectoryPlayer(view)"
   ]
  },
  {
   "cell_type": "markdown",
   "metadata": {},
   "source": [
    "## Statistics"
   ]
  },
  {
   "cell_type": "markdown",
   "metadata": {
    "tags": []
   },
   "source": [
    "### Plot interactions overview (heatmap)\n",
    "\n",
    "Check how often each superfeature interacts with which environmental partners throughout the MD simulation (in %)."
   ]
  },
  {
   "cell_type": "code",
   "execution_count": null,
   "metadata": {},
   "outputs": [],
   "source": [
    "dyno.plot.interactive.superfeatures_vs_envpartners(dynophore)"
   ]
  },
  {
   "cell_type": "markdown",
   "metadata": {},
   "source": [
    "### Plot superfeature occurrences (time series)\n",
    "\n",
    "Check when (barcode) and how often (in %) a superfeature $S$ occurs throughout the MD simulation.\n",
    "\n",
    "$S\\,\\text{occurrence [%]} = \\frac{\\text{Number of frames in which}\\,S\\,\\text{occurs}}{\\text{Number of frames}} \\times 100$"
   ]
  },
  {
   "cell_type": "code",
   "execution_count": null,
   "metadata": {},
   "outputs": [],
   "source": [
    "dyno.plot.interactive.superfeatures_occurrences(dynophore)"
   ]
  },
  {
   "cell_type": "markdown",
   "metadata": {},
   "source": [
    "### Plot interactions for example superfeature (time series)"
   ]
  },
  {
   "cell_type": "markdown",
   "metadata": {},
   "source": [
    "#### Interaction occurrence\n",
    "\n",
    "Check when (barcode) and how often (in %\\) each environmental partner $E$ interacts in context of a superfeature $S$ ($E_S$).\n",
    "\n",
    "$E_S\\,\\text{occurrence [%]} = \\frac{\\text{Number of frames where}\\,E\\,\\text{interacts in context of}\\,S}{\\text{Number of frames where}\\,S\\,\\text{occurs}} \\times 100$"
   ]
  },
  {
   "cell_type": "code",
   "execution_count": null,
   "metadata": {},
   "outputs": [],
   "source": [
    "dyno.plot.interactive.envpartners_occurrences(dynophore)"
   ]
  },
  {
   "cell_type": "markdown",
   "metadata": {},
   "source": [
    "#### Interaction distances\n",
    "\n",
    "Check for each superfeature, the distances to all environmental partners throughout the MD simulation. \n",
    "\n",
    "* **Time series**: Distances are shown for all frames regardless of whether that frame shows an interaction between the environmental partner and the superfeature's ligand atoms or not. Interactions are indicated with a dot in the plot.\n",
    "* **Histogram**: Only distances are shown that belong to frames in which an interaction between the environmental partner and the superfeature's ligand atoms ocurrs."
   ]
  },
  {
   "cell_type": "code",
   "execution_count": null,
   "metadata": {},
   "outputs": [],
   "source": [
    "dyno.plot.interactive.envpartners_distances(dynophore)"
   ]
  },
  {
   "cell_type": "markdown",
   "metadata": {},
   "source": [
    "#### Interaction profile (all-in-one)\n",
    "\n",
    "This is a summary of the plots shown above. Note that in this case *all* distances throughout the MD simulation are shown (regardless of whether the frame shows an interaction or not)."
   ]
  },
  {
   "cell_type": "code",
   "execution_count": null,
   "metadata": {},
   "outputs": [],
   "source": [
    "dyno.plot.interactive.envpartners_all_in_one(dynophore)"
   ]
  }
 ],
 "metadata": {
  "kernelspec": {
   "display_name": "Python 3 (ipykernel)",
   "language": "python",
   "name": "python3"
  },
  "language_info": {
   "codemirror_mode": {
    "name": "ipython",
    "version": 3
   },
   "file_extension": ".py",
   "mimetype": "text/x-python",
   "name": "python",
   "nbconvert_exporter": "python",
   "pygments_lexer": "ipython3",
   "version": "3.9.6"
  },
  "widgets": {
   "application/vnd.jupyter.widget-state+json": {
    "state": {},
    "version_major": 2,
    "version_minor": 0
   }
  }
 },
 "nbformat": 4,
 "nbformat_minor": 4
}
